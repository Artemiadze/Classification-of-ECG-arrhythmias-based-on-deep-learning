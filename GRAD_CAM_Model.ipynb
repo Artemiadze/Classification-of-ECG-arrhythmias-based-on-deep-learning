{
 "cells": [
  {
   "cell_type": "markdown",
   "metadata": {},
   "source": [
    "# A deep learning approach identifies new ECG features in congenital long QT syndrome.\n",
    "\n",
    "Aufiero, S.; Bleijendaal, H.; Robyns, T.; Vandenberk, B.; Krijger, C.; Bezzina, C.; Zwinderman, A.H.; Wilde, A.A.M.; Pinto, Y.M. ***A deep learning approach identifies new ECG features in congenital long QT syndrome***. *BMC Med*. 2022 \n",
    "\n",
    "### Introduction\n",
    "This study presents 1D convolutional neural network models trained to identify genotype positive LQTS patients from electrocardiogram as input. The deep learning (DL) models were trained with a large 10-s 12-lead ECGs dataset\n",
    "### Using the code in coursework\n",
    "This code was used for the course work of Artem Vlasov's student of group 23 CST 2 'Classification of arrhythmias by ECG based on in-depth learning'.\n",
    "### Data and code availability\n",
    "The 12-lead ECG data set used in this study is the CPSC2018 training dataset which is released by the first China Physiological Signal Challenge (CPSC) 2018 during the seventh International Conference on Biomedical Engineering and Biotechnology. Details of the CPSC2018 dataset can be found at http://2018.icbeb.org/Challenge.html. The source code is provided and is available at https://github.com/Aufiero/aiecglqts."
   ]
  },
  {
   "cell_type": "code",
   "execution_count": 2,
   "metadata": {
    "execution": {
     "iopub.execute_input": "2025-04-17T11:32:50.818829Z",
     "iopub.status.busy": "2025-04-17T11:32:50.818182Z",
     "iopub.status.idle": "2025-04-17T11:33:04.173297Z",
     "shell.execute_reply": "2025-04-17T11:33:04.172567Z",
     "shell.execute_reply.started": "2025-04-17T11:32:50.818801Z"
    },
    "trusted": true
   },
   "outputs": [
    {
     "name": "stderr",
     "output_type": "stream",
     "text": [
      "2025-04-17 11:32:52.204285: E external/local_xla/xla/stream_executor/cuda/cuda_fft.cc:477] Unable to register cuFFT factory: Attempting to register factory for plugin cuFFT when one has already been registered\n",
      "WARNING: All log messages before absl::InitializeLog() is called are written to STDERR\n",
      "E0000 00:00:1744889572.407933      31 cuda_dnn.cc:8310] Unable to register cuDNN factory: Attempting to register factory for plugin cuDNN when one has already been registered\n",
      "E0000 00:00:1744889572.471378      31 cuda_blas.cc:1418] Unable to register cuBLAS factory: Attempting to register factory for plugin cuBLAS when one has already been registered\n"
     ]
    }
   ],
   "source": [
    "# Model\n",
    "import tensorflow as tf\n",
    "from tensorflow.keras.models import Sequential, Model\n",
    "from tensorflow.keras.layers import Dense, Dropout, Conv1D, Flatten, LeakyReLU, BatchNormalization, MaxPooling1D\n",
    "from tensorflow.keras.metrics import Recall, Precision\n",
    "from tensorflow.keras.layers import GlobalAveragePooling1D\n",
    "from tensorflow.keras.optimizers import Adam\n",
    "from keras.layers import Input\n",
    "\n",
    "from tensorflow.keras.layers import (Input, Conv1D, BatchNormalization, LeakyReLU,\n",
    "                                     Add, MaxPooling1D, Dropout, GlobalAveragePooling1D, Dense)\n",
    "\n",
    "# Load libraries\n",
    "from tensorflow.keras.models import load_model\n",
    "from tensorflow.keras.callbacks import EarlyStopping\n",
    "import seaborn as sns\n",
    "from scipy.special import softmax"
   ]
  },
  {
   "cell_type": "code",
   "execution_count": null,
   "metadata": {
    "execution": {
     "iopub.execute_input": "2025-04-17T11:33:31.277048Z",
     "iopub.status.busy": "2025-04-17T11:33:31.275990Z",
     "iopub.status.idle": "2025-04-17T11:33:38.216630Z",
     "shell.execute_reply": "2025-04-17T11:33:38.215989Z",
     "shell.execute_reply.started": "2025-04-17T11:33:31.277009Z"
    },
    "trusted": true
   },
   "outputs": [],
   "source": [
    "import os\n",
    "from glob import glob\n",
    "\n",
    "import pandas as pd\n",
    "import numpy as np\n",
    "import matplotlib.pyplot as plt\n",
    "import matplotlib.animation as animation\n",
    "\n",
    "import wfdb\n",
    "from tqdm import tqdm\n",
    "from biosppy import ecg, tools\n",
    "import scipy\n",
    "\n",
    "import warnings\n",
    "import pywt\n",
    "\n",
    "from sklearn.metrics import precision_score, recall_score, f1_score, accuracy_score, roc_auc_score\n",
    "from sklearn.metrics import confusion_matrix"
   ]
  },
  {
   "cell_type": "markdown",
   "metadata": {},
   "source": [
    "Due to the lack of publicly available code for dataset preprocessing, the functions for data preprocessing were taken from the SHAP-based model."
   ]
  },
  {
   "cell_type": "code",
   "execution_count": null,
   "metadata": {
    "execution": {
     "iopub.execute_input": "2025-04-17T11:35:18.823373Z",
     "iopub.status.busy": "2025-04-17T11:35:18.823079Z",
     "iopub.status.idle": "2025-04-17T11:35:18.831749Z",
     "shell.execute_reply": "2025-04-17T11:35:18.830980Z",
     "shell.execute_reply.started": "2025-04-17T11:35:18.823350Z"
    },
    "trusted": true
   },
   "outputs": [],
   "source": [
    "def cal_entropy(coeff):\n",
    "    coeff = pd.Series(coeff).value_counts()\n",
    "    entropy = scipy.stats.entropy(coeff)\n",
    "    return entropy / 10\n",
    "\n",
    "\n",
    "def cal_statistics(signal):\n",
    "    n5 = np.percentile(signal, 5)\n",
    "    n25 = np.percentile(signal, 25)\n",
    "    n75 = np.percentile(signal, 75)\n",
    "    n95 = np.percentile(signal, 95)\n",
    "    median = np.percentile(signal, 50)\n",
    "    mean = np.mean(signal)\n",
    "    std = np.std(signal)\n",
    "    var = np.var(signal)\n",
    "    return [n5, n25, n75, n95, median, mean, std, var]\n",
    "\n",
    "\n",
    "def extract_lead_heart_rate(signal, sampling_rate):\n",
    "    # extract heart rate for single-lead ECG: may return empty list\n",
    "    rpeaks, = ecg.hamilton_segmenter(signal=signal, sampling_rate=sampling_rate)\n",
    "    rpeaks, = ecg.correct_rpeaks(signal=signal, rpeaks=rpeaks, sampling_rate=sampling_rate, tol=0.05)\n",
    "    _, heartrates = tools.get_heart_rate(beats=rpeaks, sampling_rate=500, smooth=True, size=3)\n",
    "    return list(heartrates / 100) # divided by 100\n",
    "\n",
    "\n",
    "def extract_heart_rates(ecg_data, sampling_rate=500):\n",
    "    # extract heart rates using 12-lead since rpeaks can not be detected on some leads\n",
    "    heartrates = []\n",
    "    for signal in ecg_data.T:\n",
    "        lead_heartrates = extract_lead_heart_rate(signal=signal, sampling_rate=sampling_rate)\n",
    "        heartrates += lead_heartrates\n",
    "    return cal_statistics(heartrates)\n",
    "\n",
    "\n",
    "def extract_lead_features(signal):\n",
    "    # extract expert features for single-lead ECGs: statistics, shannon entropy\n",
    "    lead_features = cal_statistics(signal) # statistic of signal\n",
    "    coeffs = pywt.wavedec(signal, 'db10', level=4)\n",
    "    for coeff in coeffs:\n",
    "        lead_features.append(cal_entropy(coeff)) # shannon entropy of coefficients\n",
    "        lead_features += cal_statistics(coeff) # statistics of coefficients\n",
    "    return lead_features\n",
    "\n",
    "\n",
    "def extract_features(ecg_data, sampling_rate=500):\n",
    "    # extract expert features for 12-lead ECGs\n",
    "    # may include heart rates later\n",
    "    all_features = []\n",
    "    for signal in ecg_data.T:\n",
    "        all_features += extract_lead_features(signal)\n",
    "    return all_features"
   ]
  },
  {
   "cell_type": "code",
   "execution_count": null,
   "metadata": {
    "execution": {
     "iopub.execute_input": "2025-04-17T11:35:22.170370Z",
     "iopub.status.busy": "2025-04-17T11:35:22.169754Z",
     "iopub.status.idle": "2025-04-17T11:35:22.179574Z",
     "shell.execute_reply": "2025-04-17T11:35:22.178836Z",
     "shell.execute_reply.started": "2025-04-17T11:35:22.170342Z"
    },
    "trusted": true
   },
   "outputs": [],
   "source": [
    "def split_data(seed=42):\n",
    "    folds = range(1, 11)\n",
    "    folds = np.random.RandomState(seed).permutation(folds)\n",
    "    return folds[:8], folds[8:9], folds[9:]\n",
    "\n",
    "\n",
    "def prepare_input(ecg_file: str, leads_idx=None, target_length=2500):\n",
    "    if ecg_file.endswith('.mat'):\n",
    "        ecg_file = ecg_file[:-4]\n",
    "    \n",
    "    ecg_data, _ = wfdb.rdsamp(ecg_file)  # (timesteps, leads)\n",
    "    if leads_idx is not None:\n",
    "        ecg_data = ecg_data[:, leads_idx]\n",
    "    \n",
    "    nsteps, nleads = ecg_data.shape\n",
    "    ecg_data = ecg_data[-target_length:, :] \n",
    "    result = np.zeros((target_length, nleads))\n",
    "    result[-nsteps:, :] = ecg_data\n",
    "    \n",
    "    return result\n",
    "\n",
    "\n",
    "def cal_scores(y_true, y_pred, y_score):\n",
    "    precision = precision_score(y_true, y_pred)\n",
    "    recall = recall_score(y_true, y_pred)\n",
    "    f1 = f1_score(y_true, y_pred)\n",
    "    auc = roc_auc_score(y_true, y_score)\n",
    "    acc = accuracy_score(y_true, y_pred)\n",
    "    return precision, recall, f1, auc, acc\n",
    "\n",
    "\n",
    "def find_optimal_threshold(y_true, y_score):\n",
    "    thresholds = np.linspace(0, 1, 100)\n",
    "    f1s = [f1_score(y_true, y_score > threshold) for threshold in thresholds]\n",
    "    return thresholds[np.argmax(f1s)]\n",
    "\n",
    "\n",
    "def cal_f1(y_true, y_score, find_optimal):\n",
    "    if find_optimal:\n",
    "        thresholds = np.linspace(0, 1, 100)\n",
    "    else:\n",
    "        thresholds = [0.5]\n",
    "    f1s = [f1_score(y_true, y_score > threshold) for threshold in thresholds]\n",
    "    return np.max(f1s)\n",
    "\n",
    "\n",
    "def cal_f1s(y_trues, y_scores, find_optimal=True):\n",
    "    f1s = []\n",
    "    for i in range(y_trues.shape[1]):\n",
    "        f1 = cal_f1(y_trues[:, i], y_scores[:, i], find_optimal)\n",
    "        f1s.append(f1)\n",
    "    return np.array(f1s)\n",
    "\n",
    "\n",
    "def cal_aucs(y_trues, y_scores):\n",
    "    return roc_auc_score(y_trues, y_scores, average=None)"
   ]
  },
  {
   "cell_type": "code",
   "execution_count": 9,
   "metadata": {
    "execution": {
     "iopub.execute_input": "2025-04-17T11:35:25.476813Z",
     "iopub.status.busy": "2025-04-17T11:35:25.476561Z",
     "iopub.status.idle": "2025-04-17T11:35:25.486646Z",
     "shell.execute_reply": "2025-04-17T11:35:25.485902Z",
     "shell.execute_reply.started": "2025-04-17T11:35:25.476796Z"
    },
    "trusted": true
   },
   "outputs": [],
   "source": [
    "def gen_reference_csv(data_dir, reference_csv):\n",
    "    if not os.path.exists(reference_csv):\n",
    "        recordpaths = glob(os.path.join(data_dir, '*.hea'))\n",
    "        results = []\n",
    "        for recordpath in recordpaths:\n",
    "            patient_id = recordpath.split('/')[-1][:-4]\n",
    "            _, meta_data = wfdb.rdsamp(recordpath[:-4])\n",
    "            sample_rate = meta_data['fs']\n",
    "            signal_len = meta_data['sig_len']\n",
    "            age = meta_data['comments'][0]\n",
    "            sex = meta_data['comments'][1]\n",
    "            dx = meta_data['comments'][2]\n",
    "            age = age[5:] if age.startswith('Age: ') else np.NaN\n",
    "            sex = sex[5:] if sex.startswith('Sex: ') else 'Unknown'\n",
    "            dx = dx[4:] if dx.startswith('Dx: ') else ''\n",
    "            results.append([patient_id, sample_rate, signal_len, age, sex, dx])\n",
    "        df = pd.DataFrame(data=results, columns=['patient_id', 'sample_rate', 'signal_len', 'age', 'sex', 'dx'])\n",
    "        df.sort_values('patient_id').to_csv(reference_csv, index=None)\n",
    "\n",
    "\n",
    "def gen_label_csv(label_csv, reference_csv, dx_dict, classes):\n",
    "    if not os.path.exists(label_csv):\n",
    "        results = []\n",
    "        df_reference = pd.read_csv(reference_csv)\n",
    "        for _, row in df_reference.iterrows():\n",
    "            patient_id = row['patient_id']\n",
    "            dxs = [dx_dict.get(code, '') for code in row['dx'].split(',')]\n",
    "            labels = [0] * 9\n",
    "            for idx, label in enumerate(classes):\n",
    "                if label in dxs:\n",
    "                    labels[idx] = 1\n",
    "            results.append([patient_id] + labels)\n",
    "        df = pd.DataFrame(data=results, columns=['patient_id'] + classes)\n",
    "        n = len(df)\n",
    "        folds = np.zeros(n, dtype=np.int8)\n",
    "        for i in range(10):\n",
    "            start = int(n * i / 10)\n",
    "            end = int(n * (i + 1) / 10)\n",
    "            folds[start:end] = i + 1\n",
    "        df['fold'] = np.random.permutation(folds)\n",
    "        columns = df.columns\n",
    "        df['keep'] = df[classes].sum(axis=1)\n",
    "        df = df[df['keep'] > 0]\n",
    "        df[columns].to_csv(label_csv, index=None)"
   ]
  },
  {
   "cell_type": "code",
   "execution_count": 10,
   "metadata": {
    "execution": {
     "iopub.execute_input": "2025-04-17T11:35:29.349597Z",
     "iopub.status.busy": "2025-04-17T11:35:29.349117Z",
     "iopub.status.idle": "2025-04-17T11:37:37.253895Z",
     "shell.execute_reply": "2025-04-17T11:37:37.253295Z",
     "shell.execute_reply.started": "2025-04-17T11:35:29.349575Z"
    },
    "trusted": true
   },
   "outputs": [],
   "source": [
    "if __name__ == \"__main__\":\n",
    "    leads = ['I', 'II', 'III', 'aVR', 'aVL', 'aVF', 'V1', 'V2', 'V3', 'V4', 'V5', 'V6']\n",
    "    dx_dict = {\n",
    "        '426783006': 'SNR', # Normal sinus rhythm\n",
    "        '164889003': 'AF', # Atrial fibrillation\n",
    "        '270492004': 'IAVB', # First-degree atrioventricular block\n",
    "        '164909002': 'LBBB', # Left bundle branch block\n",
    "        '713427006': 'RBBB', # Complete right bundle branch block\n",
    "        '59118001': 'RBBB', # Right bundle branch block\n",
    "        '284470004': 'PAC', # Premature atrial contraction\n",
    "        '63593006': 'PAC', # Supraventricular premature beats\n",
    "        '164884008': 'PVC', # Ventricular ectopics\n",
    "        '429622005': 'STD', # ST-segment depression\n",
    "        '164931005': 'STE', # ST-segment elevation\n",
    "    }\n",
    "    classes = ['SNR', 'AF', 'IAVB', 'LBBB', 'RBBB', 'PAC', 'PVC', 'STD', 'STE']\n",
    "    data_dir = \"/kaggle/input/dataset-map/CPSC\"\n",
    "    output_dir = '/kaggle/working/'\n",
    "    reference_csv = os.path.join(output_dir, 'reference.csv')\n",
    "    label_csv = os.path.join(output_dir, 'labels.csv')\n",
    "    gen_reference_csv(data_dir, reference_csv)\n",
    "    gen_label_csv(label_csv, reference_csv, dx_dict, classes)"
   ]
  },
  {
   "cell_type": "code",
   "execution_count": 11,
   "metadata": {
    "execution": {
     "iopub.execute_input": "2025-04-17T11:38:07.304667Z",
     "iopub.status.busy": "2025-04-17T11:38:07.304080Z",
     "iopub.status.idle": "2025-04-17T11:38:07.309144Z",
     "shell.execute_reply": "2025-04-17T11:38:07.308451Z",
     "shell.execute_reply.started": "2025-04-17T11:38:07.304646Z"
    },
    "trusted": true
   },
   "outputs": [],
   "source": [
    "warnings.filterwarnings('ignore', category=FutureWarning)\n",
    "\n",
    "def generate_features_csv(features_csv, data_dir, patient_ids):\n",
    "    print('Generating expert features...')\n",
    "    ecg_features = []\n",
    "    for patient_id in tqdm(patient_ids):\n",
    "        ecg_data, _ = wfdb.rdsamp(os.path.join(data_dir, patient_id))\n",
    "        ecg_features.append(extract_features(ecg_data))\n",
    "    df = pd.DataFrame(ecg_features, index=patient_ids)\n",
    "    df.index.name = 'patient_id'\n",
    "    df.to_csv(features_csv)\n",
    "    return df"
   ]
  },
  {
   "cell_type": "code",
   "execution_count": null,
   "metadata": {
    "execution": {
     "iopub.execute_input": "2025-04-17T11:38:09.710370Z",
     "iopub.status.busy": "2025-04-17T11:38:09.710102Z",
     "iopub.status.idle": "2025-04-17T11:38:09.715205Z",
     "shell.execute_reply": "2025-04-17T11:38:09.714580Z",
     "shell.execute_reply.started": "2025-04-17T11:38:09.710348Z"
    },
    "trusted": true
   },
   "outputs": [],
   "source": [
    "def prepare_data(patient_ids, folds, data_dir, target_length=2500):\n",
    "    X = []\n",
    "    for patient_id in patient_ids:\n",
    "        if df_labels[df_labels['patient_id'] == patient_id]['fold'].iloc[0] in folds:\n",
    "            ecg_file = os.path.join(data_dir, patient_id)\n",
    "            ecg_data = prepare_input(ecg_file, leads_idx=None, target_length=target_length)\n",
    "            X.append(ecg_data)\n",
    "    return np.array(X)  # (n_samples, 2500, 12)"
   ]
  },
  {
   "cell_type": "code",
   "execution_count": 56,
   "metadata": {
    "execution": {
     "iopub.execute_input": "2025-04-17T12:37:42.775329Z",
     "iopub.status.busy": "2025-04-17T12:37:42.774513Z",
     "iopub.status.idle": "2025-04-17T12:38:42.680319Z",
     "shell.execute_reply": "2025-04-17T12:38:42.679428Z",
     "shell.execute_reply.started": "2025-04-17T12:37:42.775303Z"
    },
    "trusted": true
   },
   "outputs": [
    {
     "name": "stdout",
     "output_type": "stream",
     "text": [
      "Done\n"
     ]
    }
   ],
   "source": [
    "if __name__ == \"__main__\":\n",
    "    classes = ['SNR', 'AF', 'IAVB', 'LBBB', 'RBBB', 'PAC', 'PVC', 'STD', 'STE']\n",
    "    data_dir = \"/kaggle/input/dataset-map/CPSC\"\n",
    "    output_dir = '/kaggle/working/'\n",
    "    features_csv = os.path.join(output_dir, 'features.csv')\n",
    "    labels_csv = os.path.join(output_dir, 'labels.csv')\n",
    "\n",
    "    df_labels = pd.read_csv(labels_csv)\n",
    "    patient_ids = df_labels['patient_id'].tolist()\n",
    "    if not os.path.exists(features_csv):\n",
    "        df_X = generate_features_csv(features_csv, data_dir, patient_ids)\n",
    "    else:\n",
    "        df_X = pd.read_csv(features_csv)\n",
    "    df_X = df_X.merge(df_labels[['patient_id', 'fold']], on='patient_id')\n",
    "\n",
    "    train_folds, val_folds, test_folds = split_data(seed=42)\n",
    "    feature_cols = df_X.columns[1:-1] # remove patient id and fold\n",
    "\n",
    "    # Подготовка данных\n",
    "    X_train = prepare_data(patient_ids, train_folds, data_dir)\n",
    "    X_val = prepare_data(patient_ids, val_folds, data_dir)\n",
    "    X_test = prepare_data(patient_ids, test_folds, data_dir)\n",
    "\n",
    "    y_train = df_labels[df_labels['fold'].isin(train_folds)][classes].to_numpy()\n",
    "    y_val = df_labels[df_labels['fold'].isin(val_folds)][classes].to_numpy()\n",
    "    y_test = df_labels[df_labels['fold'].isin(test_folds)][classes].to_numpy()\n",
    "\n",
    "    print(\"Done\")"
   ]
  },
  {
   "cell_type": "markdown",
   "metadata": {},
   "source": [
    "# CNN "
   ]
  },
  {
   "cell_type": "code",
   "execution_count": 19,
   "metadata": {
    "execution": {
     "iopub.execute_input": "2025-04-17T12:00:29.237630Z",
     "iopub.status.busy": "2025-04-17T12:00:29.236925Z",
     "iopub.status.idle": "2025-04-17T12:00:29.244385Z",
     "shell.execute_reply": "2025-04-17T12:00:29.243693Z",
     "shell.execute_reply.started": "2025-04-17T12:00:29.237609Z"
    },
    "trusted": true
   },
   "outputs": [],
   "source": [
    "def get1DCNN(xTrain, nClasses, loss, activationDense):\n",
    "    nTimesteps, nFeatures = xTrain.shape[1], xTrain.shape[2]\n",
    "    inputs = Input(shape=(nTimesteps, nFeatures))\n",
    "\n",
    "    x = inputs\n",
    "    for i in range(3):  # Первые 3 блока с kernel_size = 3\n",
    "        x = Conv1D(filters=12, kernel_size=3, strides=1, padding='same', name=f'conv3_block_{i+1}')(x)\n",
    "        x = LeakyReLU(negative_slope=0.3)(x)\n",
    "        x = BatchNormalization()(x)\n",
    "        x = MaxPooling1D(pool_size=2, strides=2, padding='same')(x)\n",
    "        x = Dropout(0.25)(x)\n",
    "\n",
    "    for i in range(6):  # Следующие 6 блоков с kernel_size = 5\n",
    "        x = Conv1D(filters=12, kernel_size=5, strides=1, padding='same', name=f'conv5_block_{i+1}')(x)\n",
    "        x = LeakyReLU(negative_slope=0.3)(x)\n",
    "        x = BatchNormalization()(x)\n",
    "        x = MaxPooling1D(pool_size=2, strides=2, padding='same')(x)\n",
    "        x = Dropout(0.25)(x)\n",
    "\n",
    "    x = GlobalAveragePooling1D(name=\"gap\")(x)\n",
    "    outputs = Dense(units=nClasses, activation=activationDense, name=\"classifier\")(x)\n",
    "\n",
    "    model = Model(inputs=inputs, outputs=outputs, name=\"1DCNN_ECG_GradCAM\")\n",
    "    model.compile(\n",
    "        loss=loss,\n",
    "        optimizer=Adam(learning_rate=0.001),\n",
    "        metrics=['accuracy', Recall(name='recall'), Precision(name='precision')]\n",
    "    )\n",
    "\n",
    "    return model\n"
   ]
  },
  {
   "cell_type": "markdown",
   "metadata": {},
   "source": [
    "# Обучение модели"
   ]
  },
  {
   "cell_type": "code",
   "execution_count": 54,
   "metadata": {
    "execution": {
     "iopub.execute_input": "2025-04-17T12:31:22.308876Z",
     "iopub.status.busy": "2025-04-17T12:31:22.308133Z",
     "iopub.status.idle": "2025-04-17T12:31:22.313447Z",
     "shell.execute_reply": "2025-04-17T12:31:22.312767Z",
     "shell.execute_reply.started": "2025-04-17T12:31:22.308843Z"
    },
    "trusted": true
   },
   "outputs": [
    {
     "name": "stdout",
     "output_type": "stream",
     "text": [
      "3\n"
     ]
    }
   ],
   "source": [
    "print(np.sum(y_train, axis=1).max())"
   ]
  },
  {
   "cell_type": "markdown",
   "metadata": {},
   "source": [
    "So we have a multilabel classification, because:\n",
    "1. In one example, up to 3 classes can be active at the same time.;\n",
    "2. this means that each class is not mutually exclusive (not multiclass)."
   ]
  },
  {
   "cell_type": "code",
   "execution_count": null,
   "metadata": {
    "execution": {
     "iopub.execute_input": "2025-04-17T12:40:32.253289Z",
     "iopub.status.busy": "2025-04-17T12:40:32.252689Z",
     "iopub.status.idle": "2025-04-17T12:40:32.260076Z",
     "shell.execute_reply": "2025-04-17T12:40:32.259450Z",
     "shell.execute_reply.started": "2025-04-17T12:40:32.253265Z"
    },
    "trusted": true
   },
   "outputs": [
    {
     "name": "stdout",
     "output_type": "stream",
     "text": [
      "Class weights: {0: 1.213183421516755, 1: 0.934930343187224, 2: 1.6495803357314147, 3: 6.114444444444445, 4: 0.6768757687576876, 5: 2.0750377073906483, 6: 1.8755964553510567, 7: 1.460456475583864, 8: 6.281963470319635}\n"
     ]
    }
   ],
   "source": [
    "from sklearn.utils.class_weight import compute_class_weight\n",
    "\n",
    "# computation the weights for every classes\n",
    "y_bin = y_train if y_train.ndim == 1 else y_train.argmax(axis=1)\n",
    "class_weights = compute_class_weight(class_weight='balanced', classes=np.unique(y_bin), y=y_bin)\n",
    "class_weights = np.array(class_weights) * 1.5\n",
    "class_weight_dict = dict(enumerate(class_weights))\n",
    "print(\"Class weights:\", class_weight_dict)"
   ]
  },
  {
   "cell_type": "code",
   "execution_count": 67,
   "metadata": {
    "execution": {
     "iopub.execute_input": "2025-04-17T12:48:04.201336Z",
     "iopub.status.busy": "2025-04-17T12:48:04.200798Z",
     "iopub.status.idle": "2025-04-17T12:50:00.431123Z",
     "shell.execute_reply": "2025-04-17T12:50:00.430464Z",
     "shell.execute_reply.started": "2025-04-17T12:48:04.201315Z"
    },
    "trusted": true
   },
   "outputs": [
    {
     "name": "stdout",
     "output_type": "stream",
     "text": [
      "Epoch 1/100\n",
      "\u001b[1m86/86\u001b[0m \u001b[32m━━━━━━━━━━━━━━━━━━━━\u001b[0m\u001b[37m\u001b[0m \u001b[1m29s\u001b[0m 134ms/step - accuracy: 0.0984 - loss: 1.0227 - precision: 0.1095 - recall: 0.3794 - val_accuracy: 0.1266 - val_loss: 0.6274 - val_precision: 0.1757 - val_recall: 0.2879\n",
      "Epoch 2/100\n",
      "\u001b[1m86/86\u001b[0m \u001b[32m━━━━━━━━━━━━━━━━━━━━\u001b[0m\u001b[37m\u001b[0m \u001b[1m1s\u001b[0m 10ms/step - accuracy: 0.1223 - loss: 0.7291 - precision: 0.1271 - recall: 0.1073 - val_accuracy: 0.1295 - val_loss: 0.4804 - val_precision: 0.1338 - val_recall: 0.1119\n",
      "Epoch 3/100\n",
      "\u001b[1m86/86\u001b[0m \u001b[32m━━━━━━━━━━━━━━━━━━━━\u001b[0m\u001b[37m\u001b[0m \u001b[1m1s\u001b[0m 10ms/step - accuracy: 0.1238 - loss: 0.5960 - precision: 0.1480 - recall: 0.0262 - val_accuracy: 0.1528 - val_loss: 0.4149 - val_precision: 0.8000 - val_recall: 0.0055\n",
      "Epoch 4/100\n",
      "\u001b[1m86/86\u001b[0m \u001b[32m━━━━━━━━━━━━━━━━━━━━\u001b[0m\u001b[37m\u001b[0m \u001b[1m1s\u001b[0m 9ms/step - accuracy: 0.1556 - loss: 0.5368 - precision: 0.3626 - recall: 0.0252 - val_accuracy: 0.1485 - val_loss: 0.3809 - val_precision: 0.7273 - val_recall: 0.0109\n",
      "Epoch 5/100\n",
      "\u001b[1m86/86\u001b[0m \u001b[32m━━━━━━━━━━━━━━━━━━━━\u001b[0m\u001b[37m\u001b[0m \u001b[1m1s\u001b[0m 10ms/step - accuracy: 0.1962 - loss: 0.5128 - precision: 0.4288 - recall: 0.0309 - val_accuracy: 0.1456 - val_loss: 0.3941 - val_precision: 0.8667 - val_recall: 0.0177\n",
      "Epoch 6/100\n",
      "\u001b[1m86/86\u001b[0m \u001b[32m━━━━━━━━━━━━━━━━━━━━\u001b[0m\u001b[37m\u001b[0m \u001b[1m1s\u001b[0m 9ms/step - accuracy: 0.2555 - loss: 0.4986 - precision: 0.5750 - recall: 0.0619 - val_accuracy: 0.1878 - val_loss: 0.3833 - val_precision: 0.8261 - val_recall: 0.0259\n",
      "Epoch 7/100\n",
      "\u001b[1m86/86\u001b[0m \u001b[32m━━━━━━━━━━━━━━━━━━━━\u001b[0m\u001b[37m\u001b[0m \u001b[1m1s\u001b[0m 9ms/step - accuracy: 0.2997 - loss: 0.4703 - precision: 0.7110 - recall: 0.1010 - val_accuracy: 0.2606 - val_loss: 0.3681 - val_precision: 0.8333 - val_recall: 0.0341\n",
      "Epoch 8/100\n",
      "\u001b[1m86/86\u001b[0m \u001b[32m━━━━━━━━━━━━━━━━━━━━\u001b[0m\u001b[37m\u001b[0m \u001b[1m1s\u001b[0m 10ms/step - accuracy: 0.3186 - loss: 0.4655 - precision: 0.7210 - recall: 0.1384 - val_accuracy: 0.3130 - val_loss: 0.3454 - val_precision: 0.8955 - val_recall: 0.0819\n",
      "Epoch 9/100\n",
      "\u001b[1m86/86\u001b[0m \u001b[32m━━━━━━━━━━━━━━━━━━━━\u001b[0m\u001b[37m\u001b[0m \u001b[1m1s\u001b[0m 10ms/step - accuracy: 0.3550 - loss: 0.4560 - precision: 0.7558 - recall: 0.1538 - val_accuracy: 0.3319 - val_loss: 0.3365 - val_precision: 0.8878 - val_recall: 0.1187\n",
      "Epoch 10/100\n",
      "\u001b[1m86/86\u001b[0m \u001b[32m━━━━━━━━━━━━━━━━━━━━\u001b[0m\u001b[37m\u001b[0m \u001b[1m1s\u001b[0m 10ms/step - accuracy: 0.3612 - loss: 0.4466 - precision: 0.7967 - recall: 0.1729 - val_accuracy: 0.3668 - val_loss: 0.3268 - val_precision: 0.8898 - val_recall: 0.1542\n",
      "Epoch 11/100\n",
      "\u001b[1m86/86\u001b[0m \u001b[32m━━━━━━━━━━━━━━━━━━━━\u001b[0m\u001b[37m\u001b[0m \u001b[1m1s\u001b[0m 9ms/step - accuracy: 0.3836 - loss: 0.4379 - precision: 0.8092 - recall: 0.1860 - val_accuracy: 0.3668 - val_loss: 0.3178 - val_precision: 0.8276 - val_recall: 0.1637\n",
      "Epoch 12/100\n",
      "\u001b[1m86/86\u001b[0m \u001b[32m━━━━━━━━━━━━━━━━━━━━\u001b[0m\u001b[37m\u001b[0m \u001b[1m1s\u001b[0m 10ms/step - accuracy: 0.3830 - loss: 0.4347 - precision: 0.7758 - recall: 0.1858 - val_accuracy: 0.3668 - val_loss: 0.3091 - val_precision: 0.8217 - val_recall: 0.1760\n",
      "Epoch 13/100\n",
      "\u001b[1m86/86\u001b[0m \u001b[32m━━━━━━━━━━━━━━━━━━━━\u001b[0m\u001b[37m\u001b[0m \u001b[1m1s\u001b[0m 10ms/step - accuracy: 0.3933 - loss: 0.4334 - precision: 0.7710 - recall: 0.1929 - val_accuracy: 0.3814 - val_loss: 0.3053 - val_precision: 0.7926 - val_recall: 0.2033\n",
      "Epoch 14/100\n",
      "\u001b[1m86/86\u001b[0m \u001b[32m━━━━━━━━━━━━━━━━━━━━\u001b[0m\u001b[37m\u001b[0m \u001b[1m1s\u001b[0m 10ms/step - accuracy: 0.4186 - loss: 0.4225 - precision: 0.8021 - recall: 0.2057 - val_accuracy: 0.3741 - val_loss: 0.3116 - val_precision: 0.7459 - val_recall: 0.1842\n",
      "Epoch 15/100\n",
      "\u001b[1m86/86\u001b[0m \u001b[32m━━━━━━━━━━━━━━━━━━━━\u001b[0m\u001b[37m\u001b[0m \u001b[1m1s\u001b[0m 9ms/step - accuracy: 0.4070 - loss: 0.4188 - precision: 0.7797 - recall: 0.2112 - val_accuracy: 0.3828 - val_loss: 0.3156 - val_precision: 0.6907 - val_recall: 0.2224\n",
      "Epoch 16/100\n",
      "\u001b[1m86/86\u001b[0m \u001b[32m━━━━━━━━━━━━━━━━━━━━\u001b[0m\u001b[37m\u001b[0m \u001b[1m1s\u001b[0m 9ms/step - accuracy: 0.4392 - loss: 0.4193 - precision: 0.7948 - recall: 0.2185 - val_accuracy: 0.4294 - val_loss: 0.2807 - val_precision: 0.7510 - val_recall: 0.2551\n",
      "Epoch 17/100\n",
      "\u001b[1m86/86\u001b[0m \u001b[32m━━━━━━━━━━━━━━━━━━━━\u001b[0m\u001b[37m\u001b[0m \u001b[1m1s\u001b[0m 10ms/step - accuracy: 0.4334 - loss: 0.4179 - precision: 0.7765 - recall: 0.2195 - val_accuracy: 0.4134 - val_loss: 0.2884 - val_precision: 0.7059 - val_recall: 0.2947\n",
      "Epoch 18/100\n",
      "\u001b[1m86/86\u001b[0m \u001b[32m━━━━━━━━━━━━━━━━━━━━\u001b[0m\u001b[37m\u001b[0m \u001b[1m1s\u001b[0m 10ms/step - accuracy: 0.4412 - loss: 0.4116 - precision: 0.7836 - recall: 0.2332 - val_accuracy: 0.4527 - val_loss: 0.2761 - val_precision: 0.7231 - val_recall: 0.3029\n",
      "Epoch 19/100\n",
      "\u001b[1m86/86\u001b[0m \u001b[32m━━━━━━━━━━━━━━━━━━━━\u001b[0m\u001b[37m\u001b[0m \u001b[1m1s\u001b[0m 10ms/step - accuracy: 0.4653 - loss: 0.4021 - precision: 0.7995 - recall: 0.2466 - val_accuracy: 0.4425 - val_loss: 0.2750 - val_precision: 0.7281 - val_recall: 0.3179\n",
      "Epoch 20/100\n",
      "\u001b[1m86/86\u001b[0m \u001b[32m━━━━━━━━━━━━━━━━━━━━\u001b[0m\u001b[37m\u001b[0m \u001b[1m1s\u001b[0m 10ms/step - accuracy: 0.4514 - loss: 0.4014 - precision: 0.7883 - recall: 0.2454 - val_accuracy: 0.4178 - val_loss: 0.2881 - val_precision: 0.6860 - val_recall: 0.3397\n",
      "Epoch 21/100\n",
      "\u001b[1m86/86\u001b[0m \u001b[32m━━━━━━━━━━━━━━━━━━━━\u001b[0m\u001b[37m\u001b[0m \u001b[1m1s\u001b[0m 11ms/step - accuracy: 0.4689 - loss: 0.4009 - precision: 0.7830 - recall: 0.2553 - val_accuracy: 0.4381 - val_loss: 0.2758 - val_precision: 0.6746 - val_recall: 0.3479\n",
      "Epoch 22/100\n",
      "\u001b[1m86/86\u001b[0m \u001b[32m━━━━━━━━━━━━━━━━━━━━\u001b[0m\u001b[37m\u001b[0m \u001b[1m1s\u001b[0m 10ms/step - accuracy: 0.4763 - loss: 0.3968 - precision: 0.7787 - recall: 0.2553 - val_accuracy: 0.4847 - val_loss: 0.2668 - val_precision: 0.7116 - val_recall: 0.3602\n",
      "Epoch 23/100\n",
      "\u001b[1m86/86\u001b[0m \u001b[32m━━━━━━━━━━━━━━━━━━━━\u001b[0m\u001b[37m\u001b[0m \u001b[1m1s\u001b[0m 10ms/step - accuracy: 0.4750 - loss: 0.3921 - precision: 0.7752 - recall: 0.2564 - val_accuracy: 0.5022 - val_loss: 0.2581 - val_precision: 0.7318 - val_recall: 0.3424\n",
      "Epoch 24/100\n",
      "\u001b[1m86/86\u001b[0m \u001b[32m━━━━━━━━━━━━━━━━━━━━\u001b[0m\u001b[37m\u001b[0m \u001b[1m1s\u001b[0m 9ms/step - accuracy: 0.4774 - loss: 0.3867 - precision: 0.7598 - recall: 0.2607 - val_accuracy: 0.4658 - val_loss: 0.2679 - val_precision: 0.7330 - val_recall: 0.3520\n",
      "Epoch 25/100\n",
      "\u001b[1m86/86\u001b[0m \u001b[32m━━━━━━━━━━━━━━━━━━━━\u001b[0m\u001b[37m\u001b[0m \u001b[1m1s\u001b[0m 9ms/step - accuracy: 0.5066 - loss: 0.3896 - precision: 0.7818 - recall: 0.2665 - val_accuracy: 0.4891 - val_loss: 0.2644 - val_precision: 0.7128 - val_recall: 0.3724\n",
      "Epoch 26/100\n",
      "\u001b[1m86/86\u001b[0m \u001b[32m━━━━━━━━━━━━━━━━━━━━\u001b[0m\u001b[37m\u001b[0m \u001b[1m1s\u001b[0m 9ms/step - accuracy: 0.5051 - loss: 0.3876 - precision: 0.7761 - recall: 0.2660 - val_accuracy: 0.4571 - val_loss: 0.2738 - val_precision: 0.7013 - val_recall: 0.3683\n",
      "Epoch 27/100\n",
      "\u001b[1m86/86\u001b[0m \u001b[32m━━━━━━━━━━━━━━━━━━━━\u001b[0m\u001b[37m\u001b[0m \u001b[1m1s\u001b[0m 10ms/step - accuracy: 0.4971 - loss: 0.3829 - precision: 0.7723 - recall: 0.2824 - val_accuracy: 0.5051 - val_loss: 0.2530 - val_precision: 0.7112 - val_recall: 0.3997\n",
      "Epoch 28/100\n",
      "\u001b[1m86/86\u001b[0m \u001b[32m━━━━━━━━━━━━━━━━━━━━\u001b[0m\u001b[37m\u001b[0m \u001b[1m1s\u001b[0m 10ms/step - accuracy: 0.4980 - loss: 0.3855 - precision: 0.7839 - recall: 0.2990 - val_accuracy: 0.5211 - val_loss: 0.2515 - val_precision: 0.7339 - val_recall: 0.3874\n",
      "Epoch 29/100\n",
      "\u001b[1m86/86\u001b[0m \u001b[32m━━━━━━━━━━━━━━━━━━━━\u001b[0m\u001b[37m\u001b[0m \u001b[1m1s\u001b[0m 10ms/step - accuracy: 0.5186 - loss: 0.3869 - precision: 0.7757 - recall: 0.2904 - val_accuracy: 0.5269 - val_loss: 0.2505 - val_precision: 0.7474 - val_recall: 0.3956\n",
      "Epoch 30/100\n",
      "\u001b[1m86/86\u001b[0m \u001b[32m━━━━━━━━━━━━━━━━━━━━\u001b[0m\u001b[37m\u001b[0m \u001b[1m1s\u001b[0m 9ms/step - accuracy: 0.5277 - loss: 0.3759 - precision: 0.8133 - recall: 0.2988 - val_accuracy: 0.4920 - val_loss: 0.2630 - val_precision: 0.6856 - val_recall: 0.4106\n",
      "Epoch 31/100\n",
      "\u001b[1m86/86\u001b[0m \u001b[32m━━━━━━━━━━━━━━━━━━━━\u001b[0m\u001b[37m\u001b[0m \u001b[1m1s\u001b[0m 9ms/step - accuracy: 0.5265 - loss: 0.3719 - precision: 0.7808 - recall: 0.3060 - val_accuracy: 0.5415 - val_loss: 0.2419 - val_precision: 0.7569 - val_recall: 0.4120\n",
      "Epoch 32/100\n",
      "\u001b[1m86/86\u001b[0m \u001b[32m━━━━━━━━━━━━━━━━━━━━\u001b[0m\u001b[37m\u001b[0m \u001b[1m1s\u001b[0m 9ms/step - accuracy: 0.5266 - loss: 0.3764 - precision: 0.7863 - recall: 0.3216 - val_accuracy: 0.5386 - val_loss: 0.2445 - val_precision: 0.7417 - val_recall: 0.4270\n",
      "Epoch 33/100\n",
      "\u001b[1m86/86\u001b[0m \u001b[32m━━━━━━━━━━━━━━━━━━━━\u001b[0m\u001b[37m\u001b[0m \u001b[1m1s\u001b[0m 10ms/step - accuracy: 0.5341 - loss: 0.3835 - precision: 0.7775 - recall: 0.3060 - val_accuracy: 0.5531 - val_loss: 0.2379 - val_precision: 0.7483 - val_recall: 0.4502\n",
      "Epoch 34/100\n",
      "\u001b[1m86/86\u001b[0m \u001b[32m━━━━━━━━━━━━━━━━━━━━\u001b[0m\u001b[37m\u001b[0m \u001b[1m1s\u001b[0m 9ms/step - accuracy: 0.5177 - loss: 0.3743 - precision: 0.7668 - recall: 0.3174 - val_accuracy: 0.5386 - val_loss: 0.2406 - val_precision: 0.7097 - val_recall: 0.4570\n",
      "Epoch 35/100\n",
      "\u001b[1m86/86\u001b[0m \u001b[32m━━━━━━━━━━━━━━━━━━━━\u001b[0m\u001b[37m\u001b[0m \u001b[1m1s\u001b[0m 10ms/step - accuracy: 0.5404 - loss: 0.3698 - precision: 0.7823 - recall: 0.3356 - val_accuracy: 0.5735 - val_loss: 0.2284 - val_precision: 0.7534 - val_recall: 0.4502\n",
      "Epoch 36/100\n",
      "\u001b[1m86/86\u001b[0m \u001b[32m━━━━━━━━━━━━━━━━━━━━\u001b[0m\u001b[37m\u001b[0m \u001b[1m1s\u001b[0m 10ms/step - accuracy: 0.5579 - loss: 0.3649 - precision: 0.8071 - recall: 0.3443 - val_accuracy: 0.5371 - val_loss: 0.2372 - val_precision: 0.6920 - val_recall: 0.4720\n",
      "Epoch 37/100\n",
      "\u001b[1m86/86\u001b[0m \u001b[32m━━━━━━━━━━━━━━━━━━━━\u001b[0m\u001b[37m\u001b[0m \u001b[1m1s\u001b[0m 9ms/step - accuracy: 0.5350 - loss: 0.3738 - precision: 0.7836 - recall: 0.3267 - val_accuracy: 0.5677 - val_loss: 0.2334 - val_precision: 0.7393 - val_recall: 0.4488\n",
      "Epoch 38/100\n",
      "\u001b[1m86/86\u001b[0m \u001b[32m━━━━━━━━━━━━━━━━━━━━\u001b[0m\u001b[37m\u001b[0m \u001b[1m1s\u001b[0m 9ms/step - accuracy: 0.5545 - loss: 0.3699 - precision: 0.8011 - recall: 0.3455 - val_accuracy: 0.5721 - val_loss: 0.2325 - val_precision: 0.7500 - val_recall: 0.4625\n",
      "Epoch 39/100\n",
      "\u001b[1m86/86\u001b[0m \u001b[32m━━━━━━━━━━━━━━━━━━━━\u001b[0m\u001b[37m\u001b[0m \u001b[1m1s\u001b[0m 9ms/step - accuracy: 0.5591 - loss: 0.3564 - precision: 0.7961 - recall: 0.3599 - val_accuracy: 0.5779 - val_loss: 0.2322 - val_precision: 0.7325 - val_recall: 0.4707\n",
      "Epoch 40/100\n",
      "\u001b[1m86/86\u001b[0m \u001b[32m━━━━━━━━━━━━━━━━━━━━\u001b[0m\u001b[37m\u001b[0m \u001b[1m1s\u001b[0m 10ms/step - accuracy: 0.5557 - loss: 0.3575 - precision: 0.7899 - recall: 0.3597 - val_accuracy: 0.5881 - val_loss: 0.2234 - val_precision: 0.7878 - val_recall: 0.4761\n",
      "Epoch 41/100\n",
      "\u001b[1m86/86\u001b[0m \u001b[32m━━━━━━━━━━━━━━━━━━━━\u001b[0m\u001b[37m\u001b[0m \u001b[1m1s\u001b[0m 10ms/step - accuracy: 0.5621 - loss: 0.3642 - precision: 0.7923 - recall: 0.3466 - val_accuracy: 0.5735 - val_loss: 0.2351 - val_precision: 0.7308 - val_recall: 0.4666\n",
      "Epoch 42/100\n",
      "\u001b[1m86/86\u001b[0m \u001b[32m━━━━━━━━━━━━━━━━━━━━\u001b[0m\u001b[37m\u001b[0m \u001b[1m1s\u001b[0m 10ms/step - accuracy: 0.5724 - loss: 0.3563 - precision: 0.7866 - recall: 0.3600 - val_accuracy: 0.5895 - val_loss: 0.2244 - val_precision: 0.7429 - val_recall: 0.4966\n",
      "Epoch 43/100\n",
      "\u001b[1m86/86\u001b[0m \u001b[32m━━━━━━━━━━━━━━━━━━━━\u001b[0m\u001b[37m\u001b[0m \u001b[1m1s\u001b[0m 10ms/step - accuracy: 0.5652 - loss: 0.3578 - precision: 0.7930 - recall: 0.3624 - val_accuracy: 0.5939 - val_loss: 0.2202 - val_precision: 0.7657 - val_recall: 0.4993\n",
      "Epoch 44/100\n",
      "\u001b[1m86/86\u001b[0m \u001b[32m━━━━━━━━━━━━━━━━━━━━\u001b[0m\u001b[37m\u001b[0m \u001b[1m1s\u001b[0m 9ms/step - accuracy: 0.5659 - loss: 0.3623 - precision: 0.7800 - recall: 0.3568 - val_accuracy: 0.5852 - val_loss: 0.2289 - val_precision: 0.7212 - val_recall: 0.4870\n",
      "Epoch 45/100\n",
      "\u001b[1m86/86\u001b[0m \u001b[32m━━━━━━━━━━━━━━━━━━━━\u001b[0m\u001b[37m\u001b[0m \u001b[1m1s\u001b[0m 10ms/step - accuracy: 0.5803 - loss: 0.3569 - precision: 0.8012 - recall: 0.3814 - val_accuracy: 0.6128 - val_loss: 0.2183 - val_precision: 0.7744 - val_recall: 0.4870\n",
      "Epoch 46/100\n",
      "\u001b[1m86/86\u001b[0m \u001b[32m━━━━━━━━━━━━━━━━━━━━\u001b[0m\u001b[37m\u001b[0m \u001b[1m1s\u001b[0m 9ms/step - accuracy: 0.5614 - loss: 0.3625 - precision: 0.7959 - recall: 0.3551 - val_accuracy: 0.5764 - val_loss: 0.2314 - val_precision: 0.7152 - val_recall: 0.4829\n",
      "Epoch 47/100\n",
      "\u001b[1m86/86\u001b[0m \u001b[32m━━━━━━━━━━━━━━━━━━━━\u001b[0m\u001b[37m\u001b[0m \u001b[1m1s\u001b[0m 9ms/step - accuracy: 0.5800 - loss: 0.3648 - precision: 0.7750 - recall: 0.3622 - val_accuracy: 0.6361 - val_loss: 0.2128 - val_precision: 0.8172 - val_recall: 0.5061\n",
      "Epoch 48/100\n",
      "\u001b[1m86/86\u001b[0m \u001b[32m━━━━━━━━━━━━━━━━━━━━\u001b[0m\u001b[37m\u001b[0m \u001b[1m1s\u001b[0m 9ms/step - accuracy: 0.5903 - loss: 0.3507 - precision: 0.8119 - recall: 0.3832 - val_accuracy: 0.6114 - val_loss: 0.2159 - val_precision: 0.7844 - val_recall: 0.5061\n",
      "Epoch 49/100\n",
      "\u001b[1m86/86\u001b[0m \u001b[32m━━━━━━━━━━━━━━━━━━━━\u001b[0m\u001b[37m\u001b[0m \u001b[1m1s\u001b[0m 10ms/step - accuracy: 0.5839 - loss: 0.3487 - precision: 0.8035 - recall: 0.3754 - val_accuracy: 0.6303 - val_loss: 0.2139 - val_precision: 0.7825 - val_recall: 0.5007\n",
      "Epoch 50/100\n",
      "\u001b[1m86/86\u001b[0m \u001b[32m━━━━━━━━━━━━━━━━━━━━\u001b[0m\u001b[37m\u001b[0m \u001b[1m1s\u001b[0m 10ms/step - accuracy: 0.5989 - loss: 0.3475 - precision: 0.8131 - recall: 0.4048 - val_accuracy: 0.6594 - val_loss: 0.2082 - val_precision: 0.8087 - val_recall: 0.5075\n",
      "Epoch 51/100\n",
      "\u001b[1m86/86\u001b[0m \u001b[32m━━━━━━━━━━━━━━━━━━━━\u001b[0m\u001b[37m\u001b[0m \u001b[1m1s\u001b[0m 9ms/step - accuracy: 0.5954 - loss: 0.3403 - precision: 0.7988 - recall: 0.3897 - val_accuracy: 0.6274 - val_loss: 0.2174 - val_precision: 0.7848 - val_recall: 0.4925\n",
      "Epoch 52/100\n",
      "\u001b[1m86/86\u001b[0m \u001b[32m━━━━━━━━━━━━━━━━━━━━\u001b[0m\u001b[37m\u001b[0m \u001b[1m1s\u001b[0m 9ms/step - accuracy: 0.5990 - loss: 0.3319 - precision: 0.8191 - recall: 0.3813 - val_accuracy: 0.6521 - val_loss: 0.2118 - val_precision: 0.7886 - val_recall: 0.5089\n",
      "Epoch 53/100\n",
      "\u001b[1m86/86\u001b[0m \u001b[32m━━━━━━━━━━━━━━━━━━━━\u001b[0m\u001b[37m\u001b[0m \u001b[1m1s\u001b[0m 10ms/step - accuracy: 0.5999 - loss: 0.3420 - precision: 0.8032 - recall: 0.4022 - val_accuracy: 0.6681 - val_loss: 0.2043 - val_precision: 0.8062 - val_recall: 0.5334\n",
      "Epoch 54/100\n",
      "\u001b[1m86/86\u001b[0m \u001b[32m━━━━━━━━━━━━━━━━━━━━\u001b[0m\u001b[37m\u001b[0m \u001b[1m1s\u001b[0m 10ms/step - accuracy: 0.6014 - loss: 0.3486 - precision: 0.7897 - recall: 0.3793 - val_accuracy: 0.6463 - val_loss: 0.2101 - val_precision: 0.7928 - val_recall: 0.5375\n",
      "Epoch 55/100\n",
      "\u001b[1m86/86\u001b[0m \u001b[32m━━━━━━━━━━━━━━━━━━━━\u001b[0m\u001b[37m\u001b[0m \u001b[1m1s\u001b[0m 10ms/step - accuracy: 0.5955 - loss: 0.3442 - precision: 0.8127 - recall: 0.3998 - val_accuracy: 0.6681 - val_loss: 0.2033 - val_precision: 0.8040 - val_recall: 0.5539\n",
      "Epoch 56/100\n",
      "\u001b[1m86/86\u001b[0m \u001b[32m━━━━━━━━━━━━━━━━━━━━\u001b[0m\u001b[37m\u001b[0m \u001b[1m1s\u001b[0m 10ms/step - accuracy: 0.6041 - loss: 0.3395 - precision: 0.7965 - recall: 0.3978 - val_accuracy: 0.6638 - val_loss: 0.2012 - val_precision: 0.7913 - val_recall: 0.5689\n",
      "Epoch 57/100\n",
      "\u001b[1m86/86\u001b[0m \u001b[32m━━━━━━━━━━━━━━━━━━━━\u001b[0m\u001b[37m\u001b[0m \u001b[1m1s\u001b[0m 10ms/step - accuracy: 0.6020 - loss: 0.3403 - precision: 0.7994 - recall: 0.4016 - val_accuracy: 0.6739 - val_loss: 0.2009 - val_precision: 0.7887 - val_recall: 0.5703\n",
      "Epoch 58/100\n",
      "\u001b[1m86/86\u001b[0m \u001b[32m━━━━━━━━━━━━━━━━━━━━\u001b[0m\u001b[37m\u001b[0m \u001b[1m1s\u001b[0m 10ms/step - accuracy: 0.5971 - loss: 0.3394 - precision: 0.7936 - recall: 0.3993 - val_accuracy: 0.6725 - val_loss: 0.2055 - val_precision: 0.7788 - val_recall: 0.5812\n",
      "Epoch 59/100\n",
      "\u001b[1m86/86\u001b[0m \u001b[32m━━━━━━━━━━━━━━━━━━━━\u001b[0m\u001b[37m\u001b[0m \u001b[1m1s\u001b[0m 10ms/step - accuracy: 0.6178 - loss: 0.3374 - precision: 0.8069 - recall: 0.4167 - val_accuracy: 0.7001 - val_loss: 0.1887 - val_precision: 0.8456 - val_recall: 0.5975\n",
      "Epoch 60/100\n",
      "\u001b[1m86/86\u001b[0m \u001b[32m━━━━━━━━━━━━━━━━━━━━\u001b[0m\u001b[37m\u001b[0m \u001b[1m1s\u001b[0m 10ms/step - accuracy: 0.6312 - loss: 0.3278 - precision: 0.8198 - recall: 0.4417 - val_accuracy: 0.7045 - val_loss: 0.1862 - val_precision: 0.8091 - val_recall: 0.6071\n",
      "Epoch 61/100\n",
      "\u001b[1m86/86\u001b[0m \u001b[32m━━━━━━━━━━━━━━━━━━━━\u001b[0m\u001b[37m\u001b[0m \u001b[1m1s\u001b[0m 9ms/step - accuracy: 0.6275 - loss: 0.3236 - precision: 0.8037 - recall: 0.4371 - val_accuracy: 0.6900 - val_loss: 0.1921 - val_precision: 0.7940 - val_recall: 0.6153\n",
      "Epoch 62/100\n",
      "\u001b[1m86/86\u001b[0m \u001b[32m━━━━━━━━━━━━━━━━━━━━\u001b[0m\u001b[37m\u001b[0m \u001b[1m1s\u001b[0m 10ms/step - accuracy: 0.6318 - loss: 0.3240 - precision: 0.8096 - recall: 0.4455 - val_accuracy: 0.7060 - val_loss: 0.1873 - val_precision: 0.7903 - val_recall: 0.6426\n",
      "Epoch 63/100\n",
      "\u001b[1m86/86\u001b[0m \u001b[32m━━━━━━━━━━━━━━━━━━━━\u001b[0m\u001b[37m\u001b[0m \u001b[1m1s\u001b[0m 10ms/step - accuracy: 0.6411 - loss: 0.3147 - precision: 0.8151 - recall: 0.4612 - val_accuracy: 0.7074 - val_loss: 0.1873 - val_precision: 0.7839 - val_recall: 0.6385\n",
      "Epoch 64/100\n",
      "\u001b[1m86/86\u001b[0m \u001b[32m━━━━━━━━━━━━━━━━━━━━\u001b[0m\u001b[37m\u001b[0m \u001b[1m1s\u001b[0m 10ms/step - accuracy: 0.6306 - loss: 0.3249 - precision: 0.8022 - recall: 0.4539 - val_accuracy: 0.7322 - val_loss: 0.1814 - val_precision: 0.8138 - val_recall: 0.6439\n",
      "Epoch 65/100\n",
      "\u001b[1m86/86\u001b[0m \u001b[32m━━━━━━━━━━━━━━━━━━━━\u001b[0m\u001b[37m\u001b[0m \u001b[1m1s\u001b[0m 10ms/step - accuracy: 0.6386 - loss: 0.3174 - precision: 0.8046 - recall: 0.4683 - val_accuracy: 0.7089 - val_loss: 0.1821 - val_precision: 0.7726 - val_recall: 0.6535\n",
      "Epoch 66/100\n",
      "\u001b[1m86/86\u001b[0m \u001b[32m━━━━━━━━━━━━━━━━━━━━\u001b[0m\u001b[37m\u001b[0m \u001b[1m1s\u001b[0m 10ms/step - accuracy: 0.6304 - loss: 0.3244 - precision: 0.8013 - recall: 0.4628 - val_accuracy: 0.7191 - val_loss: 0.1819 - val_precision: 0.7986 - val_recall: 0.6385\n",
      "Epoch 67/100\n",
      "\u001b[1m86/86\u001b[0m \u001b[32m━━━━━━━━━━━━━━━━━━━━\u001b[0m\u001b[37m\u001b[0m \u001b[1m1s\u001b[0m 10ms/step - accuracy: 0.6408 - loss: 0.3119 - precision: 0.8145 - recall: 0.4721 - val_accuracy: 0.7220 - val_loss: 0.1770 - val_precision: 0.8027 - val_recall: 0.6603\n",
      "Epoch 68/100\n",
      "\u001b[1m86/86\u001b[0m \u001b[32m━━━━━━━━━━━━━━━━━━━━\u001b[0m\u001b[37m\u001b[0m \u001b[1m1s\u001b[0m 10ms/step - accuracy: 0.6368 - loss: 0.3304 - precision: 0.7911 - recall: 0.4545 - val_accuracy: 0.7162 - val_loss: 0.1806 - val_precision: 0.7921 - val_recall: 0.6548\n",
      "Epoch 69/100\n",
      "\u001b[1m86/86\u001b[0m \u001b[32m━━━━━━━━━━━━━━━━━━━━\u001b[0m\u001b[37m\u001b[0m \u001b[1m1s\u001b[0m 9ms/step - accuracy: 0.6143 - loss: 0.3258 - precision: 0.7854 - recall: 0.4640 - val_accuracy: 0.7060 - val_loss: 0.1797 - val_precision: 0.7921 - val_recall: 0.6603\n",
      "Epoch 70/100\n",
      "\u001b[1m86/86\u001b[0m \u001b[32m━━━━━━━━━━━━━━━━━━━━\u001b[0m\u001b[37m\u001b[0m \u001b[1m1s\u001b[0m 9ms/step - accuracy: 0.6606 - loss: 0.3042 - precision: 0.8048 - recall: 0.4941 - val_accuracy: 0.7176 - val_loss: 0.1777 - val_precision: 0.8065 - val_recall: 0.6480\n",
      "Epoch 71/100\n",
      "\u001b[1m86/86\u001b[0m \u001b[32m━━━━━━━━━━━━━━━━━━━━\u001b[0m\u001b[37m\u001b[0m \u001b[1m1s\u001b[0m 10ms/step - accuracy: 0.6498 - loss: 0.3106 - precision: 0.8087 - recall: 0.4814 - val_accuracy: 0.7147 - val_loss: 0.1793 - val_precision: 0.8030 - val_recall: 0.6562\n",
      "Epoch 72/100\n",
      "\u001b[1m86/86\u001b[0m \u001b[32m━━━━━━━━━━━━━━━━━━━━\u001b[0m\u001b[37m\u001b[0m \u001b[1m1s\u001b[0m 9ms/step - accuracy: 0.6300 - loss: 0.3227 - precision: 0.7968 - recall: 0.4607 - val_accuracy: 0.7205 - val_loss: 0.1765 - val_precision: 0.7870 - val_recall: 0.6603\n",
      "Epoch 73/100\n",
      "\u001b[1m86/86\u001b[0m \u001b[32m━━━━━━━━━━━━━━━━━━━━\u001b[0m\u001b[37m\u001b[0m \u001b[1m1s\u001b[0m 9ms/step - accuracy: 0.6466 - loss: 0.3150 - precision: 0.7954 - recall: 0.4754 - val_accuracy: 0.7278 - val_loss: 0.1779 - val_precision: 0.7971 - val_recall: 0.6644\n",
      "Epoch 74/100\n",
      "\u001b[1m86/86\u001b[0m \u001b[32m━━━━━━━━━━━━━━━━━━━━\u001b[0m\u001b[37m\u001b[0m \u001b[1m1s\u001b[0m 10ms/step - accuracy: 0.6573 - loss: 0.3097 - precision: 0.8254 - recall: 0.4747 - val_accuracy: 0.7365 - val_loss: 0.1751 - val_precision: 0.8087 - val_recall: 0.6630\n",
      "Epoch 75/100\n",
      "\u001b[1m86/86\u001b[0m \u001b[32m━━━━━━━━━━━━━━━━━━━━\u001b[0m\u001b[37m\u001b[0m \u001b[1m1s\u001b[0m 9ms/step - accuracy: 0.6597 - loss: 0.3092 - precision: 0.8176 - recall: 0.4880 - val_accuracy: 0.7031 - val_loss: 0.1847 - val_precision: 0.7654 - val_recall: 0.6630\n",
      "Epoch 76/100\n",
      "\u001b[1m86/86\u001b[0m \u001b[32m━━━━━━━━━━━━━━━━━━━━\u001b[0m\u001b[37m\u001b[0m \u001b[1m1s\u001b[0m 10ms/step - accuracy: 0.6508 - loss: 0.3091 - precision: 0.8139 - recall: 0.5036 - val_accuracy: 0.7118 - val_loss: 0.1799 - val_precision: 0.7737 - val_recall: 0.6671\n",
      "Epoch 77/100\n",
      "\u001b[1m86/86\u001b[0m \u001b[32m━━━━━━━━━━━━━━━━━━━━\u001b[0m\u001b[37m\u001b[0m \u001b[1m1s\u001b[0m 9ms/step - accuracy: 0.6509 - loss: 0.3078 - precision: 0.8112 - recall: 0.4812 - val_accuracy: 0.6856 - val_loss: 0.1850 - val_precision: 0.7686 - val_recall: 0.6344\n",
      "Epoch 78/100\n",
      "\u001b[1m86/86\u001b[0m \u001b[32m━━━━━━━━━━━━━━━━━━━━\u001b[0m\u001b[37m\u001b[0m \u001b[1m1s\u001b[0m 10ms/step - accuracy: 0.6340 - loss: 0.3163 - precision: 0.8060 - recall: 0.4826 - val_accuracy: 0.7380 - val_loss: 0.1686 - val_precision: 0.8128 - val_recall: 0.6753\n",
      "Epoch 79/100\n",
      "\u001b[1m86/86\u001b[0m \u001b[32m━━━━━━━━━━━━━━━━━━━━\u001b[0m\u001b[37m\u001b[0m \u001b[1m1s\u001b[0m 9ms/step - accuracy: 0.6511 - loss: 0.3065 - precision: 0.8089 - recall: 0.4851 - val_accuracy: 0.7351 - val_loss: 0.1680 - val_precision: 0.8039 - val_recall: 0.6821\n",
      "Epoch 80/100\n",
      "\u001b[1m86/86\u001b[0m \u001b[32m━━━━━━━━━━━━━━━━━━━━\u001b[0m\u001b[37m\u001b[0m \u001b[1m1s\u001b[0m 10ms/step - accuracy: 0.6619 - loss: 0.3123 - precision: 0.8086 - recall: 0.4940 - val_accuracy: 0.7336 - val_loss: 0.1725 - val_precision: 0.8279 - val_recall: 0.6630\n",
      "Epoch 81/100\n",
      "\u001b[1m86/86\u001b[0m \u001b[32m━━━━━━━━━━━━━━━━━━━━\u001b[0m\u001b[37m\u001b[0m \u001b[1m1s\u001b[0m 10ms/step - accuracy: 0.6520 - loss: 0.3004 - precision: 0.8257 - recall: 0.5025 - val_accuracy: 0.7525 - val_loss: 0.1665 - val_precision: 0.8270 - val_recall: 0.6780\n",
      "Epoch 82/100\n",
      "\u001b[1m86/86\u001b[0m \u001b[32m━━━━━━━━━━━━━━━━━━━━\u001b[0m\u001b[37m\u001b[0m \u001b[1m1s\u001b[0m 9ms/step - accuracy: 0.6550 - loss: 0.3078 - precision: 0.8119 - recall: 0.4898 - val_accuracy: 0.7453 - val_loss: 0.1741 - val_precision: 0.7955 - val_recall: 0.6739\n",
      "Epoch 83/100\n",
      "\u001b[1m86/86\u001b[0m \u001b[32m━━━━━━━━━━━━━━━━━━━━\u001b[0m\u001b[37m\u001b[0m \u001b[1m1s\u001b[0m 10ms/step - accuracy: 0.6520 - loss: 0.3082 - precision: 0.8237 - recall: 0.4987 - val_accuracy: 0.7394 - val_loss: 0.1725 - val_precision: 0.8242 - val_recall: 0.6780\n",
      "Epoch 84/100\n",
      "\u001b[1m86/86\u001b[0m \u001b[32m━━━━━━━━━━━━━━━━━━━━\u001b[0m\u001b[37m\u001b[0m \u001b[1m1s\u001b[0m 9ms/step - accuracy: 0.6649 - loss: 0.2933 - precision: 0.8309 - recall: 0.5176 - val_accuracy: 0.7453 - val_loss: 0.1696 - val_precision: 0.8090 - val_recall: 0.6876\n",
      "Epoch 85/100\n",
      "\u001b[1m86/86\u001b[0m \u001b[32m━━━━━━━━━━━━━━━━━━━━\u001b[0m\u001b[37m\u001b[0m \u001b[1m1s\u001b[0m 10ms/step - accuracy: 0.6590 - loss: 0.3004 - precision: 0.8189 - recall: 0.5144 - val_accuracy: 0.7540 - val_loss: 0.1653 - val_precision: 0.8131 - val_recall: 0.6944\n",
      "Epoch 86/100\n",
      "\u001b[1m86/86\u001b[0m \u001b[32m━━━━━━━━━━━━━━━━━━━━\u001b[0m\u001b[37m\u001b[0m \u001b[1m1s\u001b[0m 9ms/step - accuracy: 0.6549 - loss: 0.3040 - precision: 0.8105 - recall: 0.5020 - val_accuracy: 0.7249 - val_loss: 0.1714 - val_precision: 0.7867 - val_recall: 0.6794\n",
      "Epoch 87/100\n",
      "\u001b[1m86/86\u001b[0m \u001b[32m━━━━━━━━━━━━━━━━━━━━\u001b[0m\u001b[37m\u001b[0m \u001b[1m1s\u001b[0m 9ms/step - accuracy: 0.6454 - loss: 0.3124 - precision: 0.7943 - recall: 0.4951 - val_accuracy: 0.7176 - val_loss: 0.1747 - val_precision: 0.7910 - val_recall: 0.6712\n",
      "Epoch 88/100\n",
      "\u001b[1m86/86\u001b[0m \u001b[32m━━━━━━━━━━━━━━━━━━━━\u001b[0m\u001b[37m\u001b[0m \u001b[1m1s\u001b[0m 9ms/step - accuracy: 0.6642 - loss: 0.3030 - precision: 0.8136 - recall: 0.5056 - val_accuracy: 0.7307 - val_loss: 0.1709 - val_precision: 0.8162 - val_recall: 0.6726\n",
      "Epoch 89/100\n",
      "\u001b[1m86/86\u001b[0m \u001b[32m━━━━━━━━━━━━━━━━━━━━\u001b[0m\u001b[37m\u001b[0m \u001b[1m1s\u001b[0m 10ms/step - accuracy: 0.6663 - loss: 0.2967 - precision: 0.8291 - recall: 0.5121 - val_accuracy: 0.7205 - val_loss: 0.1744 - val_precision: 0.7932 - val_recall: 0.6644\n",
      "Epoch 90/100\n",
      "\u001b[1m86/86\u001b[0m \u001b[32m━━━━━━━━━━━━━━━━━━━━\u001b[0m\u001b[37m\u001b[0m \u001b[1m1s\u001b[0m 10ms/step - accuracy: 0.6698 - loss: 0.3016 - precision: 0.8107 - recall: 0.5170 - val_accuracy: 0.7365 - val_loss: 0.1718 - val_precision: 0.8059 - val_recall: 0.6739\n",
      "Epoch 91/100\n",
      "\u001b[1m86/86\u001b[0m \u001b[32m━━━━━━━━━━━━━━━━━━━━\u001b[0m\u001b[37m\u001b[0m \u001b[1m1s\u001b[0m 10ms/step - accuracy: 0.6585 - loss: 0.3003 - precision: 0.8140 - recall: 0.5169 - val_accuracy: 0.7438 - val_loss: 0.1687 - val_precision: 0.8151 - val_recall: 0.6794\n",
      "Epoch 92/100\n",
      "\u001b[1m86/86\u001b[0m \u001b[32m━━━━━━━━━━━━━━━━━━━━\u001b[0m\u001b[37m\u001b[0m \u001b[1m1s\u001b[0m 9ms/step - accuracy: 0.6586 - loss: 0.3054 - precision: 0.8164 - recall: 0.4988 - val_accuracy: 0.7584 - val_loss: 0.1681 - val_precision: 0.8067 - val_recall: 0.6944\n",
      "Epoch 93/100\n",
      "\u001b[1m86/86\u001b[0m \u001b[32m━━━━━━━━━━━━━━━━━━━━\u001b[0m\u001b[37m\u001b[0m \u001b[1m1s\u001b[0m 9ms/step - accuracy: 0.6637 - loss: 0.2996 - precision: 0.8150 - recall: 0.5216 - val_accuracy: 0.7249 - val_loss: 0.1702 - val_precision: 0.7808 - val_recall: 0.6658\n",
      "Epoch 94/100\n",
      "\u001b[1m86/86\u001b[0m \u001b[32m━━━━━━━━━━━━━━━━━━━━\u001b[0m\u001b[37m\u001b[0m \u001b[1m1s\u001b[0m 9ms/step - accuracy: 0.6588 - loss: 0.3025 - precision: 0.8121 - recall: 0.5156 - val_accuracy: 0.7511 - val_loss: 0.1682 - val_precision: 0.8122 - val_recall: 0.6726\n",
      "Epoch 95/100\n",
      "\u001b[1m86/86\u001b[0m \u001b[32m━━━━━━━━━━━━━━━━━━━━\u001b[0m\u001b[37m\u001b[0m \u001b[1m1s\u001b[0m 10ms/step - accuracy: 0.6614 - loss: 0.3102 - precision: 0.8217 - recall: 0.5015 - val_accuracy: 0.7380 - val_loss: 0.1705 - val_precision: 0.7958 - val_recall: 0.6753\n",
      "Epoch 96/100\n",
      "\u001b[1m86/86\u001b[0m \u001b[32m━━━━━━━━━━━━━━━━━━━━\u001b[0m\u001b[37m\u001b[0m \u001b[1m1s\u001b[0m 10ms/step - accuracy: 0.6612 - loss: 0.2964 - precision: 0.8173 - recall: 0.5191 - val_accuracy: 0.7613 - val_loss: 0.1642 - val_precision: 0.8241 - val_recall: 0.6903\n",
      "Epoch 97/100\n",
      "\u001b[1m86/86\u001b[0m \u001b[32m━━━━━━━━━━━━━━━━━━━━\u001b[0m\u001b[37m\u001b[0m \u001b[1m1s\u001b[0m 10ms/step - accuracy: 0.6619 - loss: 0.3087 - precision: 0.8155 - recall: 0.5080 - val_accuracy: 0.7409 - val_loss: 0.1665 - val_precision: 0.8093 - val_recall: 0.6889\n",
      "Epoch 98/100\n",
      "\u001b[1m86/86\u001b[0m \u001b[32m━━━━━━━━━━━━━━━━━━━━\u001b[0m\u001b[37m\u001b[0m \u001b[1m1s\u001b[0m 10ms/step - accuracy: 0.6669 - loss: 0.2980 - precision: 0.8171 - recall: 0.5084 - val_accuracy: 0.7394 - val_loss: 0.1672 - val_precision: 0.8230 - val_recall: 0.6726\n",
      "Epoch 99/100\n",
      "\u001b[1m86/86\u001b[0m \u001b[32m━━━━━━━━━━━━━━━━━━━━\u001b[0m\u001b[37m\u001b[0m \u001b[1m1s\u001b[0m 10ms/step - accuracy: 0.6569 - loss: 0.3048 - precision: 0.8126 - recall: 0.4988 - val_accuracy: 0.7656 - val_loss: 0.1636 - val_precision: 0.8225 - val_recall: 0.6889\n",
      "Epoch 100/100\n",
      "\u001b[1m86/86\u001b[0m \u001b[32m━━━━━━━━━━━━━━━━━━━━\u001b[0m\u001b[37m\u001b[0m \u001b[1m1s\u001b[0m 10ms/step - accuracy: 0.6843 - loss: 0.2906 - precision: 0.8372 - recall: 0.5305 - val_accuracy: 0.7263 - val_loss: 0.1706 - val_precision: 0.7888 - val_recall: 0.6726\n"
     ]
    }
   ],
   "source": [
    "nClasses = y_train.shape[1]\n",
    "loss = 'binary_crossentropy'\n",
    "activationDense = 'sigmoid'\n",
    "\n",
    "model = get1DCNN(X_train, nClasses, loss, activationDense)\n",
    "early_stopping = EarlyStopping(monitor='val_loss', patience=15, restore_best_weights=True)\n",
    "\n",
    "history = model.fit(\n",
    "    X_train, y_train,\n",
    "    validation_data=(X_val, y_val),\n",
    "    epochs=100,\n",
    "    batch_size=64,\n",
    "    class_weight=class_weight_dict,\n",
    "    callbacks=[early_stopping],\n",
    "    verbose=1\n",
    ")"
   ]
  },
  {
   "cell_type": "code",
   "execution_count": null,
   "metadata": {
    "execution": {
     "iopub.execute_input": "2025-04-17T12:50:26.998424Z",
     "iopub.status.busy": "2025-04-17T12:50:26.997913Z",
     "iopub.status.idle": "2025-04-17T12:50:28.608177Z",
     "shell.execute_reply": "2025-04-17T12:50:28.607464Z",
     "shell.execute_reply.started": "2025-04-17T12:50:26.998389Z"
    },
    "trusted": true
   },
   "outputs": [
    {
     "name": "stdout",
     "output_type": "stream",
     "text": [
      "Test Loss: 0.1737\n",
      "Test Recall: 0.6662\n",
      "Test Precision: 0.8003\n"
     ]
    }
   ],
   "source": [
    "test_metrics = model.evaluate(X_test, y_test, verbose=0, return_dict=True)\n",
    "test_loss = test_metrics['loss']\n",
    "test_recall = test_metrics['recall']\n",
    "test_precision = test_metrics['precision']\n",
    "\n",
    "print(f\"Test Loss: {test_loss:.4f}\")\n",
    "print(f\"Test Recall: {test_recall:.4f}\")\n",
    "print(f\"Test Precision: {test_precision:.4f}\")"
   ]
  },
  {
   "cell_type": "code",
   "execution_count": null,
   "metadata": {
    "execution": {
     "iopub.execute_input": "2025-04-17T12:50:35.349168Z",
     "iopub.status.busy": "2025-04-17T12:50:35.348435Z",
     "iopub.status.idle": "2025-04-17T12:50:37.240612Z",
     "shell.execute_reply": "2025-04-17T12:50:37.239851Z",
     "shell.execute_reply.started": "2025-04-17T12:50:35.349146Z"
    },
    "trusted": true
   },
   "outputs": [
    {
     "name": "stdout",
     "output_type": "stream",
     "text": [
      "\u001b[1m22/22\u001b[0m \u001b[32m━━━━━━━━━━━━━━━━━━━━\u001b[0m\u001b[37m\u001b[0m \u001b[1m2s\u001b[0m 39ms/step\n"
     ]
    }
   ],
   "source": [
    "# Получаем вероятности и классы\n",
    "y_pred_prob = model.predict(X_test)\n",
    "y_pred_prob = softmax(y_pred_prob, axis=1)\n",
    "y_test_labels = np.argmax(y_test, axis=1)\n",
    "y_pred_labels = np.argmax(y_pred_prob, axis=1)"
   ]
  },
  {
   "cell_type": "code",
   "execution_count": 87,
   "metadata": {
    "execution": {
     "iopub.execute_input": "2025-04-17T13:20:21.715676Z",
     "iopub.status.busy": "2025-04-17T13:20:21.715424Z",
     "iopub.status.idle": "2025-04-17T13:20:21.734127Z",
     "shell.execute_reply": "2025-04-17T13:20:21.733569Z",
     "shell.execute_reply.started": "2025-04-17T13:20:21.715659Z"
    },
    "trusted": true
   },
   "outputs": [
    {
     "name": "stdout",
     "output_type": "stream",
     "text": [
      "Accuracy: 0.7031\n",
      "Precision: 0.7266\n",
      "Recall: 0.7031\n",
      "F1-Score: 0.6667\n",
      "AUC: 0.9352\n"
     ]
    }
   ],
   "source": [
    "accuracy = accuracy_score(y_test_labels, y_pred_labels)\n",
    "precision = precision_score(y_test_labels, y_pred_labels, average='weighted')\n",
    "recall = recall_score(y_test_labels, y_pred_labels, average='weighted')\n",
    "f1 = f1_score(y_test_labels, y_pred_labels, average='weighted')\n",
    "auc = roc_auc_score(y_test_labels, y_pred_prob, multi_class='ovr', average='weighted')\n",
    "\n",
    "print(f\"Accuracy: {accuracy:.4f}\")\n",
    "print(f\"Precision: {precision:.4f}\")\n",
    "print(f\"Recall: {recall:.4f}\")\n",
    "print(f\"F1-Score: {f1:.4f}\")\n",
    "print(f\"AUC: {auc:.4f}\")"
   ]
  },
  {
   "cell_type": "code",
   "execution_count": 88,
   "metadata": {
    "execution": {
     "iopub.execute_input": "2025-04-17T13:20:38.042903Z",
     "iopub.status.busy": "2025-04-17T13:20:38.042638Z",
     "iopub.status.idle": "2025-04-17T13:20:38.060389Z",
     "shell.execute_reply": "2025-04-17T13:20:38.059832Z",
     "shell.execute_reply.started": "2025-04-17T13:20:38.042885Z"
    },
    "trusted": true
   },
   "outputs": [
    {
     "name": "stdout",
     "output_type": "stream",
     "text": [
      "Precision: 0.7266\n",
      "Recall: 0.7031\n",
      "F1-Score: 0.6667\n",
      "AUC: 0.9352\n"
     ]
    }
   ],
   "source": [
    "precision = precision_score(y_test_labels, y_pred_labels, average='weighted')\n",
    "recall = recall_score(y_test_labels, y_pred_labels, average='weighted')\n",
    "f1 = f1_score(y_test_labels, y_pred_labels, average='weighted')\n",
    "auc = roc_auc_score(y_test_labels, y_pred_prob, multi_class='ovr', average='weighted')\n",
    "\n",
    "print(f\"Precision: {precision:.4f}\")\n",
    "print(f\"Recall: {recall:.4f}\")\n",
    "print(f\"F1-Score: {f1:.4f}\")\n",
    "print(f\"AUC: {auc:.4f}\")"
   ]
  },
  {
   "cell_type": "code",
   "execution_count": 71,
   "metadata": {
    "execution": {
     "iopub.execute_input": "2025-04-17T12:50:56.708503Z",
     "iopub.status.busy": "2025-04-17T12:50:56.708195Z",
     "iopub.status.idle": "2025-04-17T12:50:56.927762Z",
     "shell.execute_reply": "2025-04-17T12:50:56.927130Z",
     "shell.execute_reply.started": "2025-04-17T12:50:56.708477Z"
    },
    "trusted": true
   },
   "outputs": [
    {
     "data": {
      "text/plain": [
       "<Axes: >"
      ]
     },
     "execution_count": 71,
     "metadata": {},
     "output_type": "execute_result"
    },
    {
     "data": {
      "image/png": "[encoded data removed]",
      "text/plain": [
       "<Figure size 640x480 with 2 Axes>"
      ]
     },
     "metadata": {},
     "output_type": "display_data"
    }
   ],
   "source": [
    "# Confusion matrix\n",
    "cm=confusion_matrix(y_test_labels, y_pred_labels, labels=[0,1])\n",
    "sns.heatmap(cm, annot=True, annot_kws={\"size\": 16},fmt='g',cmap=\"Blues\") "
   ]
  },
  {
   "cell_type": "code",
   "execution_count": 91,
   "metadata": {
    "execution": {
     "iopub.execute_input": "2025-04-17T13:26:18.914189Z",
     "iopub.status.busy": "2025-04-17T13:26:18.913485Z",
     "iopub.status.idle": "2025-04-17T13:26:19.068657Z",
     "shell.execute_reply": "2025-04-17T13:26:19.068119Z",
     "shell.execute_reply.started": "2025-04-17T13:26:18.914167Z"
    },
    "trusted": true
   },
   "outputs": [
    {
     "data": {
      "text/plain": [
       "<Axes: >"
      ]
     },
     "execution_count": 91,
     "metadata": {},
     "output_type": "execute_result"
    },
    {
     "data": {
      "image/png": "[encoded data removed]",
      "text/plain": [
       "<Figure size 640x480 with 2 Axes>"
      ]
     },
     "metadata": {},
     "output_type": "display_data"
    }
   ],
   "source": [
    "# Confusion matrix\n",
    "cm=confusion_matrix(y_test_labels, y_pred_labels, labels=[0,2])\n",
    "sns.heatmap(cm, annot=True, annot_kws={\"size\": 16},fmt='g',cmap=\"Blues\") "
   ]
  },
  {
   "cell_type": "code",
   "execution_count": 92,
   "metadata": {
    "execution": {
     "iopub.execute_input": "2025-04-17T13:27:23.944670Z",
     "iopub.status.busy": "2025-04-17T13:27:23.944364Z",
     "iopub.status.idle": "2025-04-17T13:27:24.271135Z",
     "shell.execute_reply": "2025-04-17T13:27:24.270456Z",
     "shell.execute_reply.started": "2025-04-17T13:27:23.944652Z"
    },
    "trusted": true
   },
   "outputs": [
    {
     "data": {
      "text/plain": [
       "<Axes: >"
      ]
     },
     "execution_count": 92,
     "metadata": {},
     "output_type": "execute_result"
    },
    {
     "data": {
      "image/png": "[encoded data removed]",
      "text/plain": [
       "<Figure size 640x480 with 2 Axes>"
      ]
     },
     "metadata": {},
     "output_type": "display_data"
    }
   ],
   "source": [
    "# Confusion matrix\n",
    "cm = confusion_matrix(y_test_labels, y_pred_labels)  # Убираем labels, чтобы учесть все классы\n",
    "sns.heatmap(cm, annot=True, annot_kws={\"size\": 16}, fmt='g', cmap=\"Blues\")"
   ]
  },
  {
   "cell_type": "markdown",
   "metadata": {},
   "source": [
    "The error matrix shows that the neural network operates with an overall accuracy of about 70.5% (475 correct predictions out of 674 objects), but due to the imbalance of the dataset, performance varies greatly by class.\n",
    "\n",
    "Strengths:\n",
    "The neural network copes well with classes represented by a large amount of data: Class 4 (Recall 92.1%, 152/165), Class 2 (Recall 93.1%, 81/87), Class 0 (Recall 90.8%, 69/76). This suggests that the model is effectively trained in classes with a sufficient number of examples.\n",
    "For classes with a large number of objects (for example, class 4 with 165 examples), the model demonstrates high accuracy, which is expected with an unbalanced dataset.\n",
    "Weaknesses:\n",
    "Problems with rare classes:\n",
    "Class 8 (10 objects): Recall 0%, the model could not predict this class at all (all objects were mistakenly assigned to classes 3 and 7).\n",
    "Class 5 (62 objects): Recall 4.8%, very low — most objects are mistakenly classified as classes 0, 2 or 7.\n",
    "Class 6 (73 objects): Recall 21.9%, also a weak result, with frequent errors towards grades 0 and 7."
   ]
  },
  {
   "cell_type": "markdown",
   "metadata": {},
   "source": [
    "### Interpretation of the forecasting model using GRAD-CAM\n",
    "To better understand the prediction models, we used GRAD-CAM on the 1DCNN model to build a weighted activation map according to the importance of the gradient. If the activation map has a large gradient, it means that the activated area has a great influence on decision-making. In more detail, to build a weighted map, we extracted gradients relative to activation maps from the first convolutional layer of our models. The most effective DL models for LQTS 1, 2, and 3 were used from 5-fold cross-validation and training using 12-lead ECGs (first-time or all ECGs). Activation maps were compiled taking into account all ECG leads. Then we zeroed the gradients associated with the negative value of the activation maps, calculated the average gradient (weight) associated with each filter, and then multiplied each filter by its corresponding weight and summed all the filters to get the final map. Then the values of the calculated activation map were normalized in the range from 0 to 1. To obtain values from the calculation chart corresponding to different ECG sections (P-waves, QRS complexes, and S-segments with T-waves), we used lead I as a reference. In more detail, we superimposed lead I on the calculation chart and extracted the corresponding values (see the next paragraph to learn how to identify different ECG areas). Finally, we took the maximum values from each range and calculated the average of the maximum values (henceforth called the Grad-CAM score) for each type of wave."
   ]
  },
  {
   "cell_type": "code",
   "execution_count": 78,
   "metadata": {
    "execution": {
     "iopub.execute_input": "2025-04-17T13:08:31.321760Z",
     "iopub.status.busy": "2025-04-17T13:08:31.321156Z",
     "iopub.status.idle": "2025-04-17T13:08:31.327292Z",
     "shell.execute_reply": "2025-04-17T13:08:31.326539Z",
     "shell.execute_reply.started": "2025-04-17T13:08:31.321732Z"
    },
    "trusted": true
   },
   "outputs": [],
   "source": [
    "def compute_guided_gradcam(model, input_signal, layer_name, class_idx):\n",
    "    # Create a model that outputs the activations of the target layer and the final output\n",
    "    grad_model = Model(inputs=model.inputs, outputs=[model.get_layer(layer_name).output, model.output])\n",
    "\n",
    "    # Record operations for automatic differentiation\n",
    "    with tf.GradientTape() as tape:\n",
    "        conv_outputs, predictions = grad_model(input_signal)\n",
    "        loss = predictions[:, class_idx]\n",
    "\n",
    "    # Compute gradients of the class output with respect to the feature maps\n",
    "    grads = tape.gradient(loss, conv_outputs)\n",
    "    \n",
    "    # Set gradients to zero where activation maps are negative (Guided Grad-CAM)\n",
    "    conv_outputs = conv_outputs[0]  # Remove batch dimension\n",
    "    grads = grads[0]  # Remove batch dimension\n",
    "    grads = tf.where(conv_outputs < 0, 0, grads)\n",
    "    \n",
    "    # Compute the average gradient (weight) for each filter\n",
    "    pooled_grads = tf.reduce_mean(grads, axis=0)  # Average over timesteps\n",
    "    \n",
    "    # Weight the feature maps by their corresponding gradients and sum\n",
    "    heatmap = tf.reduce_sum(tf.multiply(pooled_grads, conv_outputs), axis=-1)\n",
    "    \n",
    "    # Apply ReLU to the heatmap (keep only positive contributions)\n",
    "    heatmap = tf.maximum(heatmap, 0)\n",
    "    \n",
    "    # Normalize the heatmap between 0 and 1\n",
    "    heatmap_max = tf.reduce_max(heatmap)\n",
    "    heatmap_min = tf.reduce_min(heatmap)\n",
    "    if heatmap_max != heatmap_min:\n",
    "        heatmap = (heatmap - heatmap_min) / (heatmap_max - heatmap_min)\n",
    "    else:\n",
    "        heatmap = tf.zeros_like(heatmap)\n",
    "    \n",
    "    return heatmap.numpy()"
   ]
  },
  {
   "cell_type": "code",
   "execution_count": 80,
   "metadata": {
    "execution": {
     "iopub.execute_input": "2025-04-17T13:09:45.137696Z",
     "iopub.status.busy": "2025-04-17T13:09:45.137384Z",
     "iopub.status.idle": "2025-04-17T13:09:45.148691Z",
     "shell.execute_reply": "2025-04-17T13:09:45.148015Z",
     "shell.execute_reply.started": "2025-04-17T13:09:45.137677Z"
    },
    "trusted": true
   },
   "outputs": [],
   "source": [
    "from scipy.signal import find_peaks\n",
    "\n",
    "# Function to identify ECG regions (P waves, QRS complexes, S-T segments) using lead I\n",
    "def identify_ecg_regions(signal, timesteps):\n",
    "    # Use lead I (assuming it's the first feature/channel)\n",
    "    lead_I = signal[0, :, 0]\n",
    "    \n",
    "    # Detect QRS complexes (R peaks)\n",
    "    peaks, _ = find_peaks(lead_I, height=0.5, distance=50)  # Adjust parameters as needed\n",
    "    \n",
    "    regions = {'P': [], 'QRS': [], 'ST': []}\n",
    "    for i in range(len(peaks)):\n",
    "        r_peak = peaks[i]\n",
    "        \n",
    "        # QRS complex: roughly 40 timesteps around the R peak\n",
    "        qrs_start = max(0, r_peak - 20)\n",
    "        qrs_end = min(timesteps, r_peak + 20)\n",
    "        regions['QRS'].append((qrs_start, qrs_end))\n",
    "        \n",
    "        # P wave: roughly 40 timesteps before QRS\n",
    "        p_start = max(0, r_peak - 60)\n",
    "        p_end = r_peak - 20\n",
    "        if p_end > p_start:\n",
    "            regions['P'].append((p_start, p_end))\n",
    "        \n",
    "        # S-T segment: roughly 80 timesteps after QRS\n",
    "        st_start = r_peak + 20\n",
    "        st_end = min(timesteps, r_peak + 100)\n",
    "        if st_end > st_start:\n",
    "            regions['ST'].append((st_start, st_end))\n",
    "    \n",
    "    return regions\n",
    "\n",
    "# Function to compute Grad-CAM scores for ECG regions\n",
    "def compute_gradcam_scores(heatmap, regions):\n",
    "    scores = {'P': [], 'QRS': [], 'ST': []}\n",
    "    \n",
    "    for wave_type, intervals in regions.items():\n",
    "        for start, end in intervals:\n",
    "            # Extract the heatmap values for the region and take the max\n",
    "            region_heatmap = heatmap[start:end]\n",
    "            if len(region_heatmap) > 0:\n",
    "                scores[wave_type].append(np.max(region_heatmap))\n",
    "    \n",
    "    # Compute the average of max values for each wave type\n",
    "    gradcam_scores = {}\n",
    "    for wave_type, max_values in scores.items():\n",
    "        if max_values:\n",
    "            gradcam_scores[wave_type] = np.mean(max_values)\n",
    "        else:\n",
    "            gradcam_scores[wave_type] = 0.0\n",
    "    \n",
    "    return gradcam_scores\n",
    "\n",
    "# Function to visualize the Grad-CAM heatmap overlaid on the input signal\n",
    "def plot_guided_gradcam(input_signal, heatmap, timesteps, regions, gradcam_scores, filename='improved_gradcam.png'):\n",
    "    fig, ax = plt.subplots(figsize=(12, 5))\n",
    "    \n",
    "    # Plot the input signal (lead I)\n",
    "    ax.plot(input_signal[0, :, 0], color='black', label='Input Signal (Lead I)')\n",
    "    \n",
    "    # Overlay the heatmap\n",
    "    ax2 = ax.twinx()\n",
    "    ax2.imshow(np.expand_dims(heatmap, axis=0), cmap='Reds', alpha=0.5, aspect='auto', extent=[0, timesteps, ax.get_ylim()[0], ax.get_ylim()[1]])\n",
    "    ax2.set_yticks([])  # Hide y-axis for heatmap\n",
    "    \n",
    "    # Highlight ECG regions\n",
    "    for wave_type, intervals in regions.items():\n",
    "        for start, end in intervals:\n",
    "            ax.axvspan(start, end, color='blue' if wave_type == 'QRS' else 'green' if wave_type == 'P' else 'purple', alpha=0.1)\n",
    "    \n",
    "    ax.set_xlabel('Timesteps')\n",
    "    ax.set_ylabel('Amplitude')\n",
    "    ax.legend()\n",
    "    \n",
    "    # Add Grad-CAM scores to the plot\n",
    "    score_text = f\"Grad-CAM Scores:\\nP: {gradcam_scores['P']:.3f}\\nQRS: {gradcam_scores['QRS']:.3f}\\nS-T: {gradcam_scores['ST']:.3f}\"\n",
    "    ax.text(0.02, 0.98, score_text, transform=ax.transAxes, verticalalignment='top', bbox=dict(facecolor='white', alpha=0.8))\n",
    "    \n",
    "    plt.savefig(filename)"
   ]
  },
  {
   "cell_type": "code",
   "execution_count": 82,
   "metadata": {
    "execution": {
     "iopub.execute_input": "2025-04-17T13:10:17.422312Z",
     "iopub.status.busy": "2025-04-17T13:10:17.421731Z",
     "iopub.status.idle": "2025-04-17T13:10:18.175114Z",
     "shell.execute_reply": "2025-04-17T13:10:18.174451Z",
     "shell.execute_reply.started": "2025-04-17T13:10:17.422292Z"
    },
    "trusted": true
   },
   "outputs": [
    {
     "name": "stdout",
     "output_type": "stream",
     "text": [
      "\u001b[1m1/1\u001b[0m \u001b[32m━━━━━━━━━━━━━━━━━━━━\u001b[0m\u001b[37m\u001b[0m \u001b[1m0s\u001b[0m 16ms/step\n"
     ]
    },
    {
     "data": {
      "image/png": "[encoded data removed]",
      "text/plain": [
       "<Figure size 1200x500 with 2 Axes>"
      ]
     },
     "metadata": {},
     "output_type": "display_data"
    }
   ],
   "source": [
    "sample = X_train[0:1] \n",
    "    \n",
    "# Choose the layer for Grad-CAM (first conv layer as per description)\n",
    "layer_name = 'conv3_block_1'\n",
    "    \n",
    "predictions = model.predict(sample)\n",
    "predicted_class = np.argmax(predictions, axis=1)[0]\n",
    "    \n",
    "# Compute Guided Grad-CAM heatmap\n",
    "heatmap = compute_guided_gradcam(model, sample, layer_name, predicted_class)\n",
    "    \n",
    "# Identify ECG regions using lead \n",
    "regions = identify_ecg_regions(sample, nTimesteps)\n",
    "    \n",
    "# Compute Grad-CAM scores for each ECG region\n",
    "gradcam_scores = compute_gradcam_scores(heatmap, regions)\n",
    "    \n",
    "plot_guided_gradcam(sample, heatmap, nTimesteps, regions, gradcam_scores, filename='gradcam_visualization_1.png')"
   ]
  }
 ],
 "metadata": {
  "kaggle": {
   "accelerator": "gpu",
   "dataSources": [
    {
     "datasetId": 7150883,
     "sourceId": 11417810,
     "sourceType": "datasetVersion"
    }
   ],
   "dockerImageVersionId": 31012,
   "isGpuEnabled": true,
   "isInternetEnabled": true,
   "language": "python",
   "sourceType": "notebook"
  },
  "kernelspec": {
   "display_name": "Python 3",
   "language": "python",
   "name": "python3"
  },
  "language_info": {
   "codemirror_mode": {
    "name": "ipython",
    "version": 3
   },
   "file_extension": ".py",
   "mimetype": "text/x-python",
   "name": "python",
   "nbconvert_exporter": "python",
   "pygments_lexer": "ipython3",
   "version": "3.11.11"
  }
 },
 "nbformat": 4,
 "nbformat_minor": 4
}
