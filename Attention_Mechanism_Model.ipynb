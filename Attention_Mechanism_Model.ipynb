{
 "cells": [
  {
   "cell_type": "markdown",
   "metadata": {},
   "source": [
    "# Multilevel Knowledge-Guided Attention for Modeling Electrocardiography Signals #\n",
    "\n",
    "Hong, S., Xiao, C., Ma, T., Li, H., & Sun, J. (2019). ***MINA: Multilevel Knowledge-Guided Attention for Modeling Electrocardiography Signals***. *IJCAI 2019*, pp. 5888–5894.\n",
    "\n",
    "### Introduction\n",
    "Electrocardiography (ECG) signals are commonly used to diagnose various cardiac abnormalities. Recently, deep learning models showed initial success on modeling ECG data, however they are mostly black-box, thus lack interpretability needed for clinical usage. In this work, we propose MultIlevel kNowledge-guided Attention networks (MINA) that predict heart diseases from ECG signals with intuitive explanation aligned with medical knowledge. By extracting multilevel (beat-, rhythm- and frequency-level) domain knowledge features separately, MINA combines the medical knowledge and ECG data via a multilevel attention model, making the learned models highly interpretable. \n",
    "\n",
    "### Using the code in coursework\n",
    "This code was used for the course work of Artem Vlasov's student of group 23 CST 2 'Classification of arrhythmias by ECG based on in-depth learning'.\n",
    "\n",
    "### Data and code availability\n",
    "The 12-lead ECG data set used in this study is the CPSC2018 training dataset which is released by the first China Physiological Signal Challenge (CPSC) 2018 during the seventh International Conference on Biomedical Engineering and Biotechnology. Details of the CPSC2018 dataset can be found at http://2018.icbeb.org/Challenge.html. The source code is provided and is available at https://github.com/hsd1503/MINA?tab=readme-ov-file."
   ]
  },
  {
   "cell_type": "code",
   "execution_count": null,
   "metadata": {
    "execution": {
     "iopub.execute_input": "2025-04-19T12:34:50.518556Z",
     "iopub.status.busy": "2025-04-19T12:34:50.518229Z",
     "iopub.status.idle": "2025-04-19T12:35:06.445267Z",
     "shell.execute_reply": "2025-04-19T12:35:06.444353Z",
     "shell.execute_reply.started": "2025-04-19T12:34:50.518526Z"
    },
    "trusted": true
   },
   "outputs": [],
   "source": [
    "import numpy as np\n",
    "import pandas as pd\n",
    "import matplotlib.pyplot as plt\n",
    "import sys, os\n",
    "import scipy.io\n",
    "import scipy.signal as signal\n",
    "import pickle as dill\n",
    "from tqdm import tqdm\n",
    "from time import localtime, strftime\n",
    "import random\n",
    "\n",
    "from shutil import copyfile\n",
    "\n",
    "from sklearn.metrics import log_loss\n",
    "from sklearn.metrics import (\n",
    "    accuracy_score, f1_score, precision_score, recall_score,\n",
    "    roc_auc_score, average_precision_score\n",
    ")\n",
    "from sklearn.model_selection import train_test_split\n",
    "from sklearn.model_selection import StratifiedShuffleSplit\n",
    "from sklearn.preprocessing import LabelEncoder\n",
    "\n",
    "import warnings\n",
    "from __future__ import print_function\n",
    "import torch\n",
    "import torch.nn as nn\n",
    "from torch.nn import BCEWithLogitsLoss\n",
    "import torch.nn.functional as F\n",
    "import torch.optim as optim\n",
    "from torch.autograd import Variable\n",
    "from torch.utils.data import DataLoader, TensorDataset\n",
    "from torch.nn.utils.rnn import pack_padded_sequence\n",
    "\n",
    "from tensorflow.keras.preprocessing.sequence import pad_sequences  # Для выравнивания длин сигналов\n",
    "import wfdb\n",
    "import dill\n",
    "from glob import glob\n",
    "import csv\n",
    "import pywt\n",
    "\n",
    "from collections import OrderedDict, Counter\n",
    "\n",
    "import scipy.io\n",
    "from scipy.signal import butter, lfilter, periodogram"
   ]
  },
  {
   "cell_type": "code",
   "execution_count": null,
   "metadata": {
    "execution": {
     "iopub.execute_input": "2025-04-19T12:35:06.447466Z",
     "iopub.status.busy": "2025-04-19T12:35:06.446860Z",
     "iopub.status.idle": "2025-04-19T12:35:06.453639Z",
     "shell.execute_reply": "2025-04-19T12:35:06.452870Z",
     "shell.execute_reply.started": "2025-04-19T12:35:06.447438Z"
    },
    "trusted": true
   },
   "outputs": [],
   "source": [
    "def preprocess_physionet(data_path, output_path='/kaggle/working/', max_length=9000):\n",
    "    \"\"\"\n",
    "    Обрабатывает PhysioNet ECG Dataset и сохраняет в .pkl\n",
    "    :param data_path: путь к данным\n",
    "    :param max_length: длина для padding/truncating сигналов\n",
    "    \"\"\"\n",
    "\n",
    "    # Читаем метки из REFERENCE-v3.csv или labels.csv (зависит от названия вашего файла с метками)\n",
    "    label_df = pd.read_csv(os.path.join(data_path, 'labels.csv'))\n",
    "    \n",
    "\n",
    "    # Читаем список файлов\n",
    "    labels = label_df.drop(columns=['patient_id', 'fold']).values\n",
    "    filenames = label_df.iloc[:, 0].values\n",
    "\n",
    "    all_data = []\n",
    "    for filename in tqdm(filenames, desc=\"Чтение .mat файлов\"):\n",
    "        mat = scipy.io.loadmat(os.path.join(data_path, f'{filename}.mat'))\n",
    "        mat = np.array(mat['val'])[0]  # Берем только первый канал\n",
    "        all_data.append(mat)\n",
    "\n",
    "    # Приведение всех последовательностей к одинаковой длине\n",
    "    all_data = pad_sequences(all_data, maxlen=max_length, padding='post', truncating='post')\n",
    "\n",
    "    # Сохраняем данные и метки\n",
    "    res = {'data': all_data, 'label': labels}\n",
    "    with open(os.path.join(output_path, 'challenge2018.pkl'), 'wb') as fout:\n",
    "        dill.dump(res, fout)\n",
    "\n",
    "    print(f\"Файл сохранен: {os.path.join(output_path, 'challenge2018.pkl')}\")\n"
   ]
  },
  {
   "cell_type": "code",
   "execution_count": null,
   "metadata": {
    "execution": {
     "iopub.execute_input": "2025-04-19T12:35:06.455781Z",
     "iopub.status.busy": "2025-04-19T12:35:06.455508Z",
     "iopub.status.idle": "2025-04-19T12:35:06.479589Z",
     "shell.execute_reply": "2025-04-19T12:35:06.478732Z",
     "shell.execute_reply.started": "2025-04-19T12:35:06.455760Z"
    },
    "trusted": true
   },
   "outputs": [],
   "source": [
    "def filter_channel(x):\n",
    "    \n",
    "    signal_freq = 300\n",
    "    \n",
    "    ### candidate channels for ECG\n",
    "    P_wave = (0.67,5)\n",
    "    QRS_complex = (10,50)\n",
    "    T_wave = (1,7)\n",
    "    muscle = (5,50)\n",
    "    resp = (0.12,0.5)\n",
    "    ECG_preprocessed = (0.5, 50)\n",
    "    wander = (0.001, 0.5)\n",
    "    noise = 50\n",
    "    \n",
    "    ### use low (wander), middle (ECG_preprocessed) and high (noise) for example\n",
    "    bandpass_list = [wander, ECG_preprocessed]\n",
    "    highpass_list = [noise]\n",
    "    \n",
    "    nyquist_freq = 0.5 * signal_freq\n",
    "    filter_order = 1\n",
    "    ### out including original x\n",
    "    out_list = [x]\n",
    "    \n",
    "    for bandpass in bandpass_list:\n",
    "        low = bandpass[0] / nyquist_freq\n",
    "        high = bandpass[1] / nyquist_freq\n",
    "        b, a = butter(filter_order, [low, high], btype=\"band\")\n",
    "        y = lfilter(b, a, x)\n",
    "        out_list.append(y)\n",
    "        \n",
    "    for highpass in highpass_list:\n",
    "        high = highpass / nyquist_freq\n",
    "        b, a = butter(filter_order, high, btype=\"high\")\n",
    "        y = lfilter(b, a, x)\n",
    "        out_list.append(y)\n",
    "        \n",
    "    out = np.array(out_list)\n",
    "    \n",
    "    return out\n",
    "\n",
    "\n",
    "def slide_and_cut(X, Y, window_size, stride, output_pid=False):\n",
    "    out_X, out_Y, out_pid = [], [], []\n",
    "    n_sample = X.shape[0]\n",
    "\n",
    "    for i in range(n_sample):\n",
    "        tmp_ts = X[i]\n",
    "        tmp_Y = Y[i]\n",
    "\n",
    "        for j in range(0, len(tmp_ts) - window_size, stride):\n",
    "            out_X.append(tmp_ts[j:j + window_size])\n",
    "            out_Y.append(tmp_Y)\n",
    "            out_pid.append(i)\n",
    "\n",
    "    out_X, out_Y, out_pid = np.array(out_X), np.array(out_Y), np.array(out_pid)\n",
    "\n",
    "    return (out_X, out_Y, out_pid) if output_pid else (out_X, out_Y)\n",
    "\n",
    "\n",
    "def compute_beat(X):\n",
    "    out = np.zeros((X.shape[0], X.shape[1], X.shape[2]))\n",
    "    for i in tqdm(range(out.shape[0]), desc=\"compute_beat\"):\n",
    "        for j in range(out.shape[1]):\n",
    "            out[i, j] = np.concatenate([[0], np.abs(np.diff(X[i,j,:]))])\n",
    "    return out\n",
    "\n",
    "\n",
    "def compute_rhythm(X, n_split):\n",
    "    cnt_split = int(X.shape[2]/n_split)\n",
    "    out = np.zeros((X.shape[0], X.shape[1], cnt_split))\n",
    "    for i in tqdm(range(out.shape[0]), desc=\"compute_rhythm\"):\n",
    "        for j in range(out.shape[1]):\n",
    "            tmp_ts = X[i,j,:]\n",
    "            tmp_ts_cut = np.split(tmp_ts, X.shape[2]/n_split)\n",
    "            for k in range(cnt_split):\n",
    "                out[i, j, k] = np.std(tmp_ts_cut[k])\n",
    "    return out\n",
    "\n",
    "def compute_freq(X):\n",
    "    out = np.zeros((X.shape[0], X.shape[1], 1))\n",
    "    fs = 300\n",
    "    for i in tqdm(range(out.shape[0]), desc=\"compute_freq\"):\n",
    "        for j in range(out.shape[1]):\n",
    "            _, Pxx_den = periodogram(X[i,j,:], fs)\n",
    "            out[i, j, 0] = np.sum(Pxx_den)\n",
    "    return out\n",
    "\n",
    "\n",
    "def make_data_physionet(data_path, n_split=50, window_size=2000, stride=500, output_path='/kaggle/working/'):\n",
    "    # Загружаем данные\n",
    "    with open(os.path.join(output_path, 'challenge2018.pkl'), 'rb') as fin:\n",
    "        res = dill.load(fin)\n",
    "\n",
    "    all_data = res['data']\n",
    "    all_labels_raw = res['label']\n",
    "\n",
    "    # Нормализация\n",
    "    for i in range(len(all_data)):\n",
    "        tmp_data = all_data[i]\n",
    "        tmp_std = np.std(tmp_data)\n",
    "        tmp_mean = np.mean(tmp_data)\n",
    "        all_data[i] = (tmp_data - tmp_mean) / tmp_std\n",
    "\n",
    "    all_data = np.array(all_data)\n",
    "\n",
    "    all_label = all_labels_raw\n",
    "    \n",
    "    # Делим на train / val / test\n",
    "    n_sample = len(all_label)\n",
    "    split_idx_1 = int(0.75 * n_sample)\n",
    "    split_idx_2 = int(0.85 * n_sample)\n",
    "\n",
    "    shuffle_idx = np.random.permutation(n_sample)\n",
    "    all_data = all_data[shuffle_idx]\n",
    "    all_label = all_label[shuffle_idx]\n",
    "\n",
    "    X_train, X_val, X_test = all_data[:split_idx_1], all_data[split_idx_1:split_idx_2], all_data[split_idx_2:]\n",
    "    Y_train, Y_val, Y_test = all_label[:split_idx_1], all_label[split_idx_1:split_idx_2], all_label[split_idx_2:]\n",
    "\n",
    "    # Разрезаем\n",
    "    X_train, Y_train = slide_and_cut(X_train, Y_train, window_size=window_size, stride=stride)\n",
    "    X_val, Y_val = slide_and_cut(X_val, Y_val, window_size=window_size, stride=stride)\n",
    "    X_test, Y_test, pid_test = slide_and_cut(X_test, Y_test, window_size=window_size, stride=stride, output_pid=True)\n",
    "\n",
    "    # Перемешиваем train\n",
    "    shuffle_pid = np.random.permutation(Y_train.shape[0])\n",
    "    X_train, Y_train = X_train[shuffle_pid], Y_train[shuffle_pid]\n",
    "\n",
    "    # Обработка каналов\n",
    "    X_train_ml = np.array([filter_channel(x) for x in tqdm(X_train, desc=\"X_train_ml\")])\n",
    "    X_val_ml = np.array([filter_channel(x) for x in tqdm(X_val, desc=\"X_val_ml\")])\n",
    "    X_test_ml = np.array([filter_channel(x) for x in tqdm(X_test, desc=\"X_test_ml\")])\n",
    "\n",
    "    # Сохраняем\n",
    "    with open(os.path.join(output_path, 'mina_info.pkl'), 'wb') as fout:\n",
    "        dill.dump({'Y_train': Y_train, 'Y_val': Y_val, 'Y_test': Y_test, 'pid_test': pid_test}, fout)\n",
    "\n",
    "    np.save(open(os.path.join(output_path, 'mina_X_train.bin'), 'wb'), X_train_ml)\n",
    "    np.save(open(os.path.join(output_path, 'mina_X_val.bin'), 'wb'), X_val_ml)\n",
    "    np.save(open(os.path.join(output_path, 'mina_X_test.bin'), 'wb'), X_test_ml)\n",
    "\n",
    "\n",
    "def make_knowledge_physionet(data_path, n_split=50, output_path='/kaggle/working/'):\n",
    "\n",
    "    # read\n",
    "    fin = open(os.path.join(output_path, 'mina_X_train.bin'), 'rb')\n",
    "    X_train = np.load(fin)\n",
    "    fin.close()\n",
    "    fin = open(os.path.join(output_path, 'mina_X_val.bin'), 'rb')\n",
    "    X_val = np.load(fin)\n",
    "    fin.close()\n",
    "    fin = open(os.path.join(output_path, 'mina_X_test.bin'), 'rb')\n",
    "    X_test = np.load(fin)\n",
    "    fin.close()\n",
    "\n",
    "    # compute knowledge\n",
    "    K_train_beat = compute_beat(X_train)\n",
    "    K_train_rhythm = compute_rhythm(X_train, n_split)\n",
    "    K_train_freq = compute_freq(X_train)\n",
    "\n",
    "    K_val_beat = compute_beat(X_val)\n",
    "    K_val_rhythm = compute_rhythm(X_val, n_split)\n",
    "    K_val_freq = compute_freq(X_val)\n",
    "\n",
    "    K_test_beat = compute_beat(X_test)\n",
    "    K_test_rhythm = compute_rhythm(X_test, n_split)\n",
    "    K_test_freq = compute_freq(X_test)\n",
    "\n",
    "    # save\n",
    "    fout = open(os.path.join(output_path, 'mina_K_train_beat.bin'), 'wb')\n",
    "    np.save(fout, K_train_beat)\n",
    "    fout.close()\n",
    "    fout = open(os.path.join(output_path, 'mina_K_val_beat.bin'), 'wb')\n",
    "    np.save(fout, K_val_beat)\n",
    "    fout.close()\n",
    "    fout = open(os.path.join(output_path, 'mina_K_test_beat.bin'), 'wb')\n",
    "    np.save(fout, K_test_beat)\n",
    "    fout.close()\n",
    "\n",
    "    res = {'K_train_rhythm': K_train_rhythm, 'K_train_freq': K_train_freq, \n",
    "    'K_val_rhythm': K_val_rhythm, 'K_val_freq': K_val_freq, \n",
    "    'K_test_rhythm': K_test_rhythm, 'K_test_freq': K_test_freq}\n",
    "    with open(os.path.join(output_path, 'mina_knowledge.pkl'), 'wb') as fout:\n",
    "        dill.dump(res, fout)"
   ]
  },
  {
   "cell_type": "code",
   "execution_count": null,
   "metadata": {
    "execution": {
     "iopub.execute_input": "2025-04-19T12:35:06.480829Z",
     "iopub.status.busy": "2025-04-19T12:35:06.480539Z",
     "iopub.status.idle": "2025-04-19T12:35:06.500592Z",
     "shell.execute_reply": "2025-04-19T12:35:06.499846Z",
     "shell.execute_reply.started": "2025-04-19T12:35:06.480797Z"
    },
    "trusted": true
   },
   "outputs": [],
   "source": [
    "from collections import OrderedDict\n",
    "\n",
    "def softmax(x):\n",
    "    e_x = np.exp(x - np.max(x, axis=1, keepdims=True))\n",
    "    return e_x / np.sum(e_x, axis=1, keepdims=True)\n",
    "\n",
    "def evaluate(gt, pred, recall, precision, auroc, auprc, f1, accuracy):\n",
    "    res = OrderedDict()\n",
    "    \n",
    "    pred = np.array(pred)\n",
    "    if not np.allclose(np.sum(pred, axis=1), 1.0, atol=1e-3):\n",
    "        pred = softmax(pred)  # логиты → вероятности\n",
    "\n",
    "    try:\n",
    "        res['auroc'] = roc_auc_score(gt, pred, multi_class='ovr')\n",
    "        auroc.append(res['auroc'])\n",
    "    except Exception as e:\n",
    "        print(\"ROC AUC error:\", e)\n",
    "        res['auroc'] = None\n",
    "\n",
    "    try:\n",
    "        gt_bin = np.eye(pred.shape[1])[gt]  # one-hot представление\n",
    "        res['auprc'] = average_precision_score(gt_bin, pred, average='macro')\n",
    "        auprc.append(res['auprc'])\n",
    "    except Exception as e:\n",
    "        print(\"AUPRC error:\", e)\n",
    "        res['auprc'] = None\n",
    "\n",
    "    pred_label = np.argmax(pred, axis=1)\n",
    "\n",
    "    res['precision'] = precision_score(gt, pred_label, average='macro', zero_division=0)\n",
    "    precision.append(res['precision'])\n",
    "\n",
    "    res['recall'] = recall_score(gt, pred_label, average='macro', zero_division=0)\n",
    "    recall.append(res['recall'])\n",
    "\n",
    "    res['f1_score'] = f1_score(gt, pred_label, average='macro', zero_division=0)\n",
    "    f1.append(res['f1_score'])\n",
    "\n",
    "    res['accuracy'] = accuracy_score(gt, pred_label)\n",
    "    accuracy.append(res['accuracy'])\n",
    "\n",
    "    return res"
   ]
  },
  {
   "cell_type": "code",
   "execution_count": null,
   "metadata": {
    "execution": {
     "iopub.execute_input": "2025-04-19T12:35:06.501889Z",
     "iopub.status.busy": "2025-04-19T12:35:06.501576Z",
     "iopub.status.idle": "2025-04-19T12:35:06.519876Z",
     "shell.execute_reply": "2025-04-19T12:35:06.519172Z",
     "shell.execute_reply.started": "2025-04-19T12:35:06.501859Z"
    },
    "trusted": true
   },
   "outputs": [],
   "source": [
    "class Net(nn.Module):\n",
    "    def __init__(self, n_channel, n_dim, n_split):\n",
    "        super(Net, self).__init__()\n",
    "        \n",
    "        self.n_channel = n_channel\n",
    "        self.n_dim = n_dim\n",
    "        self.n_split = n_split\n",
    "        self.n_class = 9  # изменено с 2 на 9 для соблюдения единых условий экспериментов\n",
    "        \n",
    "        self.base_net_0 = BaseNet(self.n_dim, self.n_split)\n",
    "        self.base_net_1 = BaseNet(self.n_dim, self.n_split)\n",
    "        self.base_net_2 = BaseNet(self.n_dim, self.n_split)\n",
    "        self.base_net_3 = BaseNet(self.n_dim, self.n_split)\n",
    "            \n",
    "        ### attention\n",
    "        self.out_size = 8\n",
    "        self.att_channel_dim = 2\n",
    "        self.W_att_channel = nn.Parameter(torch.randn(self.out_size+1, self.att_channel_dim))\n",
    "        self.v_att_channel = nn.Parameter(torch.randn(self.att_channel_dim, 1))\n",
    "        \n",
    "        ### fc\n",
    "        self.fc = nn.Linear(self.out_size, self.n_class) \n",
    "        \n",
    "    def forward(self, x_0, x_1, x_2, x_3, \n",
    "                k_beat_0, k_beat_1, k_beat_2, k_beat_3, \n",
    "                k_rhythm_0, k_rhythm_1, k_rhythm_2, k_rhythm_3, \n",
    "                k_freq):\n",
    "\n",
    "        x_0, alpha_0, beta_0 = self.base_net_0(x_0, k_beat_0, k_rhythm_0)\n",
    "        x_1, alpha_1, beta_1 = self.base_net_1(x_1, k_beat_1, k_rhythm_1)\n",
    "        x_2, alpha_2, beta_2 = self.base_net_2(x_2, k_beat_2, k_rhythm_2)\n",
    "        x_3, alpha_3, beta_3 = self.base_net_3(x_3, k_beat_3, k_rhythm_3)\n",
    "        \n",
    "        x = torch.stack([x_0, x_1, x_2, x_3], 1)\n",
    "\n",
    "        ############################################\n",
    "        ### attention on channel\n",
    "        ############################################\n",
    "        k_freq = k_freq.permute(1, 0, 2)\n",
    "        tmp_x = torch.cat((x, k_freq), dim=-1)\n",
    "        e = torch.matmul(tmp_x, self.W_att_channel)\n",
    "        e = torch.matmul(torch.tanh(e), self.v_att_channel)\n",
    "        n1 = torch.exp(e)\n",
    "        n2 = torch.sum(torch.exp(e), 1, keepdim=True)\n",
    "        gama = torch.div(n1, n2)\n",
    "        x = torch.sum(torch.mul(gama, x), 1)\n",
    "        \n",
    "        ############################################\n",
    "        ### fc\n",
    "        ############################################\n",
    "        x = self.fc(x)  # logits, без softmax\n",
    "        \n",
    "        ############################################\n",
    "        ### return \n",
    "        ############################################\n",
    "        att_dic = {\"alpha_0\":alpha_0, \"beta_0\":beta_0, \n",
    "                   \"alpha_1\":alpha_1, \"beta_1\":beta_1, \n",
    "                   \"alpha_2\":alpha_2, \"beta_2\":beta_2, \n",
    "                   \"alpha_3\":alpha_3, \"beta_3\":beta_3, \n",
    "                   \"gama\":gama}\n",
    "        \n",
    "        return x, att_dic\n"
   ]
  },
  {
   "cell_type": "code",
   "execution_count": 7,
   "metadata": {
    "execution": {
     "iopub.execute_input": "2025-04-19T12:35:06.520779Z",
     "iopub.status.busy": "2025-04-19T12:35:06.520494Z",
     "iopub.status.idle": "2025-04-19T12:35:06.539160Z",
     "shell.execute_reply": "2025-04-19T12:35:06.538375Z",
     "shell.execute_reply.started": "2025-04-19T12:35:06.520739Z"
    },
    "trusted": true
   },
   "outputs": [],
   "source": [
    "class BaseNet(nn.Module):\n",
    "    def __init__(self, n_dim, n_split):\n",
    "        super(BaseNet, self).__init__()\n",
    "        \n",
    "        self.n_dim = n_dim\n",
    "        self.n_split = n_split\n",
    "        self.n_seg = int(n_dim/n_split)\n",
    "        \n",
    "        ### Input: (batch size, number of channels, length of signal sequence)\n",
    "        self.conv_out_channels = 64\n",
    "        self.conv_kernel_size = 32\n",
    "        self.conv_stride = 2\n",
    "        self.conv = nn.Conv1d(in_channels=1, \n",
    "                              out_channels=self.conv_out_channels, \n",
    "                              kernel_size=self.conv_kernel_size, \n",
    "                              stride=self.conv_stride)\n",
    "        self.conv_k = nn.Conv1d(in_channels=1, \n",
    "                                out_channels=1, \n",
    "                                kernel_size=self.conv_kernel_size, \n",
    "                                stride=self.conv_stride)\n",
    "        self.att_cnn_dim = 8\n",
    "        self.W_att_cnn = nn.Parameter(torch.randn(self.conv_out_channels+1, self.att_cnn_dim))\n",
    "        self.v_att_cnn = nn.Parameter(torch.randn(self.att_cnn_dim, 1))\n",
    "        \n",
    "        ### Input: (batch size, length of signal sequence, input_size)\n",
    "        self.rnn_hidden_size = 32\n",
    "        self.lstm = nn.LSTM(input_size=(self.conv_out_channels), \n",
    "                            hidden_size=self.rnn_hidden_size, \n",
    "                            num_layers=1, batch_first=True, bidirectional=True)\n",
    "        self.att_rnn_dim = 8\n",
    "        self.W_att_rnn = nn.Parameter(torch.randn(2*self.rnn_hidden_size+1, self.att_rnn_dim))\n",
    "        self.v_att_rnn = nn.Parameter(torch.randn(self.att_rnn_dim, 1))\n",
    "        \n",
    "        ### fc\n",
    "        self.do = nn.Dropout(p=0.5)\n",
    "        self.out_size = 8\n",
    "        self.fc = nn.Linear(2*self.rnn_hidden_size, self.out_size)\n",
    "    \n",
    "    def forward(self, x, k_beat, k_rhythm):\n",
    "        \n",
    "        self.batch_size = x.size()[0]\n",
    "\n",
    "        ############################################\n",
    "        ### reshape\n",
    "        ############################################\n",
    "        # print('orignial x:', x.size())\n",
    "        x = x.view(-1, self.n_split)\n",
    "        x = x.unsqueeze(1)\n",
    "        \n",
    "        k_beat = k_beat.view(-1, self.n_split)\n",
    "        k_beat = k_beat.unsqueeze(1)\n",
    "        \n",
    "        ############################################\n",
    "        ### conv\n",
    "        ############################################\n",
    "        x = F.relu(self.conv(x))\n",
    "        \n",
    "        k_beat = F.relu(self.conv_k(k_beat))\n",
    "        \n",
    "        ############################################\n",
    "        ### attention conv\n",
    "        ############################################\n",
    "        x = x.permute(0, 2, 1)\n",
    "        k_beat = k_beat.permute(0, 2, 1)\n",
    "        tmp_x = torch.cat((x, k_beat), dim=-1)\n",
    "        e = torch.matmul(tmp_x, self.W_att_cnn)\n",
    "        e = torch.matmul(torch.tanh(e), self.v_att_cnn)\n",
    "        n1 = torch.exp(e)\n",
    "        n2 = torch.sum(torch.exp(e), 1, keepdim=True)\n",
    "        alpha = torch.div(n1, n2)\n",
    "        x = torch.sum(torch.mul(alpha, x), 1)\n",
    "        \n",
    "        ############################################\n",
    "        ### reshape for rnn\n",
    "        ############################################\n",
    "        x = x.view(self.batch_size, self.n_seg, -1)\n",
    "    \n",
    "        ############################################\n",
    "        ### rnn        \n",
    "        ############################################\n",
    "        \n",
    "        k_rhythm = k_rhythm.unsqueeze(-1)\n",
    "        o, (ht, ct) = self.lstm(x)\n",
    "        tmp_o = torch.cat((o, k_rhythm), dim=-1)\n",
    "        e = torch.matmul(tmp_o, self.W_att_rnn)\n",
    "        e = torch.matmul(torch.tanh(e), self.v_att_rnn)\n",
    "        n1 = torch.exp(e)\n",
    "        n2 = torch.sum(torch.exp(e), 1, keepdim=True)\n",
    "        beta = torch.div(n1, n2)\n",
    "        x = torch.sum(torch.mul(beta, o), 1)\n",
    "        \n",
    "        ############################################\n",
    "        ### fc\n",
    "        ############################################\n",
    "        x = F.relu(self.fc(x))\n",
    "        x = self.do(x)\n",
    "        \n",
    "        return x, alpha, beta        "
   ]
  },
  {
   "cell_type": "code",
   "execution_count": null,
   "metadata": {
    "execution": {
     "iopub.execute_input": "2025-04-19T12:35:06.541083Z",
     "iopub.status.busy": "2025-04-19T12:35:06.540848Z",
     "iopub.status.idle": "2025-04-19T12:35:06.558562Z",
     "shell.execute_reply": "2025-04-19T12:35:06.557887Z",
     "shell.execute_reply.started": "2025-04-19T12:35:06.541052Z"
    },
    "trusted": true
   },
   "outputs": [],
   "source": [
    "def train(model, optimizer, loss_func, epoch, batch_size, \n",
    "          X_train, Y_train, K_train_beat, K_train_rhythm, K_train_freq, \n",
    "          log_file, loss_metric, auroc_train, auprc_train, f1_score_train, accuracy_train, recall_train, precision_train):\n",
    "    \"\"\"\n",
    "    X_train: (n_channel, n_sample, n_dim)\n",
    "    Y_train: (n_sample,)\n",
    "    \n",
    "    K_train_beat: (n_channel, n_sample, n_dim)\n",
    "    K_train_rhythm: (n_channel, n_sample, n_dim/n_split)\n",
    "    K_train_freq: (n_channel, n_sample)\n",
    "    \"\"\"\n",
    "    model.train()\n",
    "    \n",
    "    n_train = len(Y_train)\n",
    "    \n",
    "    pred_all = []\n",
    "    batch_start_idx = 0\n",
    "    batch_end_idx = 0\n",
    "    loss_all = []\n",
    "    for _ in tqdm(range(n_train//batch_size+1), desc=\"train\"):\n",
    "        batch_end_idx = batch_end_idx + batch_size\n",
    "        if batch_end_idx >= n_train:\n",
    "            batch_end_idx = n_train\n",
    "            \n",
    "        ### input data\n",
    "        batch_input_0 = Variable(torch.FloatTensor(X_train[0, batch_start_idx: batch_end_idx, :])).cuda()\n",
    "        batch_input_1 = Variable(torch.FloatTensor(X_train[1, batch_start_idx: batch_end_idx, :])).cuda()\n",
    "        batch_input_2 = Variable(torch.FloatTensor(X_train[2, batch_start_idx: batch_end_idx, :])).cuda()\n",
    "        batch_input_3 = Variable(torch.FloatTensor(X_train[3, batch_start_idx: batch_end_idx, :])).cuda()\n",
    "        \n",
    "        ### input K_beat\n",
    "        batch_K_beat_0 = Variable(torch.FloatTensor(K_train_beat[0, batch_start_idx: batch_end_idx, :])).cuda()\n",
    "        batch_K_beat_1 = Variable(torch.FloatTensor(K_train_beat[1, batch_start_idx: batch_end_idx, :])).cuda()\n",
    "        batch_K_beat_2 = Variable(torch.FloatTensor(K_train_beat[2, batch_start_idx: batch_end_idx, :])).cuda()\n",
    "        batch_K_beat_3 = Variable(torch.FloatTensor(K_train_beat[3, batch_start_idx: batch_end_idx, :])).cuda()\n",
    "\n",
    "        ### input K_rhythm\n",
    "        batch_K_rhythm_0 = Variable(torch.FloatTensor(K_train_rhythm[0, batch_start_idx: batch_end_idx, :])).cuda()\n",
    "        batch_K_rhythm_1 = Variable(torch.FloatTensor(K_train_rhythm[1, batch_start_idx: batch_end_idx, :])).cuda()\n",
    "        batch_K_rhythm_2 = Variable(torch.FloatTensor(K_train_rhythm[2, batch_start_idx: batch_end_idx, :])).cuda()\n",
    "        batch_K_rhythm_3 = Variable(torch.FloatTensor(K_train_rhythm[3, batch_start_idx: batch_end_idx, :])).cuda()        \n",
    "        \n",
    "        ### input K_freq\n",
    "        batch_K_freq = Variable(torch.FloatTensor(K_train_freq[:, batch_start_idx: batch_end_idx, :])).cuda()  \n",
    "        \n",
    "        ### gt\n",
    "        batch_gt = Variable(torch.LongTensor(Y_train[batch_start_idx: batch_end_idx])).cuda()\n",
    "        \n",
    "        pred, _ = model(batch_input_0, batch_input_1, batch_input_2, batch_input_3, \n",
    "                        batch_K_beat_0, batch_K_beat_1, batch_K_beat_2, batch_K_beat_3, \n",
    "                        batch_K_rhythm_0, batch_K_rhythm_1, batch_K_rhythm_2, batch_K_rhythm_3, \n",
    "                        batch_K_freq)\n",
    "        \n",
    "        pred_all.append(pred.cpu().data.numpy())\n",
    "        # print(pred, batch_gt)\n",
    "\n",
    "        loss = loss_func(pred, batch_gt)\n",
    "        loss_all.append(loss.cpu().data.numpy())\n",
    "        optimizer.zero_grad()\n",
    "        loss.backward()\n",
    "        optimizer.step()\n",
    "\n",
    "        batch_start_idx = batch_start_idx + batch_size\n",
    "\n",
    "    loss_res = np.mean(loss_all)\n",
    "    loss_metric.append(loss_res) # добавление в список loss\n",
    "    print('epoch {0} '.format(epoch))\n",
    "    print('loss ', np.mean(loss_all))\n",
    "    print('train | ', end='')\n",
    "    pred_all = np.concatenate(pred_all, axis=0)\n",
    "    res = evaluate(Y_train, pred_all, recall_train, precision_train, auroc_train, auprc_train, f1_score_train, accuracy_train)\n",
    "    res['loss_res'] = loss_res\n",
    "    res['pred_all'] = pred_all\n",
    "    \n",
    "    with open(log_file, 'a') as fout:\n",
    "        print('epoch {0} '.format(epoch), 'train | ', res, file=fout)\n",
    "        print('loss_all ', np.mean(loss_all), file=fout)\n",
    "        \n",
    "    return res\n",
    "    \n",
    "\n",
    "def test(model, batch_size, \n",
    "         X_test, Y_test, K_test_beat, K_test_rhythm, K_test_freq, \n",
    "         log_file, loss_metric, auroc_test, auprc_test, f1_score_test, accuracy_test, recall_test, precision_test):\n",
    "    \n",
    "    model.eval()\n",
    "    \n",
    "    n_test = len(Y_test)\n",
    "    \n",
    "    pred_all = []\n",
    "    att_dic_all = []\n",
    "    \n",
    "    batch_start_idx = 0\n",
    "    batch_end_idx = 0\n",
    "    for _ in tqdm(range(n_test//batch_size+1), desc=\"test\"):\n",
    "        batch_end_idx = batch_end_idx + batch_size\n",
    "        if batch_end_idx >= n_test:\n",
    "            batch_end_idx = n_test\n",
    "            \n",
    "        ### input data\n",
    "        batch_input_0 = Variable(torch.FloatTensor(X_test[0, batch_start_idx: batch_end_idx, :])).cuda()\n",
    "        batch_input_1 = Variable(torch.FloatTensor(X_test[1, batch_start_idx: batch_end_idx, :])).cuda()\n",
    "        batch_input_2 = Variable(torch.FloatTensor(X_test[2, batch_start_idx: batch_end_idx, :])).cuda()\n",
    "        batch_input_3 = Variable(torch.FloatTensor(X_test[3, batch_start_idx: batch_end_idx, :])).cuda()\n",
    "        \n",
    "        ### input K_beat\n",
    "        batch_K_beat_0 = Variable(torch.FloatTensor(K_test_beat[0, batch_start_idx: batch_end_idx, :])).cuda()\n",
    "        batch_K_beat_1 = Variable(torch.FloatTensor(K_test_beat[1, batch_start_idx: batch_end_idx, :])).cuda()\n",
    "        batch_K_beat_2 = Variable(torch.FloatTensor(K_test_beat[2, batch_start_idx: batch_end_idx, :])).cuda()\n",
    "        batch_K_beat_3 = Variable(torch.FloatTensor(K_test_beat[3, batch_start_idx: batch_end_idx, :])).cuda()\n",
    "\n",
    "        ### input K_rhythm\n",
    "        batch_K_rhythm_0 = Variable(torch.FloatTensor(K_test_rhythm[0, batch_start_idx: batch_end_idx, :])).cuda()\n",
    "        batch_K_rhythm_1 = Variable(torch.FloatTensor(K_test_rhythm[1, batch_start_idx: batch_end_idx, :])).cuda()\n",
    "        batch_K_rhythm_2 = Variable(torch.FloatTensor(K_test_rhythm[2, batch_start_idx: batch_end_idx, :])).cuda()\n",
    "        batch_K_rhythm_3 = Variable(torch.FloatTensor(K_test_rhythm[3, batch_start_idx: batch_end_idx, :])).cuda()\n",
    "        \n",
    "        ### input K_freq\n",
    "        batch_K_freq = Variable(torch.FloatTensor(K_test_freq[:, batch_start_idx: batch_end_idx, :])).cuda()\n",
    "        \n",
    "        ### gt\n",
    "        batch_gt = Variable(torch.LongTensor(Y_test[batch_start_idx: batch_end_idx])).cuda()\n",
    "\n",
    "        pred, att_dic = model(batch_input_0, batch_input_1, batch_input_2, batch_input_3, \n",
    "                              batch_K_beat_0, batch_K_beat_1, batch_K_beat_2, batch_K_beat_3, \n",
    "                              batch_K_rhythm_0, batch_K_rhythm_1, batch_K_rhythm_2, batch_K_rhythm_3, \n",
    "                              batch_K_freq)\n",
    "            \n",
    "        for k, v in att_dic.items():\n",
    "            att_dic[k] = v.cpu().data.numpy()\n",
    "        att_dic_all.append(att_dic)\n",
    "        pred_all.append(pred.cpu().data.numpy())\n",
    "\n",
    "        batch_start_idx = batch_start_idx + batch_size\n",
    "\n",
    "    print('test | ', end='')\n",
    "    pred_all = np.concatenate(pred_all, axis=0)\n",
    "    res = evaluate(Y_test, pred_all, recall_test, precision_test, auroc_test, auprc_test, f1_score_test, accuracy_test)\n",
    "    res['pred_all'] = pred_all\n",
    "    \n",
    "    with open(log_file, 'a') as fout:\n",
    "        print('test | ', res, file=fout)\n",
    "\n",
    "    return res, att_dic_all"
   ]
  },
  {
   "cell_type": "code",
   "execution_count": null,
   "metadata": {
    "execution": {
     "iopub.execute_input": "2025-04-19T12:35:06.559747Z",
     "iopub.status.busy": "2025-04-19T12:35:06.559452Z",
     "iopub.status.idle": "2025-04-19T12:35:06.578502Z",
     "shell.execute_reply": "2025-04-19T12:35:06.577852Z",
     "shell.execute_reply.started": "2025-04-19T12:35:06.559717Z"
    },
    "trusted": true
   },
   "outputs": [],
   "source": [
    "def run(data_path, loss_metric, \n",
    "        aauroc_train, auprc_train, f1_score_train, accuracy_train, recall_train, precision_train,\n",
    "        auroc_test, auprc_test, f1_score_test, accuracy_test, recall_test, precision_test, output_path='/kaggle/working/'):\n",
    "    device = torch.device(\"cuda\" if torch.cuda.is_available() else \"cpu\")\n",
    "    print(\"Using device:\", device)\n",
    "    \n",
    "    n_epoch = 80 # 200\n",
    "    lr = 0.003\n",
    "    n_split = 50\n",
    "\n",
    "    ##################################################################\n",
    "    ### par\n",
    "    ##################################################################\n",
    "    run_id = 'mina_{0}'.format(strftime(\"%Y-%m-%d-%H-%M-%S\", localtime()))\n",
    "    directory = 'res/{0}'.format(run_id)\n",
    "    try:\n",
    "        os.stat('res/')\n",
    "    except:\n",
    "        os.mkdir('res/')    \n",
    "    try:\n",
    "        os.stat(directory)\n",
    "    except:\n",
    "        os.mkdir(directory)\n",
    "    \n",
    "    log_file = '{0}/log.txt'.format(directory)\n",
    "    model_file = '/kaggle/input/dataset-mina/CPSC/mina.py'\n",
    "    destination_file = os.path.join(directory, os.path.basename(model_file))\n",
    "\n",
    "    copyfile(model_file, destination_file)\n",
    "\n",
    "    n_dim = 2000\n",
    "    batch_size = 128\n",
    "\n",
    "    with open(log_file, 'a') as fout:\n",
    "        print(run_id, file=fout)\n",
    "\n",
    "    ##################################################################\n",
    "    ### read data\n",
    "    ##################################################################\n",
    "    with open(os.path.join(output_path, 'mina_info.pkl'), 'rb') as fin:\n",
    "        res = dill.load(fin)    \n",
    "    Y_train = res['Y_train']\n",
    "    Y_val = res['Y_val']\n",
    "    Y_test = res['Y_test']\n",
    "\n",
    "    fin = open(os.path.join(output_path, 'mina_X_train.bin'), 'rb')\n",
    "    X_train = np.load(fin)\n",
    "    fin.close()\n",
    "    fin = open(os.path.join(output_path, 'mina_X_val.bin'), 'rb')\n",
    "    X_val = np.load(fin)\n",
    "    fin.close()\n",
    "    fin = open(os.path.join(output_path, 'mina_X_test.bin'), 'rb')\n",
    "    X_test = np.load(fin)\n",
    "    fin.close()\n",
    "    X_train = np.swapaxes(X_train, 0, 1)\n",
    "    X_val = np.swapaxes(X_val, 0, 1)\n",
    "    X_test = np.swapaxes(X_test, 0, 1)\n",
    "    print(X_train.shape, X_val.shape, X_test.shape)\n",
    "\n",
    "    fin = open(os.path.join(output_path, 'mina_K_train_beat.bin'), 'rb')\n",
    "    K_train_beat = np.load(fin)\n",
    "    fin.close()\n",
    "    fin = open(os.path.join(output_path, 'mina_K_val_beat.bin'), 'rb')\n",
    "    K_val_beat = np.load(fin)\n",
    "    fin.close()\n",
    "    fin = open(os.path.join(output_path, 'mina_K_test_beat.bin'), 'rb')\n",
    "    K_test_beat = np.load(fin)\n",
    "    fin.close()\n",
    "    with open(os.path.join(output_path, 'mina_knowledge.pkl'), 'rb') as fin:\n",
    "        res = dill.load(fin)    \n",
    "    K_train_rhythm = res['K_train_rhythm']\n",
    "    K_train_freq = res['K_train_freq']\n",
    "    K_val_rhythm = res['K_val_rhythm']\n",
    "    K_val_freq = res['K_val_freq']\n",
    "    K_test_rhythm = res['K_test_rhythm']\n",
    "    K_test_freq = res['K_test_freq']\n",
    "    K_train_beat = np.swapaxes(K_train_beat, 0, 1)\n",
    "    K_train_rhythm = np.swapaxes(K_train_rhythm, 0, 1)\n",
    "    K_train_freq = np.swapaxes(K_train_freq, 0, 1)\n",
    "    K_val_beat = np.swapaxes(K_val_beat, 0, 1)\n",
    "    K_val_rhythm = np.swapaxes(K_val_rhythm, 0, 1)\n",
    "    K_val_freq = np.swapaxes(K_val_freq, 0, 1)\n",
    "    K_test_beat = np.swapaxes(K_test_beat, 0, 1)\n",
    "    K_test_rhythm = np.swapaxes(K_test_rhythm, 0, 1)\n",
    "    K_test_freq = np.swapaxes(K_test_freq, 0, 1)\n",
    "    print(K_train_beat.shape, K_train_rhythm.shape, K_train_freq.shape)\n",
    "    print(K_val_beat.shape, K_val_rhythm.shape, K_val_freq.shape)\n",
    "    print(K_test_beat.shape, K_test_rhythm.shape, K_test_freq.shape)\n",
    "\n",
    "    print('load data done!')\n",
    "    \n",
    "    ##################################################################\n",
    "    ### train\n",
    "    ##################################################################\n",
    "\n",
    "    n_channel = X_train.shape[0]\n",
    "    print('n_channel:', n_channel)\n",
    "\n",
    "    torch.cuda.manual_seed(0)\n",
    "\n",
    "    model = Net(n_channel, n_dim, n_split)\n",
    "    model.cuda()\n",
    "\n",
    "    optimizer = optim.Adam(model.parameters(), lr=lr)\n",
    "\n",
    "    num_classes = 9         # количество классов\n",
    "    if isinstance(Y_train, np.ndarray) and Y_train.ndim > 1 and Y_train.shape[1] == num_classes:\n",
    "        Y_train = torch.tensor(Y_train)\n",
    "        Y_train = torch.argmax(Y_train, dim=1)\n",
    "    \n",
    "    if isinstance(Y_val, np.ndarray) and Y_val.ndim > 1 and Y_val.shape[1] == num_classes:\n",
    "        Y_val = torch.tensor(Y_val)\n",
    "        Y_val = torch.argmax(Y_val, dim=1)\n",
    "    \n",
    "    if isinstance(Y_test, np.ndarray) and Y_test.ndim > 1 and Y_test.shape[1] == num_classes:\n",
    "        Y_test = torch.tensor(Y_test)\n",
    "        Y_test = torch.argmax(Y_test, dim=1)\n",
    "\n",
    "    Y_train_onehot = F.one_hot(Y_train, num_classes=num_classes).float()\n",
    "    class_counts = torch.sum(Y_train_onehot, dim=0)  # shape: [num_classes]\n",
    "    \n",
    "    class_counts[class_counts == 0] = 1.0\n",
    "    \n",
    "    class_weights = 1.0 / class_counts\n",
    "    class_weights = class_weights / class_weights.sum()  # нормировка\n",
    "    \n",
    "    class_weights = class_weights.clone().detach().to(dtype=torch.float32, device=device)\n",
    "    loss_func = nn.CrossEntropyLoss(weight=class_weights)\n",
    "\n",
    "\n",
    "\n",
    "    train_res_list = []\n",
    "    val_res_list = []\n",
    "    test_res_list = []\n",
    "    val_att_list = []\n",
    "    test_att_list = []\n",
    "    prev_model_path = None  # Храним путь к предыдущей модели\n",
    "    \n",
    "    for epoch in range(n_epoch):\n",
    "        tmp_train = train(model, optimizer, loss_func, epoch, batch_size, \n",
    "                          X_train, Y_train, K_train_beat, K_train_rhythm, K_train_freq, \n",
    "                          log_file, loss_metric, auroc_train, auprc_train, f1_score_train, accuracy_train, recall_train, precision_train)\n",
    "        tmp_val, tmp_att_val = test(model, batch_size, \n",
    "                                    X_val, Y_val, K_val_beat, K_val_rhythm, K_val_freq, \n",
    "                                    log_file, loss_metric, auroc_test, auprc_test, f1_score_test, accuracy_test,recall_test, precision_test)\n",
    "        tmp_test, tmp_att_test = test(model, batch_size, \n",
    "                                      X_test, Y_test, K_test_beat, K_test_rhythm, K_test_freq, \n",
    "                                      log_file, loss_metric, auroc_test, auprc_test, f1_score_test, accuracy_test, recall_test, precision_test)\n",
    "    \n",
    "        train_res_list.append(tmp_train)\n",
    "        val_res_list.append(tmp_val)\n",
    "        test_res_list.append(tmp_test)\n",
    "        test_att_list.append(tmp_att_test)\n",
    "\n",
    "        # Удаляем предыдущую сохранённую модель\n",
    "        if prev_model_path and os.path.exists(prev_model_path):\n",
    "            os.remove(prev_model_path)\n",
    "    \n",
    "        # Сохраняем новую модель\n",
    "        model_path = '{0}/model_{1}.pt'.format(directory, epoch)\n",
    "        torch.save(model, model_path)\n",
    "    \n",
    "        # Обновляем путь к предыдущей модели\n",
    "        prev_model_path = model_path\n",
    "        \n",
    "    ##################################################################\n",
    "    ### save results\n",
    "    ##################################################################\n",
    "    res_mat = []\n",
    "    for i in range(n_epoch):\n",
    "        train_res = train_res_list[i]\n",
    "        val_res = val_res_list[i]\n",
    "        test_res = test_res_list[i]\n",
    "        res_mat.append([\n",
    "            train_res['loss_res'], train_res['accuracy'],  \n",
    "            val_res['accuracy'], val_res['f1_score'],      \n",
    "            test_res['accuracy'], test_res['f1_score']\n",
    "        ])\n",
    "    res_mat = np.array(res_mat)\n",
    "    \n",
    "    res = {'train_res_list': train_res_list, \n",
    "           'val_res_list': val_res_list, \n",
    "           'test_res_list': test_res_list}\n",
    "    with open('{0}/res.pkl'.format(directory), 'wb') as fout:\n",
    "        dill.dump(res, fout)\n",
    "    \n",
    "    np.savetxt('{0}/res_mat.csv'.format(directory), res_mat, delimiter=',')"
   ]
  },
  {
   "cell_type": "code",
   "execution_count": 12,
   "metadata": {
    "execution": {
     "iopub.execute_input": "2025-04-19T12:35:06.613682Z",
     "iopub.status.busy": "2025-04-19T12:35:06.613383Z",
     "iopub.status.idle": "2025-04-19T12:35:06.627424Z",
     "shell.execute_reply": "2025-04-19T12:35:06.626680Z",
     "shell.execute_reply.started": "2025-04-19T12:35:06.613655Z"
    },
    "trusted": true
   },
   "outputs": [],
   "source": [
    "# prepare data\n",
    "data_path = '/kaggle/input/dataset-mina/CPSC'\n",
    "output_path = '/kaggle/working/'"
   ]
  },
  {
   "cell_type": "code",
   "execution_count": 13,
   "metadata": {
    "execution": {
     "iopub.execute_input": "2025-04-19T12:35:06.628363Z",
     "iopub.status.busy": "2025-04-19T12:35:06.628152Z",
     "iopub.status.idle": "2025-04-19T12:35:06.642446Z",
     "shell.execute_reply": "2025-04-19T12:35:06.641820Z",
     "shell.execute_reply.started": "2025-04-19T12:35:06.628341Z"
    },
    "trusted": true
   },
   "outputs": [],
   "source": [
    "loss_metric = []\n",
    "auroc_train = []\n",
    "auprc_train = []\n",
    "f1_score_train = []\n",
    "accuracy_train = []\n",
    "recall_train = []\n",
    "precision_train = []\n",
    "\n",
    "auroc_test = []\n",
    "auprc_test = []\n",
    "f1_score_test = []\n",
    "accuracy_test = []\n",
    "recall_test = []\n",
    "precision_test = []"
   ]
  },
  {
   "cell_type": "markdown",
   "metadata": {},
   "source": [
    "### Data preprocessing"
   ]
  },
  {
   "cell_type": "code",
   "execution_count": 14,
   "metadata": {
    "execution": {
     "iopub.execute_input": "2025-04-19T12:35:20.433500Z",
     "iopub.status.busy": "2025-04-19T12:35:20.433203Z",
     "iopub.status.idle": "2025-04-19T12:44:41.148294Z",
     "shell.execute_reply": "2025-04-19T12:44:41.147575Z",
     "shell.execute_reply.started": "2025-04-19T12:35:20.433480Z"
    },
    "trusted": true
   },
   "outputs": [
    {
     "name": "stdout",
     "output_type": "stream",
     "text": [
      "Загружено 6877 меток, 9 классов.\n",
      "Файлы: ['A0001' 'A0002' 'A0003' 'A0004' 'A0005']\n"
     ]
    },
    {
     "name": "stderr",
     "output_type": "stream",
     "text": [
      "Чтение .mat файлов: 100%|██████████| 6877/6877 [00:55<00:00, 123.22it/s]\n"
     ]
    },
    {
     "name": "stdout",
     "output_type": "stream",
     "text": [
      "Файл сохранен: /kaggle/working/challenge2018.pkl\n"
     ]
    },
    {
     "name": "stderr",
     "output_type": "stream",
     "text": [
      "X_train_ml: 100%|██████████| 72198/72198 [00:49<00:00, 1470.37it/s]\n",
      "X_val_ml: 100%|██████████| 9632/9632 [00:06<00:00, 1596.81it/s]\n",
      "X_test_ml: 100%|██████████| 14448/14448 [00:08<00:00, 1625.94it/s]\n",
      "compute_beat: 100%|██████████| 72198/72198 [00:07<00:00, 10061.26it/s]\n",
      "compute_rhythm: 100%|██████████| 72198/72198 [04:04<00:00, 294.95it/s]\n",
      "compute_freq: 100%|██████████| 72198/72198 [00:53<00:00, 1345.08it/s]\n",
      "compute_beat: 100%|██████████| 9632/9632 [00:00<00:00, 19529.25it/s]\n",
      "compute_rhythm: 100%|██████████| 9632/9632 [00:32<00:00, 295.35it/s]\n",
      "compute_freq: 100%|██████████| 9632/9632 [00:07<00:00, 1345.05it/s]\n",
      "compute_beat: 100%|██████████| 14448/14448 [00:01<00:00, 10409.19it/s]\n",
      "compute_rhythm: 100%|██████████| 14448/14448 [00:48<00:00, 296.10it/s]\n",
      "compute_freq: 100%|██████████| 14448/14448 [00:10<00:00, 1346.24it/s]\n"
     ]
    }
   ],
   "source": [
    "preprocess_physionet(data_path)\n",
    "make_data_physionet(data_path) \n",
    "make_knowledge_physionet(data_path)"
   ]
  },
  {
   "cell_type": "markdown",
   "metadata": {},
   "source": [
    "### Model training"
   ]
  },
  {
   "cell_type": "code",
   "execution_count": 15,
   "metadata": {
    "execution": {
     "iopub.execute_input": "2025-04-19T12:45:04.923264Z",
     "iopub.status.busy": "2025-04-19T12:45:04.922929Z",
     "iopub.status.idle": "2025-04-19T13:05:38.433435Z",
     "shell.execute_reply": "2025-04-19T13:05:38.432736Z",
     "shell.execute_reply.started": "2025-04-19T12:45:04.923214Z"
    },
    "trusted": true
   },
   "outputs": [
    {
     "name": "stdout",
     "output_type": "stream",
     "text": [
      "Using device: cuda\n",
      "(4, 72198, 2000) (4, 9632, 2000) (4, 14448, 2000)\n",
      "(4, 72198, 2000) (4, 72198, 40) (4, 72198, 1)\n",
      "(4, 9632, 2000) (4, 9632, 40) (4, 9632, 1)\n",
      "(4, 14448, 2000) (4, 14448, 40) (4, 14448, 1)\n",
      "load data done!\n",
      "n_channel: 4\n"
     ]
    },
    {
     "name": "stderr",
     "output_type": "stream",
     "text": [
      "train: 100%|██████████| 565/565 [00:12<00:00, 44.39it/s]\n"
     ]
    },
    {
     "name": "stdout",
     "output_type": "stream",
     "text": [
      "epoch 0 \n",
      "loss  1.9858757\n",
      "train | "
     ]
    },
    {
     "name": "stderr",
     "output_type": "stream",
     "text": [
      "test: 100%|██████████| 76/76 [00:00<00:00, 96.76it/s]\n"
     ]
    },
    {
     "name": "stdout",
     "output_type": "stream",
     "text": [
      "test | "
     ]
    },
    {
     "name": "stderr",
     "output_type": "stream",
     "text": [
      "test: 100%|██████████| 113/113 [00:01<00:00, 101.68it/s]\n"
     ]
    },
    {
     "name": "stdout",
     "output_type": "stream",
     "text": [
      "test | "
     ]
    },
    {
     "name": "stderr",
     "output_type": "stream",
     "text": [
      "train: 100%|██████████| 565/565 [00:11<00:00, 48.71it/s]\n"
     ]
    },
    {
     "name": "stdout",
     "output_type": "stream",
     "text": [
      "epoch 1 \n",
      "loss  1.8539119\n",
      "train | "
     ]
    },
    {
     "name": "stderr",
     "output_type": "stream",
     "text": [
      "test: 100%|██████████| 76/76 [00:00<00:00, 103.50it/s]\n"
     ]
    },
    {
     "name": "stdout",
     "output_type": "stream",
     "text": [
      "test | "
     ]
    },
    {
     "name": "stderr",
     "output_type": "stream",
     "text": [
      "test: 100%|██████████| 113/113 [00:01<00:00, 101.41it/s]\n"
     ]
    },
    {
     "name": "stdout",
     "output_type": "stream",
     "text": [
      "test | "
     ]
    },
    {
     "name": "stderr",
     "output_type": "stream",
     "text": [
      "train: 100%|██████████| 565/565 [00:11<00:00, 48.57it/s]\n"
     ]
    },
    {
     "name": "stdout",
     "output_type": "stream",
     "text": [
      "epoch 2 \n",
      "loss  1.7835838\n",
      "train | "
     ]
    },
    {
     "name": "stderr",
     "output_type": "stream",
     "text": [
      "test: 100%|██████████| 76/76 [00:00<00:00, 98.68it/s]\n"
     ]
    },
    {
     "name": "stdout",
     "output_type": "stream",
     "text": [
      "test | "
     ]
    },
    {
     "name": "stderr",
     "output_type": "stream",
     "text": [
      "test: 100%|██████████| 113/113 [00:01<00:00, 89.85it/s]\n"
     ]
    },
    {
     "name": "stdout",
     "output_type": "stream",
     "text": [
      "test | "
     ]
    },
    {
     "name": "stderr",
     "output_type": "stream",
     "text": [
      "train: 100%|██████████| 565/565 [00:11<00:00, 47.82it/s]\n"
     ]
    },
    {
     "name": "stdout",
     "output_type": "stream",
     "text": [
      "epoch 3 \n",
      "loss  1.7437087\n",
      "train | "
     ]
    },
    {
     "name": "stderr",
     "output_type": "stream",
     "text": [
      "test: 100%|██████████| 76/76 [00:00<00:00, 96.69it/s]\n"
     ]
    },
    {
     "name": "stdout",
     "output_type": "stream",
     "text": [
      "test | "
     ]
    },
    {
     "name": "stderr",
     "output_type": "stream",
     "text": [
      "test: 100%|██████████| 113/113 [00:01<00:00, 99.58it/s]\n"
     ]
    },
    {
     "name": "stdout",
     "output_type": "stream",
     "text": [
      "test | "
     ]
    },
    {
     "name": "stderr",
     "output_type": "stream",
     "text": [
      "train: 100%|██████████| 565/565 [00:11<00:00, 47.16it/s]\n"
     ]
    },
    {
     "name": "stdout",
     "output_type": "stream",
     "text": [
      "epoch 4 \n",
      "loss  1.7057666\n",
      "train | "
     ]
    },
    {
     "name": "stderr",
     "output_type": "stream",
     "text": [
      "test: 100%|██████████| 76/76 [00:00<00:00, 96.61it/s]\n"
     ]
    },
    {
     "name": "stdout",
     "output_type": "stream",
     "text": [
      "test | "
     ]
    },
    {
     "name": "stderr",
     "output_type": "stream",
     "text": [
      "test: 100%|██████████| 113/113 [00:01<00:00, 100.32it/s]\n"
     ]
    },
    {
     "name": "stdout",
     "output_type": "stream",
     "text": [
      "test | "
     ]
    },
    {
     "name": "stderr",
     "output_type": "stream",
     "text": [
      "train: 100%|██████████| 565/565 [00:12<00:00, 45.17it/s]\n"
     ]
    },
    {
     "name": "stdout",
     "output_type": "stream",
     "text": [
      "epoch 5 \n",
      "loss  1.685498\n",
      "train | "
     ]
    },
    {
     "name": "stderr",
     "output_type": "stream",
     "text": [
      "test: 100%|██████████| 76/76 [00:00<00:00, 95.90it/s]\n"
     ]
    },
    {
     "name": "stdout",
     "output_type": "stream",
     "text": [
      "test | "
     ]
    },
    {
     "name": "stderr",
     "output_type": "stream",
     "text": [
      "test: 100%|██████████| 113/113 [00:01<00:00, 98.50it/s]\n"
     ]
    },
    {
     "name": "stdout",
     "output_type": "stream",
     "text": [
      "test | "
     ]
    },
    {
     "name": "stderr",
     "output_type": "stream",
     "text": [
      "train: 100%|██████████| 565/565 [00:12<00:00, 46.68it/s]\n"
     ]
    },
    {
     "name": "stdout",
     "output_type": "stream",
     "text": [
      "epoch 6 \n",
      "loss  1.6615711\n",
      "train | "
     ]
    },
    {
     "name": "stderr",
     "output_type": "stream",
     "text": [
      "test: 100%|██████████| 76/76 [00:00<00:00, 95.72it/s]\n"
     ]
    },
    {
     "name": "stdout",
     "output_type": "stream",
     "text": [
      "test | "
     ]
    },
    {
     "name": "stderr",
     "output_type": "stream",
     "text": [
      "test: 100%|██████████| 113/113 [00:01<00:00, 97.62it/s]\n"
     ]
    },
    {
     "name": "stdout",
     "output_type": "stream",
     "text": [
      "test | "
     ]
    },
    {
     "name": "stderr",
     "output_type": "stream",
     "text": [
      "train: 100%|██████████| 565/565 [00:12<00:00, 46.91it/s]\n"
     ]
    },
    {
     "name": "stdout",
     "output_type": "stream",
     "text": [
      "epoch 7 \n",
      "loss  1.6418483\n",
      "train | "
     ]
    },
    {
     "name": "stderr",
     "output_type": "stream",
     "text": [
      "test: 100%|██████████| 76/76 [00:00<00:00, 96.21it/s]\n"
     ]
    },
    {
     "name": "stdout",
     "output_type": "stream",
     "text": [
      "test | "
     ]
    },
    {
     "name": "stderr",
     "output_type": "stream",
     "text": [
      "test: 100%|██████████| 113/113 [00:01<00:00, 98.78it/s]\n"
     ]
    },
    {
     "name": "stdout",
     "output_type": "stream",
     "text": [
      "test | "
     ]
    },
    {
     "name": "stderr",
     "output_type": "stream",
     "text": [
      "train: 100%|██████████| 565/565 [00:11<00:00, 47.42it/s]\n"
     ]
    },
    {
     "name": "stdout",
     "output_type": "stream",
     "text": [
      "epoch 8 \n",
      "loss  1.623242\n",
      "train | "
     ]
    },
    {
     "name": "stderr",
     "output_type": "stream",
     "text": [
      "test: 100%|██████████| 76/76 [00:00<00:00, 97.57it/s]\n"
     ]
    },
    {
     "name": "stdout",
     "output_type": "stream",
     "text": [
      "test | "
     ]
    },
    {
     "name": "stderr",
     "output_type": "stream",
     "text": [
      "test: 100%|██████████| 113/113 [00:01<00:00, 98.60it/s]\n"
     ]
    },
    {
     "name": "stdout",
     "output_type": "stream",
     "text": [
      "test | "
     ]
    },
    {
     "name": "stderr",
     "output_type": "stream",
     "text": [
      "train: 100%|██████████| 565/565 [00:12<00:00, 46.61it/s]\n"
     ]
    },
    {
     "name": "stdout",
     "output_type": "stream",
     "text": [
      "epoch 9 \n",
      "loss  1.6088476\n",
      "train | "
     ]
    },
    {
     "name": "stderr",
     "output_type": "stream",
     "text": [
      "test: 100%|██████████| 76/76 [00:00<00:00, 92.17it/s]\n"
     ]
    },
    {
     "name": "stdout",
     "output_type": "stream",
     "text": [
      "test | "
     ]
    },
    {
     "name": "stderr",
     "output_type": "stream",
     "text": [
      "test: 100%|██████████| 113/113 [00:01<00:00, 97.07it/s]\n"
     ]
    },
    {
     "name": "stdout",
     "output_type": "stream",
     "text": [
      "test | "
     ]
    },
    {
     "name": "stderr",
     "output_type": "stream",
     "text": [
      "train: 100%|██████████| 565/565 [00:11<00:00, 47.31it/s]\n"
     ]
    },
    {
     "name": "stdout",
     "output_type": "stream",
     "text": [
      "epoch 10 \n",
      "loss  1.5993934\n",
      "train | "
     ]
    },
    {
     "name": "stderr",
     "output_type": "stream",
     "text": [
      "test: 100%|██████████| 76/76 [00:00<00:00, 94.95it/s]\n"
     ]
    },
    {
     "name": "stdout",
     "output_type": "stream",
     "text": [
      "test | "
     ]
    },
    {
     "name": "stderr",
     "output_type": "stream",
     "text": [
      "test: 100%|██████████| 113/113 [00:01<00:00, 98.29it/s]\n"
     ]
    },
    {
     "name": "stdout",
     "output_type": "stream",
     "text": [
      "test | "
     ]
    },
    {
     "name": "stderr",
     "output_type": "stream",
     "text": [
      "train: 100%|██████████| 565/565 [00:12<00:00, 45.72it/s]\n"
     ]
    },
    {
     "name": "stdout",
     "output_type": "stream",
     "text": [
      "epoch 11 \n",
      "loss  1.5860912\n",
      "train | "
     ]
    },
    {
     "name": "stderr",
     "output_type": "stream",
     "text": [
      "test: 100%|██████████| 76/76 [00:00<00:00, 93.64it/s]\n"
     ]
    },
    {
     "name": "stdout",
     "output_type": "stream",
     "text": [
      "test | "
     ]
    },
    {
     "name": "stderr",
     "output_type": "stream",
     "text": [
      "test: 100%|██████████| 113/113 [00:01<00:00, 94.65it/s]\n"
     ]
    },
    {
     "name": "stdout",
     "output_type": "stream",
     "text": [
      "test | "
     ]
    },
    {
     "name": "stderr",
     "output_type": "stream",
     "text": [
      "train: 100%|██████████| 565/565 [00:12<00:00, 46.54it/s]\n"
     ]
    },
    {
     "name": "stdout",
     "output_type": "stream",
     "text": [
      "epoch 12 \n",
      "loss  1.5732712\n",
      "train | "
     ]
    },
    {
     "name": "stderr",
     "output_type": "stream",
     "text": [
      "test: 100%|██████████| 76/76 [00:00<00:00, 94.70it/s]\n"
     ]
    },
    {
     "name": "stdout",
     "output_type": "stream",
     "text": [
      "test | "
     ]
    },
    {
     "name": "stderr",
     "output_type": "stream",
     "text": [
      "test: 100%|██████████| 113/113 [00:01<00:00, 95.38it/s]\n"
     ]
    },
    {
     "name": "stdout",
     "output_type": "stream",
     "text": [
      "test | "
     ]
    },
    {
     "name": "stderr",
     "output_type": "stream",
     "text": [
      "train: 100%|██████████| 565/565 [00:12<00:00, 46.51it/s]\n"
     ]
    },
    {
     "name": "stdout",
     "output_type": "stream",
     "text": [
      "epoch 13 \n",
      "loss  1.5589738\n",
      "train | "
     ]
    },
    {
     "name": "stderr",
     "output_type": "stream",
     "text": [
      "test: 100%|██████████| 76/76 [00:00<00:00, 95.48it/s]\n"
     ]
    },
    {
     "name": "stdout",
     "output_type": "stream",
     "text": [
      "test | "
     ]
    },
    {
     "name": "stderr",
     "output_type": "stream",
     "text": [
      "test: 100%|██████████| 113/113 [00:01<00:00, 94.99it/s]\n"
     ]
    },
    {
     "name": "stdout",
     "output_type": "stream",
     "text": [
      "test | "
     ]
    },
    {
     "name": "stderr",
     "output_type": "stream",
     "text": [
      "train: 100%|██████████| 565/565 [00:11<00:00, 47.52it/s]\n"
     ]
    },
    {
     "name": "stdout",
     "output_type": "stream",
     "text": [
      "epoch 14 \n",
      "loss  1.5520341\n",
      "train | "
     ]
    },
    {
     "name": "stderr",
     "output_type": "stream",
     "text": [
      "test: 100%|██████████| 76/76 [00:00<00:00, 94.19it/s]\n"
     ]
    },
    {
     "name": "stdout",
     "output_type": "stream",
     "text": [
      "test | "
     ]
    },
    {
     "name": "stderr",
     "output_type": "stream",
     "text": [
      "test: 100%|██████████| 113/113 [00:01<00:00, 97.30it/s]\n"
     ]
    },
    {
     "name": "stdout",
     "output_type": "stream",
     "text": [
      "test | "
     ]
    },
    {
     "name": "stderr",
     "output_type": "stream",
     "text": [
      "train: 100%|██████████| 565/565 [00:12<00:00, 47.00it/s]\n"
     ]
    },
    {
     "name": "stdout",
     "output_type": "stream",
     "text": [
      "epoch 15 \n",
      "loss  1.5397383\n",
      "train | "
     ]
    },
    {
     "name": "stderr",
     "output_type": "stream",
     "text": [
      "test: 100%|██████████| 76/76 [00:00<00:00, 95.78it/s]\n"
     ]
    },
    {
     "name": "stdout",
     "output_type": "stream",
     "text": [
      "test | "
     ]
    },
    {
     "name": "stderr",
     "output_type": "stream",
     "text": [
      "test: 100%|██████████| 113/113 [00:01<00:00, 87.58it/s]\n"
     ]
    },
    {
     "name": "stdout",
     "output_type": "stream",
     "text": [
      "test | "
     ]
    },
    {
     "name": "stderr",
     "output_type": "stream",
     "text": [
      "train: 100%|██████████| 565/565 [00:11<00:00, 47.31it/s]\n"
     ]
    },
    {
     "name": "stdout",
     "output_type": "stream",
     "text": [
      "epoch 16 \n",
      "loss  1.5320874\n",
      "train | "
     ]
    },
    {
     "name": "stderr",
     "output_type": "stream",
     "text": [
      "test: 100%|██████████| 76/76 [00:00<00:00, 96.17it/s]\n"
     ]
    },
    {
     "name": "stdout",
     "output_type": "stream",
     "text": [
      "test | "
     ]
    },
    {
     "name": "stderr",
     "output_type": "stream",
     "text": [
      "test: 100%|██████████| 113/113 [00:01<00:00, 97.80it/s]\n"
     ]
    },
    {
     "name": "stdout",
     "output_type": "stream",
     "text": [
      "test | "
     ]
    },
    {
     "name": "stderr",
     "output_type": "stream",
     "text": [
      "train: 100%|██████████| 565/565 [00:11<00:00, 47.16it/s]\n"
     ]
    },
    {
     "name": "stdout",
     "output_type": "stream",
     "text": [
      "epoch 17 \n",
      "loss  1.5256423\n",
      "train | "
     ]
    },
    {
     "name": "stderr",
     "output_type": "stream",
     "text": [
      "test: 100%|██████████| 76/76 [00:00<00:00, 95.63it/s]\n"
     ]
    },
    {
     "name": "stdout",
     "output_type": "stream",
     "text": [
      "test | "
     ]
    },
    {
     "name": "stderr",
     "output_type": "stream",
     "text": [
      "test: 100%|██████████| 113/113 [00:01<00:00, 97.24it/s]\n"
     ]
    },
    {
     "name": "stdout",
     "output_type": "stream",
     "text": [
      "test | "
     ]
    },
    {
     "name": "stderr",
     "output_type": "stream",
     "text": [
      "train: 100%|██████████| 565/565 [00:12<00:00, 46.38it/s]\n"
     ]
    },
    {
     "name": "stdout",
     "output_type": "stream",
     "text": [
      "epoch 18 \n",
      "loss  1.5155632\n",
      "train | "
     ]
    },
    {
     "name": "stderr",
     "output_type": "stream",
     "text": [
      "test: 100%|██████████| 76/76 [00:00<00:00, 96.30it/s]\n"
     ]
    },
    {
     "name": "stdout",
     "output_type": "stream",
     "text": [
      "test | "
     ]
    },
    {
     "name": "stderr",
     "output_type": "stream",
     "text": [
      "test: 100%|██████████| 113/113 [00:01<00:00, 97.77it/s]\n"
     ]
    },
    {
     "name": "stdout",
     "output_type": "stream",
     "text": [
      "test | "
     ]
    },
    {
     "name": "stderr",
     "output_type": "stream",
     "text": [
      "train: 100%|██████████| 565/565 [00:11<00:00, 47.97it/s]\n"
     ]
    },
    {
     "name": "stdout",
     "output_type": "stream",
     "text": [
      "epoch 19 \n",
      "loss  1.504379\n",
      "train | "
     ]
    },
    {
     "name": "stderr",
     "output_type": "stream",
     "text": [
      "test: 100%|██████████| 76/76 [00:00<00:00, 94.65it/s]\n"
     ]
    },
    {
     "name": "stdout",
     "output_type": "stream",
     "text": [
      "test | "
     ]
    },
    {
     "name": "stderr",
     "output_type": "stream",
     "text": [
      "test: 100%|██████████| 113/113 [00:01<00:00, 97.78it/s]\n"
     ]
    },
    {
     "name": "stdout",
     "output_type": "stream",
     "text": [
      "test | "
     ]
    },
    {
     "name": "stderr",
     "output_type": "stream",
     "text": [
      "train: 100%|██████████| 565/565 [00:12<00:00, 46.82it/s]\n"
     ]
    },
    {
     "name": "stdout",
     "output_type": "stream",
     "text": [
      "epoch 20 \n",
      "loss  1.5035148\n",
      "train | "
     ]
    },
    {
     "name": "stderr",
     "output_type": "stream",
     "text": [
      "test: 100%|██████████| 76/76 [00:00<00:00, 95.55it/s]\n"
     ]
    },
    {
     "name": "stdout",
     "output_type": "stream",
     "text": [
      "test | "
     ]
    },
    {
     "name": "stderr",
     "output_type": "stream",
     "text": [
      "test: 100%|██████████| 113/113 [00:01<00:00, 96.52it/s]\n"
     ]
    },
    {
     "name": "stdout",
     "output_type": "stream",
     "text": [
      "test | "
     ]
    },
    {
     "name": "stderr",
     "output_type": "stream",
     "text": [
      "train: 100%|██████████| 565/565 [00:11<00:00, 47.56it/s]\n"
     ]
    },
    {
     "name": "stdout",
     "output_type": "stream",
     "text": [
      "epoch 21 \n",
      "loss  1.4893949\n",
      "train | "
     ]
    },
    {
     "name": "stderr",
     "output_type": "stream",
     "text": [
      "test: 100%|██████████| 76/76 [00:00<00:00, 96.60it/s]\n"
     ]
    },
    {
     "name": "stdout",
     "output_type": "stream",
     "text": [
      "test | "
     ]
    },
    {
     "name": "stderr",
     "output_type": "stream",
     "text": [
      "test: 100%|██████████| 113/113 [00:01<00:00, 95.78it/s]\n"
     ]
    },
    {
     "name": "stdout",
     "output_type": "stream",
     "text": [
      "test | "
     ]
    },
    {
     "name": "stderr",
     "output_type": "stream",
     "text": [
      "train: 100%|██████████| 565/565 [00:12<00:00, 46.46it/s]\n"
     ]
    },
    {
     "name": "stdout",
     "output_type": "stream",
     "text": [
      "epoch 22 \n",
      "loss  1.4763558\n",
      "train | "
     ]
    },
    {
     "name": "stderr",
     "output_type": "stream",
     "text": [
      "test: 100%|██████████| 76/76 [00:00<00:00, 90.92it/s]\n"
     ]
    },
    {
     "name": "stdout",
     "output_type": "stream",
     "text": [
      "test | "
     ]
    },
    {
     "name": "stderr",
     "output_type": "stream",
     "text": [
      "test: 100%|██████████| 113/113 [00:01<00:00, 96.45it/s]\n"
     ]
    },
    {
     "name": "stdout",
     "output_type": "stream",
     "text": [
      "test | "
     ]
    },
    {
     "name": "stderr",
     "output_type": "stream",
     "text": [
      "train: 100%|██████████| 565/565 [00:11<00:00, 47.64it/s]\n"
     ]
    },
    {
     "name": "stdout",
     "output_type": "stream",
     "text": [
      "epoch 23 \n",
      "loss  1.4782943\n",
      "train | "
     ]
    },
    {
     "name": "stderr",
     "output_type": "stream",
     "text": [
      "test: 100%|██████████| 76/76 [00:00<00:00, 96.13it/s]\n"
     ]
    },
    {
     "name": "stdout",
     "output_type": "stream",
     "text": [
      "test | "
     ]
    },
    {
     "name": "stderr",
     "output_type": "stream",
     "text": [
      "test: 100%|██████████| 113/113 [00:01<00:00, 96.58it/s]\n"
     ]
    },
    {
     "name": "stdout",
     "output_type": "stream",
     "text": [
      "test | "
     ]
    },
    {
     "name": "stderr",
     "output_type": "stream",
     "text": [
      "train: 100%|██████████| 565/565 [00:12<00:00, 46.31it/s]\n"
     ]
    },
    {
     "name": "stdout",
     "output_type": "stream",
     "text": [
      "epoch 24 \n",
      "loss  1.4631273\n",
      "train | "
     ]
    },
    {
     "name": "stderr",
     "output_type": "stream",
     "text": [
      "test: 100%|██████████| 76/76 [00:00<00:00, 95.77it/s]\n"
     ]
    },
    {
     "name": "stdout",
     "output_type": "stream",
     "text": [
      "test | "
     ]
    },
    {
     "name": "stderr",
     "output_type": "stream",
     "text": [
      "test: 100%|██████████| 113/113 [00:01<00:00, 94.50it/s]\n"
     ]
    },
    {
     "name": "stdout",
     "output_type": "stream",
     "text": [
      "test | "
     ]
    },
    {
     "name": "stderr",
     "output_type": "stream",
     "text": [
      "train: 100%|██████████| 565/565 [00:11<00:00, 47.84it/s]\n"
     ]
    },
    {
     "name": "stdout",
     "output_type": "stream",
     "text": [
      "epoch 25 \n",
      "loss  1.4534769\n",
      "train | "
     ]
    },
    {
     "name": "stderr",
     "output_type": "stream",
     "text": [
      "test: 100%|██████████| 76/76 [00:00<00:00, 94.53it/s]\n"
     ]
    },
    {
     "name": "stdout",
     "output_type": "stream",
     "text": [
      "test | "
     ]
    },
    {
     "name": "stderr",
     "output_type": "stream",
     "text": [
      "test: 100%|██████████| 113/113 [00:01<00:00, 96.90it/s]\n"
     ]
    },
    {
     "name": "stdout",
     "output_type": "stream",
     "text": [
      "test | "
     ]
    },
    {
     "name": "stderr",
     "output_type": "stream",
     "text": [
      "train: 100%|██████████| 565/565 [00:11<00:00, 47.17it/s]\n"
     ]
    },
    {
     "name": "stdout",
     "output_type": "stream",
     "text": [
      "epoch 26 \n",
      "loss  1.4480815\n",
      "train | "
     ]
    },
    {
     "name": "stderr",
     "output_type": "stream",
     "text": [
      "test: 100%|██████████| 76/76 [00:00<00:00, 85.81it/s]\n"
     ]
    },
    {
     "name": "stdout",
     "output_type": "stream",
     "text": [
      "test | "
     ]
    },
    {
     "name": "stderr",
     "output_type": "stream",
     "text": [
      "test: 100%|██████████| 113/113 [00:01<00:00, 91.46it/s]\n"
     ]
    },
    {
     "name": "stdout",
     "output_type": "stream",
     "text": [
      "test | "
     ]
    },
    {
     "name": "stderr",
     "output_type": "stream",
     "text": [
      "train: 100%|██████████| 565/565 [00:11<00:00, 48.07it/s]\n"
     ]
    },
    {
     "name": "stdout",
     "output_type": "stream",
     "text": [
      "epoch 27 \n",
      "loss  1.4383457\n",
      "train | "
     ]
    },
    {
     "name": "stderr",
     "output_type": "stream",
     "text": [
      "test: 100%|██████████| 76/76 [00:00<00:00, 91.60it/s]\n"
     ]
    },
    {
     "name": "stdout",
     "output_type": "stream",
     "text": [
      "test | "
     ]
    },
    {
     "name": "stderr",
     "output_type": "stream",
     "text": [
      "test: 100%|██████████| 113/113 [00:01<00:00, 98.92it/s]\n"
     ]
    },
    {
     "name": "stdout",
     "output_type": "stream",
     "text": [
      "test | "
     ]
    },
    {
     "name": "stderr",
     "output_type": "stream",
     "text": [
      "train: 100%|██████████| 565/565 [00:11<00:00, 47.30it/s]\n"
     ]
    },
    {
     "name": "stdout",
     "output_type": "stream",
     "text": [
      "epoch 28 \n",
      "loss  1.433554\n",
      "train | "
     ]
    },
    {
     "name": "stderr",
     "output_type": "stream",
     "text": [
      "test: 100%|██████████| 76/76 [00:00<00:00, 94.60it/s]\n"
     ]
    },
    {
     "name": "stdout",
     "output_type": "stream",
     "text": [
      "test | "
     ]
    },
    {
     "name": "stderr",
     "output_type": "stream",
     "text": [
      "test: 100%|██████████| 113/113 [00:01<00:00, 96.53it/s]\n"
     ]
    },
    {
     "name": "stdout",
     "output_type": "stream",
     "text": [
      "test | "
     ]
    },
    {
     "name": "stderr",
     "output_type": "stream",
     "text": [
      "train: 100%|██████████| 565/565 [00:12<00:00, 46.18it/s]\n"
     ]
    },
    {
     "name": "stdout",
     "output_type": "stream",
     "text": [
      "epoch 29 \n",
      "loss  1.4273466\n",
      "train | "
     ]
    },
    {
     "name": "stderr",
     "output_type": "stream",
     "text": [
      "test: 100%|██████████| 76/76 [00:00<00:00, 94.88it/s]\n"
     ]
    },
    {
     "name": "stdout",
     "output_type": "stream",
     "text": [
      "test | "
     ]
    },
    {
     "name": "stderr",
     "output_type": "stream",
     "text": [
      "test: 100%|██████████| 113/113 [00:01<00:00, 97.66it/s]\n"
     ]
    },
    {
     "name": "stdout",
     "output_type": "stream",
     "text": [
      "test | "
     ]
    },
    {
     "name": "stderr",
     "output_type": "stream",
     "text": [
      "train: 100%|██████████| 565/565 [00:12<00:00, 47.04it/s]\n"
     ]
    },
    {
     "name": "stdout",
     "output_type": "stream",
     "text": [
      "epoch 30 \n",
      "loss  1.4264975\n",
      "train | "
     ]
    },
    {
     "name": "stderr",
     "output_type": "stream",
     "text": [
      "test: 100%|██████████| 76/76 [00:00<00:00, 96.93it/s]\n"
     ]
    },
    {
     "name": "stdout",
     "output_type": "stream",
     "text": [
      "test | "
     ]
    },
    {
     "name": "stderr",
     "output_type": "stream",
     "text": [
      "test: 100%|██████████| 113/113 [00:01<00:00, 97.48it/s]\n"
     ]
    },
    {
     "name": "stdout",
     "output_type": "stream",
     "text": [
      "test | "
     ]
    },
    {
     "name": "stderr",
     "output_type": "stream",
     "text": [
      "train: 100%|██████████| 565/565 [00:12<00:00, 46.52it/s]\n"
     ]
    },
    {
     "name": "stdout",
     "output_type": "stream",
     "text": [
      "epoch 31 \n",
      "loss  1.423258\n",
      "train | "
     ]
    },
    {
     "name": "stderr",
     "output_type": "stream",
     "text": [
      "test: 100%|██████████| 76/76 [00:00<00:00, 96.45it/s]\n"
     ]
    },
    {
     "name": "stdout",
     "output_type": "stream",
     "text": [
      "test | "
     ]
    },
    {
     "name": "stderr",
     "output_type": "stream",
     "text": [
      "test: 100%|██████████| 113/113 [00:01<00:00, 97.28it/s]\n"
     ]
    },
    {
     "name": "stdout",
     "output_type": "stream",
     "text": [
      "test | "
     ]
    },
    {
     "name": "stderr",
     "output_type": "stream",
     "text": [
      "train: 100%|██████████| 565/565 [00:11<00:00, 47.16it/s]\n"
     ]
    },
    {
     "name": "stdout",
     "output_type": "stream",
     "text": [
      "epoch 32 \n",
      "loss  1.4104835\n",
      "train | "
     ]
    },
    {
     "name": "stderr",
     "output_type": "stream",
     "text": [
      "test: 100%|██████████| 76/76 [00:00<00:00, 95.63it/s]\n"
     ]
    },
    {
     "name": "stdout",
     "output_type": "stream",
     "text": [
      "test | "
     ]
    },
    {
     "name": "stderr",
     "output_type": "stream",
     "text": [
      "test: 100%|██████████| 113/113 [00:01<00:00, 96.26it/s]\n"
     ]
    },
    {
     "name": "stdout",
     "output_type": "stream",
     "text": [
      "test | "
     ]
    },
    {
     "name": "stderr",
     "output_type": "stream",
     "text": [
      "train: 100%|██████████| 565/565 [00:12<00:00, 45.44it/s]\n"
     ]
    },
    {
     "name": "stdout",
     "output_type": "stream",
     "text": [
      "epoch 33 \n",
      "loss  1.4113634\n",
      "train | "
     ]
    },
    {
     "name": "stderr",
     "output_type": "stream",
     "text": [
      "test: 100%|██████████| 76/76 [00:00<00:00, 95.91it/s]\n"
     ]
    },
    {
     "name": "stdout",
     "output_type": "stream",
     "text": [
      "test | "
     ]
    },
    {
     "name": "stderr",
     "output_type": "stream",
     "text": [
      "test: 100%|██████████| 113/113 [00:01<00:00, 96.23it/s]\n"
     ]
    },
    {
     "name": "stdout",
     "output_type": "stream",
     "text": [
      "test | "
     ]
    },
    {
     "name": "stderr",
     "output_type": "stream",
     "text": [
      "train: 100%|██████████| 565/565 [00:12<00:00, 46.48it/s]\n"
     ]
    },
    {
     "name": "stdout",
     "output_type": "stream",
     "text": [
      "epoch 34 \n",
      "loss  1.4097911\n",
      "train | "
     ]
    },
    {
     "name": "stderr",
     "output_type": "stream",
     "text": [
      "test: 100%|██████████| 76/76 [00:00<00:00, 95.63it/s]\n"
     ]
    },
    {
     "name": "stdout",
     "output_type": "stream",
     "text": [
      "test | "
     ]
    },
    {
     "name": "stderr",
     "output_type": "stream",
     "text": [
      "test: 100%|██████████| 113/113 [00:01<00:00, 97.65it/s]\n"
     ]
    },
    {
     "name": "stdout",
     "output_type": "stream",
     "text": [
      "test | "
     ]
    },
    {
     "name": "stderr",
     "output_type": "stream",
     "text": [
      "train: 100%|██████████| 565/565 [00:11<00:00, 47.09it/s]\n"
     ]
    },
    {
     "name": "stdout",
     "output_type": "stream",
     "text": [
      "epoch 35 \n",
      "loss  1.4067322\n",
      "train | "
     ]
    },
    {
     "name": "stderr",
     "output_type": "stream",
     "text": [
      "test: 100%|██████████| 76/76 [00:00<00:00, 91.41it/s]\n"
     ]
    },
    {
     "name": "stdout",
     "output_type": "stream",
     "text": [
      "test | "
     ]
    },
    {
     "name": "stderr",
     "output_type": "stream",
     "text": [
      "test: 100%|██████████| 113/113 [00:01<00:00, 96.03it/s]\n"
     ]
    },
    {
     "name": "stdout",
     "output_type": "stream",
     "text": [
      "test | "
     ]
    },
    {
     "name": "stderr",
     "output_type": "stream",
     "text": [
      "train: 100%|██████████| 565/565 [00:11<00:00, 47.14it/s]\n"
     ]
    },
    {
     "name": "stdout",
     "output_type": "stream",
     "text": [
      "epoch 36 \n",
      "loss  1.3907316\n",
      "train | "
     ]
    },
    {
     "name": "stderr",
     "output_type": "stream",
     "text": [
      "test: 100%|██████████| 76/76 [00:00<00:00, 94.25it/s]\n"
     ]
    },
    {
     "name": "stdout",
     "output_type": "stream",
     "text": [
      "test | "
     ]
    },
    {
     "name": "stderr",
     "output_type": "stream",
     "text": [
      "test: 100%|██████████| 113/113 [00:01<00:00, 95.99it/s]\n"
     ]
    },
    {
     "name": "stdout",
     "output_type": "stream",
     "text": [
      "test | "
     ]
    },
    {
     "name": "stderr",
     "output_type": "stream",
     "text": [
      "train: 100%|██████████| 565/565 [00:12<00:00, 46.51it/s]\n"
     ]
    },
    {
     "name": "stdout",
     "output_type": "stream",
     "text": [
      "epoch 37 \n",
      "loss  1.3746808\n",
      "train | "
     ]
    },
    {
     "name": "stderr",
     "output_type": "stream",
     "text": [
      "test: 100%|██████████| 76/76 [00:00<00:00, 96.69it/s]\n"
     ]
    },
    {
     "name": "stdout",
     "output_type": "stream",
     "text": [
      "test | "
     ]
    },
    {
     "name": "stderr",
     "output_type": "stream",
     "text": [
      "test: 100%|██████████| 113/113 [00:01<00:00, 94.87it/s]\n"
     ]
    },
    {
     "name": "stdout",
     "output_type": "stream",
     "text": [
      "test | "
     ]
    },
    {
     "name": "stderr",
     "output_type": "stream",
     "text": [
      "train: 100%|██████████| 565/565 [00:11<00:00, 47.19it/s]\n"
     ]
    },
    {
     "name": "stdout",
     "output_type": "stream",
     "text": [
      "epoch 38 \n",
      "loss  1.3879888\n",
      "train | "
     ]
    },
    {
     "name": "stderr",
     "output_type": "stream",
     "text": [
      "test: 100%|██████████| 76/76 [00:00<00:00, 95.32it/s]\n"
     ]
    },
    {
     "name": "stdout",
     "output_type": "stream",
     "text": [
      "test | "
     ]
    },
    {
     "name": "stderr",
     "output_type": "stream",
     "text": [
      "test: 100%|██████████| 113/113 [00:01<00:00, 92.11it/s]\n"
     ]
    },
    {
     "name": "stdout",
     "output_type": "stream",
     "text": [
      "test | "
     ]
    },
    {
     "name": "stderr",
     "output_type": "stream",
     "text": [
      "train: 100%|██████████| 565/565 [00:12<00:00, 47.04it/s]\n"
     ]
    },
    {
     "name": "stdout",
     "output_type": "stream",
     "text": [
      "epoch 39 \n",
      "loss  1.3798845\n",
      "train | "
     ]
    },
    {
     "name": "stderr",
     "output_type": "stream",
     "text": [
      "test: 100%|██████████| 76/76 [00:00<00:00, 86.28it/s]\n"
     ]
    },
    {
     "name": "stdout",
     "output_type": "stream",
     "text": [
      "test | "
     ]
    },
    {
     "name": "stderr",
     "output_type": "stream",
     "text": [
      "test: 100%|██████████| 113/113 [00:01<00:00, 94.63it/s]\n"
     ]
    },
    {
     "name": "stdout",
     "output_type": "stream",
     "text": [
      "test | "
     ]
    },
    {
     "name": "stderr",
     "output_type": "stream",
     "text": [
      "train: 100%|██████████| 565/565 [00:11<00:00, 47.12it/s]\n"
     ]
    },
    {
     "name": "stdout",
     "output_type": "stream",
     "text": [
      "epoch 40 \n",
      "loss  1.3663775\n",
      "train | "
     ]
    },
    {
     "name": "stderr",
     "output_type": "stream",
     "text": [
      "test: 100%|██████████| 76/76 [00:00<00:00, 94.36it/s]\n"
     ]
    },
    {
     "name": "stdout",
     "output_type": "stream",
     "text": [
      "test | "
     ]
    },
    {
     "name": "stderr",
     "output_type": "stream",
     "text": [
      "test: 100%|██████████| 113/113 [00:01<00:00, 96.04it/s]\n"
     ]
    },
    {
     "name": "stdout",
     "output_type": "stream",
     "text": [
      "test | "
     ]
    },
    {
     "name": "stderr",
     "output_type": "stream",
     "text": [
      "train: 100%|██████████| 565/565 [00:11<00:00, 47.15it/s]\n"
     ]
    },
    {
     "name": "stdout",
     "output_type": "stream",
     "text": [
      "epoch 41 \n",
      "loss  1.3689088\n",
      "train | "
     ]
    },
    {
     "name": "stderr",
     "output_type": "stream",
     "text": [
      "test: 100%|██████████| 76/76 [00:00<00:00, 96.07it/s]\n"
     ]
    },
    {
     "name": "stdout",
     "output_type": "stream",
     "text": [
      "test | "
     ]
    },
    {
     "name": "stderr",
     "output_type": "stream",
     "text": [
      "test: 100%|██████████| 113/113 [00:01<00:00, 96.67it/s]\n"
     ]
    },
    {
     "name": "stdout",
     "output_type": "stream",
     "text": [
      "test | "
     ]
    },
    {
     "name": "stderr",
     "output_type": "stream",
     "text": [
      "train: 100%|██████████| 565/565 [00:12<00:00, 45.26it/s]\n"
     ]
    },
    {
     "name": "stdout",
     "output_type": "stream",
     "text": [
      "epoch 42 \n",
      "loss  1.3667629\n",
      "train | "
     ]
    },
    {
     "name": "stderr",
     "output_type": "stream",
     "text": [
      "test: 100%|██████████| 76/76 [00:00<00:00, 94.06it/s]\n"
     ]
    },
    {
     "name": "stdout",
     "output_type": "stream",
     "text": [
      "test | "
     ]
    },
    {
     "name": "stderr",
     "output_type": "stream",
     "text": [
      "test: 100%|██████████| 113/113 [00:01<00:00, 96.06it/s]\n"
     ]
    },
    {
     "name": "stdout",
     "output_type": "stream",
     "text": [
      "test | "
     ]
    },
    {
     "name": "stderr",
     "output_type": "stream",
     "text": [
      "train: 100%|██████████| 565/565 [00:12<00:00, 45.45it/s]\n"
     ]
    },
    {
     "name": "stdout",
     "output_type": "stream",
     "text": [
      "epoch 43 \n",
      "loss  1.3530489\n",
      "train | "
     ]
    },
    {
     "name": "stderr",
     "output_type": "stream",
     "text": [
      "test: 100%|██████████| 76/76 [00:00<00:00, 92.90it/s]\n"
     ]
    },
    {
     "name": "stdout",
     "output_type": "stream",
     "text": [
      "test | "
     ]
    },
    {
     "name": "stderr",
     "output_type": "stream",
     "text": [
      "test: 100%|██████████| 113/113 [00:01<00:00, 92.44it/s]\n"
     ]
    },
    {
     "name": "stdout",
     "output_type": "stream",
     "text": [
      "test | "
     ]
    },
    {
     "name": "stderr",
     "output_type": "stream",
     "text": [
      "train: 100%|██████████| 565/565 [00:12<00:00, 45.28it/s]\n"
     ]
    },
    {
     "name": "stdout",
     "output_type": "stream",
     "text": [
      "epoch 44 \n",
      "loss  1.3591012\n",
      "train | "
     ]
    },
    {
     "name": "stderr",
     "output_type": "stream",
     "text": [
      "test: 100%|██████████| 76/76 [00:00<00:00, 93.31it/s]\n"
     ]
    },
    {
     "name": "stdout",
     "output_type": "stream",
     "text": [
      "test | "
     ]
    },
    {
     "name": "stderr",
     "output_type": "stream",
     "text": [
      "test: 100%|██████████| 113/113 [00:01<00:00, 95.41it/s]\n"
     ]
    },
    {
     "name": "stdout",
     "output_type": "stream",
     "text": [
      "test | "
     ]
    },
    {
     "name": "stderr",
     "output_type": "stream",
     "text": [
      "train: 100%|██████████| 565/565 [00:12<00:00, 46.06it/s]\n"
     ]
    },
    {
     "name": "stdout",
     "output_type": "stream",
     "text": [
      "epoch 45 \n",
      "loss  1.3517462\n",
      "train | "
     ]
    },
    {
     "name": "stderr",
     "output_type": "stream",
     "text": [
      "test: 100%|██████████| 76/76 [00:00<00:00, 91.51it/s]\n"
     ]
    },
    {
     "name": "stdout",
     "output_type": "stream",
     "text": [
      "test | "
     ]
    },
    {
     "name": "stderr",
     "output_type": "stream",
     "text": [
      "test: 100%|██████████| 113/113 [00:01<00:00, 94.24it/s]\n"
     ]
    },
    {
     "name": "stdout",
     "output_type": "stream",
     "text": [
      "test | "
     ]
    },
    {
     "name": "stderr",
     "output_type": "stream",
     "text": [
      "train: 100%|██████████| 565/565 [00:12<00:00, 45.55it/s]\n"
     ]
    },
    {
     "name": "stdout",
     "output_type": "stream",
     "text": [
      "epoch 46 \n",
      "loss  1.3407089\n",
      "train | "
     ]
    },
    {
     "name": "stderr",
     "output_type": "stream",
     "text": [
      "test: 100%|██████████| 76/76 [00:00<00:00, 93.18it/s]\n"
     ]
    },
    {
     "name": "stdout",
     "output_type": "stream",
     "text": [
      "test | "
     ]
    },
    {
     "name": "stderr",
     "output_type": "stream",
     "text": [
      "test: 100%|██████████| 113/113 [00:01<00:00, 94.05it/s]\n"
     ]
    },
    {
     "name": "stdout",
     "output_type": "stream",
     "text": [
      "test | "
     ]
    },
    {
     "name": "stderr",
     "output_type": "stream",
     "text": [
      "train: 100%|██████████| 565/565 [00:12<00:00, 46.97it/s]\n"
     ]
    },
    {
     "name": "stdout",
     "output_type": "stream",
     "text": [
      "epoch 47 \n",
      "loss  1.3768855\n",
      "train | "
     ]
    },
    {
     "name": "stderr",
     "output_type": "stream",
     "text": [
      "test: 100%|██████████| 76/76 [00:00<00:00, 94.16it/s]\n"
     ]
    },
    {
     "name": "stdout",
     "output_type": "stream",
     "text": [
      "test | "
     ]
    },
    {
     "name": "stderr",
     "output_type": "stream",
     "text": [
      "test: 100%|██████████| 113/113 [00:01<00:00, 95.80it/s]\n"
     ]
    },
    {
     "name": "stdout",
     "output_type": "stream",
     "text": [
      "test | "
     ]
    },
    {
     "name": "stderr",
     "output_type": "stream",
     "text": [
      "train: 100%|██████████| 565/565 [00:12<00:00, 45.64it/s]\n"
     ]
    },
    {
     "name": "stdout",
     "output_type": "stream",
     "text": [
      "epoch 48 \n",
      "loss  1.354286\n",
      "train | "
     ]
    },
    {
     "name": "stderr",
     "output_type": "stream",
     "text": [
      "test: 100%|██████████| 76/76 [00:00<00:00, 93.01it/s]\n"
     ]
    },
    {
     "name": "stdout",
     "output_type": "stream",
     "text": [
      "test | "
     ]
    },
    {
     "name": "stderr",
     "output_type": "stream",
     "text": [
      "test: 100%|██████████| 113/113 [00:01<00:00, 93.07it/s]\n"
     ]
    },
    {
     "name": "stdout",
     "output_type": "stream",
     "text": [
      "test | "
     ]
    },
    {
     "name": "stderr",
     "output_type": "stream",
     "text": [
      "train: 100%|██████████| 565/565 [00:12<00:00, 46.42it/s]\n"
     ]
    },
    {
     "name": "stdout",
     "output_type": "stream",
     "text": [
      "epoch 49 \n",
      "loss  1.339013\n",
      "train | "
     ]
    },
    {
     "name": "stderr",
     "output_type": "stream",
     "text": [
      "test: 100%|██████████| 76/76 [00:00<00:00, 89.06it/s]\n"
     ]
    },
    {
     "name": "stdout",
     "output_type": "stream",
     "text": [
      "test | "
     ]
    },
    {
     "name": "stderr",
     "output_type": "stream",
     "text": [
      "test: 100%|██████████| 113/113 [00:01<00:00, 91.85it/s]\n"
     ]
    },
    {
     "name": "stdout",
     "output_type": "stream",
     "text": [
      "test | "
     ]
    },
    {
     "name": "stderr",
     "output_type": "stream",
     "text": [
      "train: 100%|██████████| 565/565 [00:12<00:00, 44.95it/s]\n"
     ]
    },
    {
     "name": "stdout",
     "output_type": "stream",
     "text": [
      "epoch 50 \n",
      "loss  1.3310618\n",
      "train | "
     ]
    },
    {
     "name": "stderr",
     "output_type": "stream",
     "text": [
      "test: 100%|██████████| 76/76 [00:00<00:00, 94.00it/s]\n"
     ]
    },
    {
     "name": "stdout",
     "output_type": "stream",
     "text": [
      "test | "
     ]
    },
    {
     "name": "stderr",
     "output_type": "stream",
     "text": [
      "test: 100%|██████████| 113/113 [00:01<00:00, 95.96it/s]\n"
     ]
    },
    {
     "name": "stdout",
     "output_type": "stream",
     "text": [
      "test | "
     ]
    },
    {
     "name": "stderr",
     "output_type": "stream",
     "text": [
      "train: 100%|██████████| 565/565 [00:12<00:00, 45.62it/s]\n"
     ]
    },
    {
     "name": "stdout",
     "output_type": "stream",
     "text": [
      "epoch 51 \n",
      "loss  1.3235011\n",
      "train | "
     ]
    },
    {
     "name": "stderr",
     "output_type": "stream",
     "text": [
      "test: 100%|██████████| 76/76 [00:00<00:00, 95.48it/s]\n"
     ]
    },
    {
     "name": "stdout",
     "output_type": "stream",
     "text": [
      "test | "
     ]
    },
    {
     "name": "stderr",
     "output_type": "stream",
     "text": [
      "test: 100%|██████████| 113/113 [00:01<00:00, 94.26it/s]\n"
     ]
    },
    {
     "name": "stdout",
     "output_type": "stream",
     "text": [
      "test | "
     ]
    },
    {
     "name": "stderr",
     "output_type": "stream",
     "text": [
      "train: 100%|██████████| 565/565 [00:12<00:00, 45.77it/s]\n"
     ]
    },
    {
     "name": "stdout",
     "output_type": "stream",
     "text": [
      "epoch 52 \n",
      "loss  1.3436904\n",
      "train | "
     ]
    },
    {
     "name": "stderr",
     "output_type": "stream",
     "text": [
      "test: 100%|██████████| 76/76 [00:00<00:00, 94.88it/s]\n"
     ]
    },
    {
     "name": "stdout",
     "output_type": "stream",
     "text": [
      "test | "
     ]
    },
    {
     "name": "stderr",
     "output_type": "stream",
     "text": [
      "test: 100%|██████████| 113/113 [00:01<00:00, 96.26it/s]\n"
     ]
    },
    {
     "name": "stdout",
     "output_type": "stream",
     "text": [
      "test | "
     ]
    },
    {
     "name": "stderr",
     "output_type": "stream",
     "text": [
      "train: 100%|██████████| 565/565 [00:12<00:00, 46.35it/s]\n"
     ]
    },
    {
     "name": "stdout",
     "output_type": "stream",
     "text": [
      "epoch 53 \n",
      "loss  1.3292582\n",
      "train | "
     ]
    },
    {
     "name": "stderr",
     "output_type": "stream",
     "text": [
      "test: 100%|██████████| 76/76 [00:00<00:00, 93.69it/s]\n"
     ]
    },
    {
     "name": "stdout",
     "output_type": "stream",
     "text": [
      "test | "
     ]
    },
    {
     "name": "stderr",
     "output_type": "stream",
     "text": [
      "test: 100%|██████████| 113/113 [00:01<00:00, 95.65it/s]\n"
     ]
    },
    {
     "name": "stdout",
     "output_type": "stream",
     "text": [
      "test | "
     ]
    },
    {
     "name": "stderr",
     "output_type": "stream",
     "text": [
      "train: 100%|██████████| 565/565 [00:12<00:00, 45.11it/s]\n"
     ]
    },
    {
     "name": "stdout",
     "output_type": "stream",
     "text": [
      "epoch 54 \n",
      "loss  1.3103254\n",
      "train | "
     ]
    },
    {
     "name": "stderr",
     "output_type": "stream",
     "text": [
      "test: 100%|██████████| 76/76 [00:00<00:00, 91.13it/s]\n"
     ]
    },
    {
     "name": "stdout",
     "output_type": "stream",
     "text": [
      "test | "
     ]
    },
    {
     "name": "stderr",
     "output_type": "stream",
     "text": [
      "test: 100%|██████████| 113/113 [00:01<00:00, 95.83it/s]\n"
     ]
    },
    {
     "name": "stdout",
     "output_type": "stream",
     "text": [
      "test | "
     ]
    },
    {
     "name": "stderr",
     "output_type": "stream",
     "text": [
      "train: 100%|██████████| 565/565 [00:12<00:00, 46.57it/s]\n"
     ]
    },
    {
     "name": "stdout",
     "output_type": "stream",
     "text": [
      "epoch 55 \n",
      "loss  1.3073423\n",
      "train | "
     ]
    },
    {
     "name": "stderr",
     "output_type": "stream",
     "text": [
      "test: 100%|██████████| 76/76 [00:00<00:00, 92.91it/s]\n"
     ]
    },
    {
     "name": "stdout",
     "output_type": "stream",
     "text": [
      "test | "
     ]
    },
    {
     "name": "stderr",
     "output_type": "stream",
     "text": [
      "test: 100%|██████████| 113/113 [00:01<00:00, 93.78it/s]\n"
     ]
    },
    {
     "name": "stdout",
     "output_type": "stream",
     "text": [
      "test | "
     ]
    },
    {
     "name": "stderr",
     "output_type": "stream",
     "text": [
      "train: 100%|██████████| 565/565 [00:12<00:00, 46.30it/s]\n"
     ]
    },
    {
     "name": "stdout",
     "output_type": "stream",
     "text": [
      "epoch 56 \n",
      "loss  1.3278247\n",
      "train | "
     ]
    },
    {
     "name": "stderr",
     "output_type": "stream",
     "text": [
      "test: 100%|██████████| 76/76 [00:00<00:00, 93.37it/s]\n"
     ]
    },
    {
     "name": "stdout",
     "output_type": "stream",
     "text": [
      "test | "
     ]
    },
    {
     "name": "stderr",
     "output_type": "stream",
     "text": [
      "test: 100%|██████████| 113/113 [00:01<00:00, 89.64it/s]\n"
     ]
    },
    {
     "name": "stdout",
     "output_type": "stream",
     "text": [
      "test | "
     ]
    },
    {
     "name": "stderr",
     "output_type": "stream",
     "text": [
      "train: 100%|██████████| 565/565 [00:12<00:00, 47.05it/s]\n"
     ]
    },
    {
     "name": "stdout",
     "output_type": "stream",
     "text": [
      "epoch 57 \n",
      "loss  1.3293369\n",
      "train | "
     ]
    },
    {
     "name": "stderr",
     "output_type": "stream",
     "text": [
      "test: 100%|██████████| 76/76 [00:00<00:00, 95.93it/s]\n"
     ]
    },
    {
     "name": "stdout",
     "output_type": "stream",
     "text": [
      "test | "
     ]
    },
    {
     "name": "stderr",
     "output_type": "stream",
     "text": [
      "test: 100%|██████████| 113/113 [00:01<00:00, 96.11it/s]\n"
     ]
    },
    {
     "name": "stdout",
     "output_type": "stream",
     "text": [
      "test | "
     ]
    },
    {
     "name": "stderr",
     "output_type": "stream",
     "text": [
      "train: 100%|██████████| 565/565 [00:12<00:00, 46.97it/s]\n"
     ]
    },
    {
     "name": "stdout",
     "output_type": "stream",
     "text": [
      "epoch 58 \n",
      "loss  1.309074\n",
      "train | "
     ]
    },
    {
     "name": "stderr",
     "output_type": "stream",
     "text": [
      "test: 100%|██████████| 76/76 [00:00<00:00, 92.94it/s]\n"
     ]
    },
    {
     "name": "stdout",
     "output_type": "stream",
     "text": [
      "test | "
     ]
    },
    {
     "name": "stderr",
     "output_type": "stream",
     "text": [
      "test: 100%|██████████| 113/113 [00:01<00:00, 95.14it/s]\n"
     ]
    },
    {
     "name": "stdout",
     "output_type": "stream",
     "text": [
      "test | "
     ]
    },
    {
     "name": "stderr",
     "output_type": "stream",
     "text": [
      "train: 100%|██████████| 565/565 [00:12<00:00, 46.32it/s]\n"
     ]
    },
    {
     "name": "stdout",
     "output_type": "stream",
     "text": [
      "epoch 59 \n",
      "loss  1.3019775\n",
      "train | "
     ]
    },
    {
     "name": "stderr",
     "output_type": "stream",
     "text": [
      "test: 100%|██████████| 76/76 [00:00<00:00, 91.86it/s]\n"
     ]
    },
    {
     "name": "stdout",
     "output_type": "stream",
     "text": [
      "test | "
     ]
    },
    {
     "name": "stderr",
     "output_type": "stream",
     "text": [
      "test: 100%|██████████| 113/113 [00:01<00:00, 94.48it/s]\n"
     ]
    },
    {
     "name": "stdout",
     "output_type": "stream",
     "text": [
      "test | "
     ]
    },
    {
     "name": "stderr",
     "output_type": "stream",
     "text": [
      "train: 100%|██████████| 565/565 [00:12<00:00, 46.67it/s]\n"
     ]
    },
    {
     "name": "stdout",
     "output_type": "stream",
     "text": [
      "epoch 60 \n",
      "loss  1.2946538\n",
      "train | "
     ]
    },
    {
     "name": "stderr",
     "output_type": "stream",
     "text": [
      "test: 100%|██████████| 76/76 [00:00<00:00, 87.64it/s]\n"
     ]
    },
    {
     "name": "stdout",
     "output_type": "stream",
     "text": [
      "test | "
     ]
    },
    {
     "name": "stderr",
     "output_type": "stream",
     "text": [
      "test: 100%|██████████| 113/113 [00:01<00:00, 95.96it/s]\n"
     ]
    },
    {
     "name": "stdout",
     "output_type": "stream",
     "text": [
      "test | "
     ]
    },
    {
     "name": "stderr",
     "output_type": "stream",
     "text": [
      "train: 100%|██████████| 565/565 [00:12<00:00, 46.20it/s]\n"
     ]
    },
    {
     "name": "stdout",
     "output_type": "stream",
     "text": [
      "epoch 61 \n",
      "loss  1.2950666\n",
      "train | "
     ]
    },
    {
     "name": "stderr",
     "output_type": "stream",
     "text": [
      "test: 100%|██████████| 76/76 [00:00<00:00, 93.18it/s]\n"
     ]
    },
    {
     "name": "stdout",
     "output_type": "stream",
     "text": [
      "test | "
     ]
    },
    {
     "name": "stderr",
     "output_type": "stream",
     "text": [
      "test: 100%|██████████| 113/113 [00:01<00:00, 94.88it/s]\n"
     ]
    },
    {
     "name": "stdout",
     "output_type": "stream",
     "text": [
      "test | "
     ]
    },
    {
     "name": "stderr",
     "output_type": "stream",
     "text": [
      "train: 100%|██████████| 565/565 [00:12<00:00, 46.74it/s]\n"
     ]
    },
    {
     "name": "stdout",
     "output_type": "stream",
     "text": [
      "epoch 62 \n",
      "loss  1.310478\n",
      "train | "
     ]
    },
    {
     "name": "stderr",
     "output_type": "stream",
     "text": [
      "test: 100%|██████████| 76/76 [00:00<00:00, 89.71it/s]\n"
     ]
    },
    {
     "name": "stdout",
     "output_type": "stream",
     "text": [
      "test | "
     ]
    },
    {
     "name": "stderr",
     "output_type": "stream",
     "text": [
      "test: 100%|██████████| 113/113 [00:01<00:00, 95.21it/s]\n"
     ]
    },
    {
     "name": "stdout",
     "output_type": "stream",
     "text": [
      "test | "
     ]
    },
    {
     "name": "stderr",
     "output_type": "stream",
     "text": [
      "train: 100%|██████████| 565/565 [00:12<00:00, 45.90it/s]\n"
     ]
    },
    {
     "name": "stdout",
     "output_type": "stream",
     "text": [
      "epoch 63 \n",
      "loss  1.3100775\n",
      "train | "
     ]
    },
    {
     "name": "stderr",
     "output_type": "stream",
     "text": [
      "test: 100%|██████████| 76/76 [00:00<00:00, 92.07it/s]\n"
     ]
    },
    {
     "name": "stdout",
     "output_type": "stream",
     "text": [
      "test | "
     ]
    },
    {
     "name": "stderr",
     "output_type": "stream",
     "text": [
      "test: 100%|██████████| 113/113 [00:01<00:00, 93.44it/s]\n"
     ]
    },
    {
     "name": "stdout",
     "output_type": "stream",
     "text": [
      "test | "
     ]
    },
    {
     "name": "stderr",
     "output_type": "stream",
     "text": [
      "train: 100%|██████████| 565/565 [00:12<00:00, 46.26it/s]\n"
     ]
    },
    {
     "name": "stdout",
     "output_type": "stream",
     "text": [
      "epoch 64 \n",
      "loss  1.2812476\n",
      "train | "
     ]
    },
    {
     "name": "stderr",
     "output_type": "stream",
     "text": [
      "test: 100%|██████████| 76/76 [00:00<00:00, 89.32it/s]\n"
     ]
    },
    {
     "name": "stdout",
     "output_type": "stream",
     "text": [
      "test | "
     ]
    },
    {
     "name": "stderr",
     "output_type": "stream",
     "text": [
      "test: 100%|██████████| 113/113 [00:01<00:00, 94.72it/s]\n"
     ]
    },
    {
     "name": "stdout",
     "output_type": "stream",
     "text": [
      "test | "
     ]
    },
    {
     "name": "stderr",
     "output_type": "stream",
     "text": [
      "train: 100%|██████████| 565/565 [00:12<00:00, 45.37it/s]\n"
     ]
    },
    {
     "name": "stdout",
     "output_type": "stream",
     "text": [
      "epoch 65 \n",
      "loss  1.283883\n",
      "train | "
     ]
    },
    {
     "name": "stderr",
     "output_type": "stream",
     "text": [
      "test: 100%|██████████| 76/76 [00:00<00:00, 93.60it/s]\n"
     ]
    },
    {
     "name": "stdout",
     "output_type": "stream",
     "text": [
      "test | "
     ]
    },
    {
     "name": "stderr",
     "output_type": "stream",
     "text": [
      "test: 100%|██████████| 113/113 [00:01<00:00, 95.31it/s]\n"
     ]
    },
    {
     "name": "stdout",
     "output_type": "stream",
     "text": [
      "test | "
     ]
    },
    {
     "name": "stderr",
     "output_type": "stream",
     "text": [
      "train: 100%|██████████| 565/565 [00:12<00:00, 46.32it/s]\n"
     ]
    },
    {
     "name": "stdout",
     "output_type": "stream",
     "text": [
      "epoch 66 \n",
      "loss  1.2895018\n",
      "train | "
     ]
    },
    {
     "name": "stderr",
     "output_type": "stream",
     "text": [
      "test: 100%|██████████| 76/76 [00:00<00:00, 90.07it/s]\n"
     ]
    },
    {
     "name": "stdout",
     "output_type": "stream",
     "text": [
      "test | "
     ]
    },
    {
     "name": "stderr",
     "output_type": "stream",
     "text": [
      "test: 100%|██████████| 113/113 [00:01<00:00, 95.42it/s]\n"
     ]
    },
    {
     "name": "stdout",
     "output_type": "stream",
     "text": [
      "test | "
     ]
    },
    {
     "name": "stderr",
     "output_type": "stream",
     "text": [
      "train: 100%|██████████| 565/565 [00:12<00:00, 45.25it/s]\n"
     ]
    },
    {
     "name": "stdout",
     "output_type": "stream",
     "text": [
      "epoch 67 \n",
      "loss  1.2781541\n",
      "train | "
     ]
    },
    {
     "name": "stderr",
     "output_type": "stream",
     "text": [
      "test: 100%|██████████| 76/76 [00:00<00:00, 91.40it/s]\n"
     ]
    },
    {
     "name": "stdout",
     "output_type": "stream",
     "text": [
      "test | "
     ]
    },
    {
     "name": "stderr",
     "output_type": "stream",
     "text": [
      "test: 100%|██████████| 113/113 [00:01<00:00, 93.95it/s]\n"
     ]
    },
    {
     "name": "stdout",
     "output_type": "stream",
     "text": [
      "test | "
     ]
    },
    {
     "name": "stderr",
     "output_type": "stream",
     "text": [
      "train: 100%|██████████| 565/565 [00:12<00:00, 46.19it/s]\n"
     ]
    },
    {
     "name": "stdout",
     "output_type": "stream",
     "text": [
      "epoch 68 \n",
      "loss  1.2774405\n",
      "train | "
     ]
    },
    {
     "name": "stderr",
     "output_type": "stream",
     "text": [
      "test: 100%|██████████| 76/76 [00:00<00:00, 89.32it/s]\n"
     ]
    },
    {
     "name": "stdout",
     "output_type": "stream",
     "text": [
      "test | "
     ]
    },
    {
     "name": "stderr",
     "output_type": "stream",
     "text": [
      "test: 100%|██████████| 113/113 [00:01<00:00, 95.35it/s]\n"
     ]
    },
    {
     "name": "stdout",
     "output_type": "stream",
     "text": [
      "test | "
     ]
    },
    {
     "name": "stderr",
     "output_type": "stream",
     "text": [
      "train: 100%|██████████| 565/565 [00:12<00:00, 45.32it/s]\n"
     ]
    },
    {
     "name": "stdout",
     "output_type": "stream",
     "text": [
      "epoch 69 \n",
      "loss  1.270194\n",
      "train | "
     ]
    },
    {
     "name": "stderr",
     "output_type": "stream",
     "text": [
      "test: 100%|██████████| 76/76 [00:00<00:00, 92.38it/s]\n"
     ]
    },
    {
     "name": "stdout",
     "output_type": "stream",
     "text": [
      "test | "
     ]
    },
    {
     "name": "stderr",
     "output_type": "stream",
     "text": [
      "test: 100%|██████████| 113/113 [00:01<00:00, 94.67it/s]\n"
     ]
    },
    {
     "name": "stdout",
     "output_type": "stream",
     "text": [
      "test | "
     ]
    },
    {
     "name": "stderr",
     "output_type": "stream",
     "text": [
      "train: 100%|██████████| 565/565 [00:12<00:00, 46.55it/s]\n"
     ]
    },
    {
     "name": "stdout",
     "output_type": "stream",
     "text": [
      "epoch 70 \n",
      "loss  1.2893804\n",
      "train | "
     ]
    },
    {
     "name": "stderr",
     "output_type": "stream",
     "text": [
      "test: 100%|██████████| 76/76 [00:00<00:00, 93.37it/s]\n"
     ]
    },
    {
     "name": "stdout",
     "output_type": "stream",
     "text": [
      "test | "
     ]
    },
    {
     "name": "stderr",
     "output_type": "stream",
     "text": [
      "test: 100%|██████████| 113/113 [00:01<00:00, 92.86it/s]\n"
     ]
    },
    {
     "name": "stdout",
     "output_type": "stream",
     "text": [
      "test | "
     ]
    },
    {
     "name": "stderr",
     "output_type": "stream",
     "text": [
      "train: 100%|██████████| 565/565 [00:12<00:00, 45.94it/s]\n"
     ]
    },
    {
     "name": "stdout",
     "output_type": "stream",
     "text": [
      "epoch 71 \n",
      "loss  1.2811695\n",
      "train | "
     ]
    },
    {
     "name": "stderr",
     "output_type": "stream",
     "text": [
      "test: 100%|██████████| 76/76 [00:00<00:00, 85.64it/s]\n"
     ]
    },
    {
     "name": "stdout",
     "output_type": "stream",
     "text": [
      "test | "
     ]
    },
    {
     "name": "stderr",
     "output_type": "stream",
     "text": [
      "test: 100%|██████████| 113/113 [00:01<00:00, 88.43it/s]\n"
     ]
    },
    {
     "name": "stdout",
     "output_type": "stream",
     "text": [
      "test | "
     ]
    },
    {
     "name": "stderr",
     "output_type": "stream",
     "text": [
      "train: 100%|██████████| 565/565 [00:11<00:00, 47.21it/s]\n"
     ]
    },
    {
     "name": "stdout",
     "output_type": "stream",
     "text": [
      "epoch 72 \n",
      "loss  1.2838249\n",
      "train | "
     ]
    },
    {
     "name": "stderr",
     "output_type": "stream",
     "text": [
      "test: 100%|██████████| 76/76 [00:00<00:00, 93.40it/s]\n"
     ]
    },
    {
     "name": "stdout",
     "output_type": "stream",
     "text": [
      "test | "
     ]
    },
    {
     "name": "stderr",
     "output_type": "stream",
     "text": [
      "test: 100%|██████████| 113/113 [00:01<00:00, 94.52it/s]\n"
     ]
    },
    {
     "name": "stdout",
     "output_type": "stream",
     "text": [
      "test | "
     ]
    },
    {
     "name": "stderr",
     "output_type": "stream",
     "text": [
      "train: 100%|██████████| 565/565 [00:12<00:00, 46.38it/s]\n"
     ]
    },
    {
     "name": "stdout",
     "output_type": "stream",
     "text": [
      "epoch 73 \n",
      "loss  1.2783425\n",
      "train | "
     ]
    },
    {
     "name": "stderr",
     "output_type": "stream",
     "text": [
      "test: 100%|██████████| 76/76 [00:00<00:00, 94.90it/s]\n"
     ]
    },
    {
     "name": "stdout",
     "output_type": "stream",
     "text": [
      "test | "
     ]
    },
    {
     "name": "stderr",
     "output_type": "stream",
     "text": [
      "test: 100%|██████████| 113/113 [00:01<00:00, 94.73it/s]\n"
     ]
    },
    {
     "name": "stdout",
     "output_type": "stream",
     "text": [
      "test | "
     ]
    },
    {
     "name": "stderr",
     "output_type": "stream",
     "text": [
      "train: 100%|██████████| 565/565 [00:12<00:00, 45.97it/s]\n"
     ]
    },
    {
     "name": "stdout",
     "output_type": "stream",
     "text": [
      "epoch 74 \n",
      "loss  1.2598838\n",
      "train | "
     ]
    },
    {
     "name": "stderr",
     "output_type": "stream",
     "text": [
      "test: 100%|██████████| 76/76 [00:00<00:00, 92.91it/s]\n"
     ]
    },
    {
     "name": "stdout",
     "output_type": "stream",
     "text": [
      "test | "
     ]
    },
    {
     "name": "stderr",
     "output_type": "stream",
     "text": [
      "test: 100%|██████████| 113/113 [00:01<00:00, 92.71it/s]\n"
     ]
    },
    {
     "name": "stdout",
     "output_type": "stream",
     "text": [
      "test | "
     ]
    },
    {
     "name": "stderr",
     "output_type": "stream",
     "text": [
      "train: 100%|██████████| 565/565 [00:12<00:00, 45.96it/s]\n"
     ]
    },
    {
     "name": "stdout",
     "output_type": "stream",
     "text": [
      "epoch 75 \n",
      "loss  1.2612196\n",
      "train | "
     ]
    },
    {
     "name": "stderr",
     "output_type": "stream",
     "text": [
      "test: 100%|██████████| 76/76 [00:00<00:00, 94.58it/s]\n"
     ]
    },
    {
     "name": "stdout",
     "output_type": "stream",
     "text": [
      "test | "
     ]
    },
    {
     "name": "stderr",
     "output_type": "stream",
     "text": [
      "test: 100%|██████████| 113/113 [00:01<00:00, 93.20it/s]\n"
     ]
    },
    {
     "name": "stdout",
     "output_type": "stream",
     "text": [
      "test | "
     ]
    },
    {
     "name": "stderr",
     "output_type": "stream",
     "text": [
      "train: 100%|██████████| 565/565 [00:12<00:00, 46.22it/s]\n"
     ]
    },
    {
     "name": "stdout",
     "output_type": "stream",
     "text": [
      "epoch 76 \n",
      "loss  1.2605739\n",
      "train | "
     ]
    },
    {
     "name": "stderr",
     "output_type": "stream",
     "text": [
      "test: 100%|██████████| 76/76 [00:00<00:00, 94.35it/s]\n"
     ]
    },
    {
     "name": "stdout",
     "output_type": "stream",
     "text": [
      "test | "
     ]
    },
    {
     "name": "stderr",
     "output_type": "stream",
     "text": [
      "test: 100%|██████████| 113/113 [00:01<00:00, 92.88it/s]\n"
     ]
    },
    {
     "name": "stdout",
     "output_type": "stream",
     "text": [
      "test | "
     ]
    },
    {
     "name": "stderr",
     "output_type": "stream",
     "text": [
      "train: 100%|██████████| 565/565 [00:12<00:00, 45.76it/s]\n"
     ]
    },
    {
     "name": "stdout",
     "output_type": "stream",
     "text": [
      "epoch 77 \n",
      "loss  1.2446107\n",
      "train | "
     ]
    },
    {
     "name": "stderr",
     "output_type": "stream",
     "text": [
      "test: 100%|██████████| 76/76 [00:00<00:00, 94.14it/s]\n"
     ]
    },
    {
     "name": "stdout",
     "output_type": "stream",
     "text": [
      "test | "
     ]
    },
    {
     "name": "stderr",
     "output_type": "stream",
     "text": [
      "test: 100%|██████████| 113/113 [00:01<00:00, 94.98it/s]\n"
     ]
    },
    {
     "name": "stdout",
     "output_type": "stream",
     "text": [
      "test | "
     ]
    },
    {
     "name": "stderr",
     "output_type": "stream",
     "text": [
      "train: 100%|██████████| 565/565 [00:12<00:00, 44.24it/s]\n"
     ]
    },
    {
     "name": "stdout",
     "output_type": "stream",
     "text": [
      "epoch 78 \n",
      "loss  1.2473226\n",
      "train | "
     ]
    },
    {
     "name": "stderr",
     "output_type": "stream",
     "text": [
      "test: 100%|██████████| 76/76 [00:00<00:00, 92.76it/s]\n"
     ]
    },
    {
     "name": "stdout",
     "output_type": "stream",
     "text": [
      "test | "
     ]
    },
    {
     "name": "stderr",
     "output_type": "stream",
     "text": [
      "test: 100%|██████████| 113/113 [00:01<00:00, 92.79it/s]\n"
     ]
    },
    {
     "name": "stdout",
     "output_type": "stream",
     "text": [
      "test | "
     ]
    },
    {
     "name": "stderr",
     "output_type": "stream",
     "text": [
      "train: 100%|██████████| 565/565 [00:12<00:00, 46.53it/s]\n"
     ]
    },
    {
     "name": "stdout",
     "output_type": "stream",
     "text": [
      "epoch 79 \n",
      "loss  1.2558862\n",
      "train | "
     ]
    },
    {
     "name": "stderr",
     "output_type": "stream",
     "text": [
      "test: 100%|██████████| 76/76 [00:00<00:00, 92.84it/s]\n"
     ]
    },
    {
     "name": "stdout",
     "output_type": "stream",
     "text": [
      "test | "
     ]
    },
    {
     "name": "stderr",
     "output_type": "stream",
     "text": [
      "test: 100%|██████████| 113/113 [00:01<00:00, 94.48it/s]\n"
     ]
    },
    {
     "name": "stdout",
     "output_type": "stream",
     "text": [
      "test | "
     ]
    }
   ],
   "source": [
    "# run\n",
    "for i_run in range(1):\n",
    "    run(data_path, loss_metric, auroc_train, auprc_train, f1_score_train, accuracy_train, recall_train, precision_train,\n",
    "        auroc_test, auprc_test, f1_score_test, accuracy_test, recall_test, precision_test)"
   ]
  },
  {
   "cell_type": "markdown",
   "metadata": {},
   "source": [
    "### Metrics"
   ]
  },
  {
   "cell_type": "code",
   "execution_count": null,
   "metadata": {
    "execution": {
     "iopub.execute_input": "2025-04-19T13:09:12.440428Z",
     "iopub.status.busy": "2025-04-19T13:09:12.439738Z",
     "iopub.status.idle": "2025-04-19T13:09:12.444082Z",
     "shell.execute_reply": "2025-04-19T13:09:12.443337Z",
     "shell.execute_reply.started": "2025-04-19T13:09:12.440401Z"
    },
    "trusted": true
   },
   "outputs": [],
   "source": [
    "# Создаём список эпох (по длине списка метрик)\n",
    "epochs = list(range(len(loss_metric)))"
   ]
  },
  {
   "cell_type": "code",
   "execution_count": 17,
   "metadata": {
    "execution": {
     "iopub.execute_input": "2025-04-19T13:09:14.775899Z",
     "iopub.status.busy": "2025-04-19T13:09:14.775560Z",
     "iopub.status.idle": "2025-04-19T13:09:15.054286Z",
     "shell.execute_reply": "2025-04-19T13:09:15.053426Z",
     "shell.execute_reply.started": "2025-04-19T13:09:14.775875Z"
    },
    "trusted": true
   },
   "outputs": [
    {
     "data": {
      "image/png": "[encoded data removed]",
      "text/plain": [
       "<Figure size 640x480 with 1 Axes>"
      ]
     },
     "metadata": {},
     "output_type": "display_data"
    }
   ],
   "source": [
    "# Loss\n",
    "plt.plot(epochs, loss_metric, label=\"Train Loss\", color=\"red\", marker=\"o\")\n",
    "plt.title(\"Loss\")\n",
    "plt.xlabel(\"Epochs\")\n",
    "plt.ylabel(\"Loss\")\n",
    "plt.legend()\n",
    "plt.grid()\n",
    "plt.show()"
   ]
  },
  {
   "cell_type": "code",
   "execution_count": 18,
   "metadata": {
    "execution": {
     "iopub.execute_input": "2025-04-19T13:09:18.457832Z",
     "iopub.status.busy": "2025-04-19T13:09:18.457476Z",
     "iopub.status.idle": "2025-04-19T13:09:18.462444Z",
     "shell.execute_reply": "2025-04-19T13:09:18.461534Z",
     "shell.execute_reply.started": "2025-04-19T13:09:18.457803Z"
    },
    "trusted": true
   },
   "outputs": [
    {
     "name": "stdout",
     "output_type": "stream",
     "text": [
      "Среднее значение loss: 1.4219634532928467\n"
     ]
    }
   ],
   "source": [
    "loss_metric = np.array(loss_metric)\n",
    "print(f\"Среднее значение loss: {np.mean(loss_metric)}\")"
   ]
  },
  {
   "cell_type": "code",
   "execution_count": 19,
   "metadata": {
    "execution": {
     "iopub.execute_input": "2025-04-19T13:09:23.299925Z",
     "iopub.status.busy": "2025-04-19T13:09:23.299639Z",
     "iopub.status.idle": "2025-04-19T13:09:23.482206Z",
     "shell.execute_reply": "2025-04-19T13:09:23.481352Z",
     "shell.execute_reply.started": "2025-04-19T13:09:23.299904Z"
    },
    "trusted": true
   },
   "outputs": [
    {
     "data": {
      "image/png": "[encoded data removed]",
      "text/plain": [
       "<Figure size 640x480 with 1 Axes>"
      ]
     },
     "metadata": {},
     "output_type": "display_data"
    }
   ],
   "source": [
    "# AUROC\n",
    "plt.plot(epochs, auroc_train, label=\"Train AUROC\", color=\"blue\", marker=\"o\")\n",
    "plt.plot(epochs, auroc_test[1::2], label=\"Test AUROC\", color=\"red\")\n",
    "plt.title(\"AUROC\")\n",
    "plt.xlabel(\"Epochs\")\n",
    "plt.ylabel(\"AUROC\")\n",
    "plt.legend()\n",
    "plt.grid()\n",
    "plt.show()"
   ]
  },
  {
   "cell_type": "code",
   "execution_count": 20,
   "metadata": {
    "execution": {
     "iopub.execute_input": "2025-04-19T13:09:26.616054Z",
     "iopub.status.busy": "2025-04-19T13:09:26.615752Z",
     "iopub.status.idle": "2025-04-19T13:09:26.621493Z",
     "shell.execute_reply": "2025-04-19T13:09:26.620573Z",
     "shell.execute_reply.started": "2025-04-19T13:09:26.616032Z"
    },
    "trusted": true
   },
   "outputs": [
    {
     "name": "stdout",
     "output_type": "stream",
     "text": [
      "Среднее значение auroc при обучении модели 0.8383803472558234\n",
      "Среднее значение auroc при тестировании модели 0.8383803472558234\n"
     ]
    }
   ],
   "source": [
    "auroc_train = np.array(auroc_train)\n",
    "print(f\"Среднее значение auroc при обучении модели {np.mean(auroc_train)}\")\n",
    "auroc_test = np.array(auroc_test[1::2])\n",
    "print(f\"Среднее значение auroc при тестировании модели {np.mean(auroc_train)}\")"
   ]
  },
  {
   "cell_type": "code",
   "execution_count": 27,
   "metadata": {
    "execution": {
     "iopub.execute_input": "2025-04-19T13:16:37.696089Z",
     "iopub.status.busy": "2025-04-19T13:16:37.695754Z",
     "iopub.status.idle": "2025-04-19T13:16:37.883196Z",
     "shell.execute_reply": "2025-04-19T13:16:37.882491Z",
     "shell.execute_reply.started": "2025-04-19T13:16:37.696066Z"
    },
    "trusted": true
   },
   "outputs": [
    {
     "data": {
      "image/png": "[encoded data removed]",
      "text/plain": [
       "<Figure size 640x480 with 1 Axes>"
      ]
     },
     "metadata": {},
     "output_type": "display_data"
    }
   ],
   "source": [
    "plt.plot(epochs, recall_train, label=\"Train recall\", color=\"blue\", marker=\"o\")\n",
    "plt.plot(epochs, recall_test[1::2], label=\"Test recall\", color=\"red\")\n",
    "plt.title(\"Recall\")\n",
    "plt.xlabel(\"Epochs\")\n",
    "plt.ylabel(\"Recall Score\")\n",
    "plt.legend()\n",
    "plt.grid()\n",
    "plt.show()"
   ]
  },
  {
   "cell_type": "code",
   "execution_count": 28,
   "metadata": {
    "execution": {
     "iopub.execute_input": "2025-04-19T13:17:45.539152Z",
     "iopub.status.busy": "2025-04-19T13:17:45.538836Z",
     "iopub.status.idle": "2025-04-19T13:17:45.543998Z",
     "shell.execute_reply": "2025-04-19T13:17:45.543203Z",
     "shell.execute_reply.started": "2025-04-19T13:17:45.539132Z"
    },
    "trusted": true
   },
   "outputs": [
    {
     "name": "stdout",
     "output_type": "stream",
     "text": [
      "Среднее значение Recall при тестировании модели 0.4235384327150765\n"
     ]
    }
   ],
   "source": [
    "recall_data_test = np.array(recall_test[1::2])\n",
    "print(f\"Среднее значение Recall при тестировании модели {np.mean(recall_data_test)}\")"
   ]
  },
  {
   "cell_type": "code",
   "execution_count": 29,
   "metadata": {
    "execution": {
     "iopub.execute_input": "2025-04-19T13:19:10.775360Z",
     "iopub.status.busy": "2025-04-19T13:19:10.775068Z",
     "iopub.status.idle": "2025-04-19T13:19:10.979195Z",
     "shell.execute_reply": "2025-04-19T13:19:10.978387Z",
     "shell.execute_reply.started": "2025-04-19T13:19:10.775340Z"
    },
    "trusted": true
   },
   "outputs": [
    {
     "data": {
      "image/png": "[encoded data removed]",
      "text/plain": [
       "<Figure size 640x480 with 1 Axes>"
      ]
     },
     "metadata": {},
     "output_type": "display_data"
    }
   ],
   "source": [
    "plt.plot(epochs, precision_train, label=\"Train precision\", color=\"blue\", marker=\"o\")\n",
    "plt.plot(epochs, precision_test[1::2], label=\"Test precision\", color=\"red\")\n",
    "plt.title(\"Precision\")\n",
    "plt.xlabel(\"Epochs\")\n",
    "plt.ylabel(\"Presicion Score\")\n",
    "plt.legend()\n",
    "plt.grid()\n",
    "plt.show()"
   ]
  },
  {
   "cell_type": "code",
   "execution_count": 30,
   "metadata": {
    "execution": {
     "iopub.execute_input": "2025-04-19T13:19:53.104515Z",
     "iopub.status.busy": "2025-04-19T13:19:53.104198Z",
     "iopub.status.idle": "2025-04-19T13:19:53.109223Z",
     "shell.execute_reply": "2025-04-19T13:19:53.108394Z",
     "shell.execute_reply.started": "2025-04-19T13:19:53.104486Z"
    },
    "trusted": true
   },
   "outputs": [
    {
     "name": "stdout",
     "output_type": "stream",
     "text": [
      "Среднее значение Recall при тестировании модели 0.46510420344469827\n"
     ]
    }
   ],
   "source": [
    "precision_data_test = np.array(precision_test[1::2])\n",
    "print(f\"Среднее значение Recall при тестировании модели {np.mean(precision_data_test)}\")"
   ]
  },
  {
   "cell_type": "code",
   "execution_count": 21,
   "metadata": {
    "execution": {
     "iopub.execute_input": "2025-04-19T13:09:29.241308Z",
     "iopub.status.busy": "2025-04-19T13:09:29.241028Z",
     "iopub.status.idle": "2025-04-19T13:09:29.442648Z",
     "shell.execute_reply": "2025-04-19T13:09:29.441905Z",
     "shell.execute_reply.started": "2025-04-19T13:09:29.241287Z"
    },
    "trusted": true
   },
   "outputs": [
    {
     "data": {
      "image/png": "[encoded data removed]",
      "text/plain": [
       "<Figure size 640x480 with 1 Axes>"
      ]
     },
     "metadata": {},
     "output_type": "display_data"
    }
   ],
   "source": [
    "# AUPRC\n",
    "plt.plot(epochs, auprc_train, label=\"Train AUPRC\", color=\"blue\", marker=\"o\")\n",
    "plt.plot(epochs, auprc_test[1::2], label=\"Test AUPRC\", color=\"red\")\n",
    "plt.title(\"Average Precision-Recall Curve\")\n",
    "plt.xlabel(\"Epochs\")\n",
    "plt.ylabel(\"AUPRC Score\")\n",
    "plt.legend()\n",
    "plt.grid()\n",
    "plt.show()"
   ]
  },
  {
   "cell_type": "code",
   "execution_count": 22,
   "metadata": {
    "execution": {
     "iopub.execute_input": "2025-04-19T13:09:33.903016Z",
     "iopub.status.busy": "2025-04-19T13:09:33.902711Z",
     "iopub.status.idle": "2025-04-19T13:09:33.907944Z",
     "shell.execute_reply": "2025-04-19T13:09:33.906991Z",
     "shell.execute_reply.started": "2025-04-19T13:09:33.902992Z"
    },
    "trusted": true
   },
   "outputs": [
    {
     "name": "stdout",
     "output_type": "stream",
     "text": [
      "Среднее значение Average Precision-Recall Curve при обучении модели 0.4858277447630748\n",
      "Среднее значение Average Precision-Recall Curve при тестировании модели 0.4237783191745019\n"
     ]
    }
   ],
   "source": [
    "auprc_train = np.array(auprc_train)\n",
    "print(f\"Среднее значение Average Precision-Recall Curve при обучении модели {np.mean(auprc_train)}\")\n",
    "auprc_test = np.array(auprc_test[1::2])\n",
    "print(f\"Среднее значение Average Precision-Recall Curve при тестировании модели {np.mean(auprc_test)}\")"
   ]
  },
  {
   "cell_type": "code",
   "execution_count": 23,
   "metadata": {
    "execution": {
     "iopub.execute_input": "2025-04-19T13:09:37.013948Z",
     "iopub.status.busy": "2025-04-19T13:09:37.013632Z",
     "iopub.status.idle": "2025-04-19T13:09:37.259996Z",
     "shell.execute_reply": "2025-04-19T13:09:37.259118Z",
     "shell.execute_reply.started": "2025-04-19T13:09:37.013924Z"
    },
    "trusted": true
   },
   "outputs": [
    {
     "data": {
      "image/png": "[encoded data removed]",
      "text/plain": [
       "<Figure size 640x480 with 1 Axes>"
      ]
     },
     "metadata": {},
     "output_type": "display_data"
    }
   ],
   "source": [
    "# F1-score & Accuracy\n",
    "plt.plot(epochs, f1_score_train, label=\"Train F1-score\", color=\"purple\")\n",
    "plt.plot(epochs, f1_score_test[1::2], label=\"Test F1-score\", color=\"violet\", linestyle=\"dashed\")\n",
    "plt.plot(epochs, accuracy_train, label=\"Train Accuracy\", color=\"orange\")\n",
    "plt.plot(epochs, accuracy_test[1::2], label=\"Test Accuracy\", color=\"gold\", linestyle=\"dashed\")\n",
    "plt.title(\"F1-score & Accuracy\")\n",
    "plt.xlabel(\"Epochs\")\n",
    "plt.ylabel(\"Score\")\n",
    "plt.legend()\n",
    "plt.grid()\n",
    "\n",
    "# Отображаем графики\n",
    "plt.tight_layout()\n",
    "plt.show()\n",
    "plt.show()"
   ]
  },
  {
   "cell_type": "code",
   "execution_count": 24,
   "metadata": {
    "execution": {
     "iopub.execute_input": "2025-04-19T13:09:43.681722Z",
     "iopub.status.busy": "2025-04-19T13:09:43.681400Z",
     "iopub.status.idle": "2025-04-19T13:09:43.687409Z",
     "shell.execute_reply": "2025-04-19T13:09:43.686680Z",
     "shell.execute_reply.started": "2025-04-19T13:09:43.681698Z"
    },
    "trusted": true
   },
   "outputs": [
    {
     "name": "stdout",
     "output_type": "stream",
     "text": [
      "Среднее значение F1 при обучении модели 0.43362661533441377\n",
      "Среднее значение F1 при тестировании модели 0.429154716567297\n"
     ]
    }
   ],
   "source": [
    "f1_score_train = np.array(f1_score_train)\n",
    "print(f\"Среднее значение F1 при обучении модели {np.mean(f1_score_train)}\")\n",
    "f1_score_test = np.array(f1_score_test[1::2])\n",
    "print(f\"Среднее значение F1 при тестировании модели {np.mean(f1_score_test)}\")"
   ]
  },
  {
   "cell_type": "code",
   "execution_count": 25,
   "metadata": {
    "execution": {
     "iopub.execute_input": "2025-04-19T13:09:49.860182Z",
     "iopub.status.busy": "2025-04-19T13:09:49.859859Z",
     "iopub.status.idle": "2025-04-19T13:09:49.865397Z",
     "shell.execute_reply": "2025-04-19T13:09:49.864545Z",
     "shell.execute_reply.started": "2025-04-19T13:09:49.860156Z"
    },
    "trusted": true
   },
   "outputs": [
    {
     "name": "stdout",
     "output_type": "stream",
     "text": [
      "Среднее значение Accuracy при обучении модели 0.4613493448571983\n",
      "Среднее значение Accuracy при тестировании модели 0.44785956533776294\n"
     ]
    }
   ],
   "source": [
    "accuracy_train = np.array(accuracy_train)\n",
    "print(f\"Среднее значение Accuracy при обучении модели {np.mean(accuracy_train)}\")\n",
    "accuracy_test = np.array(accuracy_test[1::2])\n",
    "print(f\"Среднее значение Accuracy при тестировании модели {np.mean(accuracy_test)}\")"
   ]
  },
  {
   "cell_type": "code",
   "execution_count": null,
   "metadata": {
    "execution": {
     "iopub.execute_input": "2025-04-19T13:11:55.064196Z",
     "iopub.status.busy": "2025-04-19T13:11:55.063826Z",
     "iopub.status.idle": "2025-04-19T13:11:55.494066Z",
     "shell.execute_reply": "2025-04-19T13:11:55.493217Z",
     "shell.execute_reply.started": "2025-04-19T13:11:55.064167Z"
    },
    "trusted": true
   },
   "outputs": [
    {
     "data": {
      "image/png": "[encoded data removed]",
      "text/plain": [
       "<Figure size 1200x500 with 2 Axes>"
      ]
     },
     "metadata": {},
     "output_type": "display_data"
    }
   ],
   "source": [
    "fig, axs = plt.subplots(1, 2, figsize=(12, 5))\n",
    "\n",
    "# График Loss\n",
    "axs[0].plot(epochs, loss_metric, label=\"Train Loss\", color=\"red\", marker=\"o\")\n",
    "axs[0].set_title(\"Loss\")\n",
    "axs[0].set_xlabel(\"Epochs\")\n",
    "axs[0].set_ylabel(\"Loss\")\n",
    "axs[0].legend()\n",
    "axs[0].grid()\n",
    "\n",
    "# График Accuracy\n",
    "axs[1].plot(epochs, accuracy_train, label=\"Train Accuracy\", color=\"blue\", marker=\"o\")\n",
    "axs[1].plot(epochs, accuracy_test, label=\"Test Accuracy\", color=\"cyan\", linestyle=\"dashed\", marker=\"s\")\n",
    "axs[1].set_title(\"Accuracy\")\n",
    "axs[1].set_xlabel(\"Epochs\")\n",
    "axs[1].set_ylabel(\"Accuracy\")\n",
    "axs[1].legend()\n",
    "axs[1].grid()\n",
    "\n",
    "plt.tight_layout()\n",
    "plt.show()\n"
   ]
  }
 ],
 "metadata": {
  "kaggle": {
   "accelerator": "gpu",
   "dataSources": [
    {
     "datasetId": 6996180,
     "sourceId": 11204883,
     "sourceType": "datasetVersion"
    }
   ],
   "dockerImageVersionId": 30919,
   "isGpuEnabled": true,
   "isInternetEnabled": true,
   "language": "python",
   "sourceType": "notebook"
  },
  "kernelspec": {
   "display_name": "Python 3",
   "language": "python",
   "name": "python3"
  },
  "language_info": {
   "codemirror_mode": {
    "name": "ipython",
    "version": 3
   },
   "file_extension": ".py",
   "mimetype": "text/x-python",
   "name": "python",
   "nbconvert_exporter": "python",
   "pygments_lexer": "ipython3",
   "version": "3.10.12"
  }
 },
 "nbformat": 4,
 "nbformat_minor": 4
}
